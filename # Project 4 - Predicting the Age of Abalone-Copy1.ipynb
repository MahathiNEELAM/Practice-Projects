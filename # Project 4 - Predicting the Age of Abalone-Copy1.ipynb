{
 "cells": [
  {
   "cell_type": "markdown",
   "id": "0f315867",
   "metadata": {},
   "source": [
    "# Project 4-Predicting Age of Abalone"
   ]
  },
  {
   "cell_type": "markdown",
   "id": "5816b787",
   "metadata": {},
   "source": [
    "# Problem Statement:\n",
    "The age of abalone is determined by cutting the shell through the cone, staining it, and counting the number of rings \n",
    "through a microscope--a boring and time-consuming task.\n",
    "\n",
    "Other measurements, which are easier to obtain, are used to predict the age.Further information, such as weather patterns and location (hence food availability) may be required tosolve the problem."
   ]
  },
  {
   "cell_type": "markdown",
   "id": "72c8477b",
   "metadata": {},
   "source": [
    "# Importing all the necessary Libraries:"
   ]
  },
  {
   "cell_type": "code",
   "execution_count": 1,
   "id": "f3ca5f50",
   "metadata": {},
   "outputs": [],
   "source": [
    "import pandas as pd \n",
    "import numpy as np\n",
    "import matplotlib.pyplot as plt\n",
    "import seaborn as sns\n",
    "\n",
    "import warnings\n",
    "warnings.filterwarnings('ignore')"
   ]
  },
  {
   "cell_type": "markdown",
   "id": "cd87ea36",
   "metadata": {},
   "source": [
    "# Loading the Data Set:"
   ]
  },
  {
   "cell_type": "code",
   "execution_count": 2,
   "id": "f3c002ea",
   "metadata": {},
   "outputs": [
    {
     "data": {
      "text/html": [
       "<div>\n",
       "<style scoped>\n",
       "    .dataframe tbody tr th:only-of-type {\n",
       "        vertical-align: middle;\n",
       "    }\n",
       "\n",
       "    .dataframe tbody tr th {\n",
       "        vertical-align: top;\n",
       "    }\n",
       "\n",
       "    .dataframe thead th {\n",
       "        text-align: right;\n",
       "    }\n",
       "</style>\n",
       "<table border=\"1\" class=\"dataframe\">\n",
       "  <thead>\n",
       "    <tr style=\"text-align: right;\">\n",
       "      <th></th>\n",
       "      <th>Sex</th>\n",
       "      <th>Length</th>\n",
       "      <th>Diameter</th>\n",
       "      <th>Height</th>\n",
       "      <th>Whole weight</th>\n",
       "      <th>Shucked weight</th>\n",
       "      <th>Viscera weight</th>\n",
       "      <th>Shell weight</th>\n",
       "      <th>Rings</th>\n",
       "    </tr>\n",
       "  </thead>\n",
       "  <tbody>\n",
       "    <tr>\n",
       "      <th>0</th>\n",
       "      <td>M</td>\n",
       "      <td>0.455</td>\n",
       "      <td>0.365</td>\n",
       "      <td>0.095</td>\n",
       "      <td>0.5140</td>\n",
       "      <td>0.2245</td>\n",
       "      <td>0.1010</td>\n",
       "      <td>0.1500</td>\n",
       "      <td>15</td>\n",
       "    </tr>\n",
       "    <tr>\n",
       "      <th>1</th>\n",
       "      <td>M</td>\n",
       "      <td>0.350</td>\n",
       "      <td>0.265</td>\n",
       "      <td>0.090</td>\n",
       "      <td>0.2255</td>\n",
       "      <td>0.0995</td>\n",
       "      <td>0.0485</td>\n",
       "      <td>0.0700</td>\n",
       "      <td>7</td>\n",
       "    </tr>\n",
       "    <tr>\n",
       "      <th>2</th>\n",
       "      <td>F</td>\n",
       "      <td>0.530</td>\n",
       "      <td>0.420</td>\n",
       "      <td>0.135</td>\n",
       "      <td>0.6770</td>\n",
       "      <td>0.2565</td>\n",
       "      <td>0.1415</td>\n",
       "      <td>0.2100</td>\n",
       "      <td>9</td>\n",
       "    </tr>\n",
       "    <tr>\n",
       "      <th>3</th>\n",
       "      <td>M</td>\n",
       "      <td>0.440</td>\n",
       "      <td>0.365</td>\n",
       "      <td>0.125</td>\n",
       "      <td>0.5160</td>\n",
       "      <td>0.2155</td>\n",
       "      <td>0.1140</td>\n",
       "      <td>0.1550</td>\n",
       "      <td>10</td>\n",
       "    </tr>\n",
       "    <tr>\n",
       "      <th>4</th>\n",
       "      <td>I</td>\n",
       "      <td>0.330</td>\n",
       "      <td>0.255</td>\n",
       "      <td>0.080</td>\n",
       "      <td>0.2050</td>\n",
       "      <td>0.0895</td>\n",
       "      <td>0.0395</td>\n",
       "      <td>0.0550</td>\n",
       "      <td>7</td>\n",
       "    </tr>\n",
       "    <tr>\n",
       "      <th>...</th>\n",
       "      <td>...</td>\n",
       "      <td>...</td>\n",
       "      <td>...</td>\n",
       "      <td>...</td>\n",
       "      <td>...</td>\n",
       "      <td>...</td>\n",
       "      <td>...</td>\n",
       "      <td>...</td>\n",
       "      <td>...</td>\n",
       "    </tr>\n",
       "    <tr>\n",
       "      <th>4172</th>\n",
       "      <td>F</td>\n",
       "      <td>0.565</td>\n",
       "      <td>0.450</td>\n",
       "      <td>0.165</td>\n",
       "      <td>0.8870</td>\n",
       "      <td>0.3700</td>\n",
       "      <td>0.2390</td>\n",
       "      <td>0.2490</td>\n",
       "      <td>11</td>\n",
       "    </tr>\n",
       "    <tr>\n",
       "      <th>4173</th>\n",
       "      <td>M</td>\n",
       "      <td>0.590</td>\n",
       "      <td>0.440</td>\n",
       "      <td>0.135</td>\n",
       "      <td>0.9660</td>\n",
       "      <td>0.4390</td>\n",
       "      <td>0.2145</td>\n",
       "      <td>0.2605</td>\n",
       "      <td>10</td>\n",
       "    </tr>\n",
       "    <tr>\n",
       "      <th>4174</th>\n",
       "      <td>M</td>\n",
       "      <td>0.600</td>\n",
       "      <td>0.475</td>\n",
       "      <td>0.205</td>\n",
       "      <td>1.1760</td>\n",
       "      <td>0.5255</td>\n",
       "      <td>0.2875</td>\n",
       "      <td>0.3080</td>\n",
       "      <td>9</td>\n",
       "    </tr>\n",
       "    <tr>\n",
       "      <th>4175</th>\n",
       "      <td>F</td>\n",
       "      <td>0.625</td>\n",
       "      <td>0.485</td>\n",
       "      <td>0.150</td>\n",
       "      <td>1.0945</td>\n",
       "      <td>0.5310</td>\n",
       "      <td>0.2610</td>\n",
       "      <td>0.2960</td>\n",
       "      <td>10</td>\n",
       "    </tr>\n",
       "    <tr>\n",
       "      <th>4176</th>\n",
       "      <td>M</td>\n",
       "      <td>0.710</td>\n",
       "      <td>0.555</td>\n",
       "      <td>0.195</td>\n",
       "      <td>1.9485</td>\n",
       "      <td>0.9455</td>\n",
       "      <td>0.3765</td>\n",
       "      <td>0.4950</td>\n",
       "      <td>12</td>\n",
       "    </tr>\n",
       "  </tbody>\n",
       "</table>\n",
       "<p>4177 rows × 9 columns</p>\n",
       "</div>"
      ],
      "text/plain": [
       "     Sex  Length  Diameter  Height  Whole weight  Shucked weight  \\\n",
       "0      M   0.455     0.365   0.095        0.5140          0.2245   \n",
       "1      M   0.350     0.265   0.090        0.2255          0.0995   \n",
       "2      F   0.530     0.420   0.135        0.6770          0.2565   \n",
       "3      M   0.440     0.365   0.125        0.5160          0.2155   \n",
       "4      I   0.330     0.255   0.080        0.2050          0.0895   \n",
       "...   ..     ...       ...     ...           ...             ...   \n",
       "4172   F   0.565     0.450   0.165        0.8870          0.3700   \n",
       "4173   M   0.590     0.440   0.135        0.9660          0.4390   \n",
       "4174   M   0.600     0.475   0.205        1.1760          0.5255   \n",
       "4175   F   0.625     0.485   0.150        1.0945          0.5310   \n",
       "4176   M   0.710     0.555   0.195        1.9485          0.9455   \n",
       "\n",
       "      Viscera weight  Shell weight  Rings  \n",
       "0             0.1010        0.1500     15  \n",
       "1             0.0485        0.0700      7  \n",
       "2             0.1415        0.2100      9  \n",
       "3             0.1140        0.1550     10  \n",
       "4             0.0395        0.0550      7  \n",
       "...              ...           ...    ...  \n",
       "4172          0.2390        0.2490     11  \n",
       "4173          0.2145        0.2605     10  \n",
       "4174          0.2875        0.3080      9  \n",
       "4175          0.2610        0.2960     10  \n",
       "4176          0.3765        0.4950     12  \n",
       "\n",
       "[4177 rows x 9 columns]"
      ]
     },
     "execution_count": 2,
     "metadata": {},
     "output_type": "execute_result"
    }
   ],
   "source": [
    "df=pd.read_csv('abalone.csv')\n",
    "df"
   ]
  },
  {
   "cell_type": "markdown",
   "id": "288f8b3d",
   "metadata": {},
   "source": [
    "# Data Set Information:\n",
    "There are '4177 rows'and '9 columns' in the data set,in which ,there are 8 features and one target variable.\n",
    "\n",
    "Here,we need to predict the rings of each abalone which will lead us to the age of that abalone.\n",
    "\n",
    "Since, the target variable cannot be classified we use Regression model to predict the rings of abalone\n",
    "\n",
    "Attribute Information:\n",
    "------------------------------\n",
    "\n",
    "Given is the attribute name, attribute type, the measurement unit and a brief description.\n",
    "\n",
    "The number of rings is the value to predict. \n",
    "\n",
    "#Name / Data Type / Measurement Unit / Description:-\n",
    "\n",
    "Sex / nominal / -- / M, F, and I (infant)\n",
    "\n",
    "Length / continuous / mm / Longest shell measurement\n",
    "\n",
    "Diameter / continuous / mm / perpendicular to length\n",
    "\n",
    "Height / continuous / mm / with meat in shell\n",
    "\n",
    "Whole weight / continuous / grams / whole abalone\n",
    "\n",
    "Shucked weight / continuous / grams / weight of meat\n",
    "\n",
    "Viscera weight / continuous / grams / gut weight (after bleeding)\n",
    "\n",
    "Shell weight / continuous / grams / after being dried\n",
    "\n",
    "Rings / integer / -- / +1.5 gives the age in years. "
   ]
  },
  {
   "cell_type": "code",
   "execution_count": 4,
   "id": "c0362371",
   "metadata": {},
   "outputs": [
    {
     "data": {
      "text/plain": [
       "Sex                object\n",
       "Length            float64\n",
       "Diameter          float64\n",
       "Height            float64\n",
       "Whole weight      float64\n",
       "Shucked weight    float64\n",
       "Viscera weight    float64\n",
       "Shell weight      float64\n",
       "Rings               int64\n",
       "dtype: object"
      ]
     },
     "execution_count": 4,
     "metadata": {},
     "output_type": "execute_result"
    }
   ],
   "source": [
    "#checking the type of the data\n",
    "df.dtypes"
   ]
  },
  {
   "cell_type": "code",
   "execution_count": 5,
   "id": "6db2d570",
   "metadata": {},
   "outputs": [
    {
     "data": {
      "text/plain": [
       "array([15,  7,  9, 10,  8, 20, 16, 19, 14, 11, 12, 18, 13,  5,  4,  6, 21,\n",
       "       17, 22,  1,  3, 26, 23, 29,  2, 27, 25, 24], dtype=int64)"
      ]
     },
     "execution_count": 5,
     "metadata": {},
     "output_type": "execute_result"
    }
   ],
   "source": [
    "#Getting all the values of the target variable:\n",
    "df['Rings'].unique()"
   ]
  },
  {
   "cell_type": "code",
   "execution_count": 6,
   "id": "3f487541",
   "metadata": {},
   "outputs": [
    {
     "name": "stdout",
     "output_type": "stream",
     "text": [
      "<class 'pandas.core.frame.DataFrame'>\n",
      "RangeIndex: 4177 entries, 0 to 4176\n",
      "Data columns (total 9 columns):\n",
      " #   Column          Non-Null Count  Dtype  \n",
      "---  ------          --------------  -----  \n",
      " 0   Sex             4177 non-null   object \n",
      " 1   Length          4177 non-null   float64\n",
      " 2   Diameter        4177 non-null   float64\n",
      " 3   Height          4177 non-null   float64\n",
      " 4   Whole weight    4177 non-null   float64\n",
      " 5   Shucked weight  4177 non-null   float64\n",
      " 6   Viscera weight  4177 non-null   float64\n",
      " 7   Shell weight    4177 non-null   float64\n",
      " 8   Rings           4177 non-null   int64  \n",
      "dtypes: float64(7), int64(1), object(1)\n",
      "memory usage: 293.8+ KB\n"
     ]
    }
   ],
   "source": [
    "#Getting data set columns information:\n",
    "df.info()"
   ]
  },
  {
   "cell_type": "code",
   "execution_count": 7,
   "id": "9f3dd108",
   "metadata": {},
   "outputs": [
    {
     "data": {
      "text/plain": [
       "(4177, 9)"
      ]
     },
     "execution_count": 7,
     "metadata": {},
     "output_type": "execute_result"
    }
   ],
   "source": [
    "df.shape # typing the shape of the data"
   ]
  },
  {
   "cell_type": "code",
   "execution_count": 8,
   "id": "fd7acec1",
   "metadata": {},
   "outputs": [
    {
     "data": {
      "text/plain": [
       "Sex               0\n",
       "Length            0\n",
       "Diameter          0\n",
       "Height            0\n",
       "Whole weight      0\n",
       "Shucked weight    0\n",
       "Viscera weight    0\n",
       "Shell weight      0\n",
       "Rings             0\n",
       "dtype: int64"
      ]
     },
     "execution_count": 8,
     "metadata": {},
     "output_type": "execute_result"
    }
   ],
   "source": [
    "#Checking the null count of all the columns of the data set:\n",
    "df.isnull().sum()"
   ]
  },
  {
   "cell_type": "markdown",
   "id": "603039a7",
   "metadata": {},
   "source": [
    "# Graphical analysis of the data:"
   ]
  },
  {
   "cell_type": "code",
   "execution_count": 9,
   "id": "d6870def",
   "metadata": {},
   "outputs": [
    {
     "data": {
      "text/plain": [
       "Text(0.5, 1.0, 'Nominal data of sex plot')"
      ]
     },
     "execution_count": 9,
     "metadata": {},
     "output_type": "execute_result"
    },
    {
     "data": {
      "image/png": "[encoded data removed]",
      "text/plain": [
       "<Figure size 432x288 with 1 Axes>"
      ]
     },
     "metadata": {
      "needs_background": "light"
     },
     "output_type": "display_data"
    }
   ],
   "source": [
    "ax=sns.countplot('Sex',data=df)\n",
    "plt.title('Nominal data of sex plot')"
   ]
  },
  {
   "cell_type": "markdown",
   "id": "31b4915d",
   "metadata": {},
   "source": [
    "This the countplot of 'Sex' column ,where, the range of Male(M) is around of 1500, Female(F) is around 1300 and Infant(I) is around of 1400."
   ]
  },
  {
   "cell_type": "markdown",
   "id": "52a834f4",
   "metadata": {},
   "source": [
    "# Normal Distribution Plot:"
   ]
  },
  {
   "cell_type": "code",
   "execution_count": 10,
   "id": "a6351b1b",
   "metadata": {},
   "outputs": [
    {
     "data": {
      "image/png": "[encoded data removed]",
      "text/plain": [
       "<Figure size 1296x1440 with 8 Axes>"
      ]
     },
     "metadata": {
      "needs_background": "light"
     },
     "output_type": "display_data"
    }
   ],
   "source": [
    "plt.figure(figsize=(18,20))\n",
    "plotnumber=1\n",
    "x=df.drop(columns='Sex')\n",
    "for column in x:\n",
    "    if plotnumber<=8:\n",
    "        ax=plt.subplot(4,2,plotnumber)\n",
    "        sns.distplot(df[column])\n",
    "        plt.xlabel(column,fontsize=15)\n",
    "    plotnumber+=1\n",
    "plt.show()    "
   ]
  },
  {
   "cell_type": "markdown",
   "id": "3e0f7a39",
   "metadata": {},
   "source": [
    "Visualization part is completed.\n",
    "\n",
    "Since, there is one column 'Sex' to convert nominal data we use encoding techniques."
   ]
  },
  {
   "cell_type": "code",
   "execution_count": 24,
   "id": "ef1f2f3b",
   "metadata": {},
   "outputs": [
    {
     "data": {
      "text/html": [
       "<div>\n",
       "<style scoped>\n",
       "    .dataframe tbody tr th:only-of-type {\n",
       "        vertical-align: middle;\n",
       "    }\n",
       "\n",
       "    .dataframe tbody tr th {\n",
       "        vertical-align: top;\n",
       "    }\n",
       "\n",
       "    .dataframe thead th {\n",
       "        text-align: right;\n",
       "    }\n",
       "</style>\n",
       "<table border=\"1\" class=\"dataframe\">\n",
       "  <thead>\n",
       "    <tr style=\"text-align: right;\">\n",
       "      <th></th>\n",
       "      <th>Sex</th>\n",
       "      <th>Length</th>\n",
       "      <th>Diameter</th>\n",
       "      <th>Height</th>\n",
       "      <th>Whole weight</th>\n",
       "      <th>Shucked weight</th>\n",
       "      <th>Viscera weight</th>\n",
       "      <th>Shell weight</th>\n",
       "      <th>Rings</th>\n",
       "      <th>sex</th>\n",
       "    </tr>\n",
       "  </thead>\n",
       "  <tbody>\n",
       "    <tr>\n",
       "      <th>0</th>\n",
       "      <td>0.0</td>\n",
       "      <td>0.455</td>\n",
       "      <td>0.365</td>\n",
       "      <td>0.095</td>\n",
       "      <td>0.5140</td>\n",
       "      <td>0.2245</td>\n",
       "      <td>0.1010</td>\n",
       "      <td>0.1500</td>\n",
       "      <td>15</td>\n",
       "      <td>0.0</td>\n",
       "    </tr>\n",
       "    <tr>\n",
       "      <th>1</th>\n",
       "      <td>0.0</td>\n",
       "      <td>0.350</td>\n",
       "      <td>0.265</td>\n",
       "      <td>0.090</td>\n",
       "      <td>0.2255</td>\n",
       "      <td>0.0995</td>\n",
       "      <td>0.0485</td>\n",
       "      <td>0.0700</td>\n",
       "      <td>7</td>\n",
       "      <td>0.0</td>\n",
       "    </tr>\n",
       "    <tr>\n",
       "      <th>2</th>\n",
       "      <td>1.0</td>\n",
       "      <td>0.530</td>\n",
       "      <td>0.420</td>\n",
       "      <td>0.135</td>\n",
       "      <td>0.6770</td>\n",
       "      <td>0.2565</td>\n",
       "      <td>0.1415</td>\n",
       "      <td>0.2100</td>\n",
       "      <td>9</td>\n",
       "      <td>1.0</td>\n",
       "    </tr>\n",
       "    <tr>\n",
       "      <th>3</th>\n",
       "      <td>0.0</td>\n",
       "      <td>0.440</td>\n",
       "      <td>0.365</td>\n",
       "      <td>0.125</td>\n",
       "      <td>0.5160</td>\n",
       "      <td>0.2155</td>\n",
       "      <td>0.1140</td>\n",
       "      <td>0.1550</td>\n",
       "      <td>10</td>\n",
       "      <td>0.0</td>\n",
       "    </tr>\n",
       "    <tr>\n",
       "      <th>4</th>\n",
       "      <td>2.0</td>\n",
       "      <td>0.330</td>\n",
       "      <td>0.255</td>\n",
       "      <td>0.080</td>\n",
       "      <td>0.2050</td>\n",
       "      <td>0.0895</td>\n",
       "      <td>0.0395</td>\n",
       "      <td>0.0550</td>\n",
       "      <td>7</td>\n",
       "      <td>2.0</td>\n",
       "    </tr>\n",
       "    <tr>\n",
       "      <th>...</th>\n",
       "      <td>...</td>\n",
       "      <td>...</td>\n",
       "      <td>...</td>\n",
       "      <td>...</td>\n",
       "      <td>...</td>\n",
       "      <td>...</td>\n",
       "      <td>...</td>\n",
       "      <td>...</td>\n",
       "      <td>...</td>\n",
       "      <td>...</td>\n",
       "    </tr>\n",
       "    <tr>\n",
       "      <th>4172</th>\n",
       "      <td>1.0</td>\n",
       "      <td>0.565</td>\n",
       "      <td>0.450</td>\n",
       "      <td>0.165</td>\n",
       "      <td>0.8870</td>\n",
       "      <td>0.3700</td>\n",
       "      <td>0.2390</td>\n",
       "      <td>0.2490</td>\n",
       "      <td>11</td>\n",
       "      <td>1.0</td>\n",
       "    </tr>\n",
       "    <tr>\n",
       "      <th>4173</th>\n",
       "      <td>0.0</td>\n",
       "      <td>0.590</td>\n",
       "      <td>0.440</td>\n",
       "      <td>0.135</td>\n",
       "      <td>0.9660</td>\n",
       "      <td>0.4390</td>\n",
       "      <td>0.2145</td>\n",
       "      <td>0.2605</td>\n",
       "      <td>10</td>\n",
       "      <td>0.0</td>\n",
       "    </tr>\n",
       "    <tr>\n",
       "      <th>4174</th>\n",
       "      <td>0.0</td>\n",
       "      <td>0.600</td>\n",
       "      <td>0.475</td>\n",
       "      <td>0.205</td>\n",
       "      <td>1.1760</td>\n",
       "      <td>0.5255</td>\n",
       "      <td>0.2875</td>\n",
       "      <td>0.3080</td>\n",
       "      <td>9</td>\n",
       "      <td>0.0</td>\n",
       "    </tr>\n",
       "    <tr>\n",
       "      <th>4175</th>\n",
       "      <td>1.0</td>\n",
       "      <td>0.625</td>\n",
       "      <td>0.485</td>\n",
       "      <td>0.150</td>\n",
       "      <td>1.0945</td>\n",
       "      <td>0.5310</td>\n",
       "      <td>0.2610</td>\n",
       "      <td>0.2960</td>\n",
       "      <td>10</td>\n",
       "      <td>1.0</td>\n",
       "    </tr>\n",
       "    <tr>\n",
       "      <th>4176</th>\n",
       "      <td>0.0</td>\n",
       "      <td>0.710</td>\n",
       "      <td>0.555</td>\n",
       "      <td>0.195</td>\n",
       "      <td>1.9485</td>\n",
       "      <td>0.9455</td>\n",
       "      <td>0.3765</td>\n",
       "      <td>0.4950</td>\n",
       "      <td>12</td>\n",
       "      <td>0.0</td>\n",
       "    </tr>\n",
       "  </tbody>\n",
       "</table>\n",
       "<p>4177 rows × 10 columns</p>\n",
       "</div>"
      ],
      "text/plain": [
       "      Sex  Length  Diameter  Height  Whole weight  Shucked weight  \\\n",
       "0     0.0   0.455     0.365   0.095        0.5140          0.2245   \n",
       "1     0.0   0.350     0.265   0.090        0.2255          0.0995   \n",
       "2     1.0   0.530     0.420   0.135        0.6770          0.2565   \n",
       "3     0.0   0.440     0.365   0.125        0.5160          0.2155   \n",
       "4     2.0   0.330     0.255   0.080        0.2050          0.0895   \n",
       "...   ...     ...       ...     ...           ...             ...   \n",
       "4172  1.0   0.565     0.450   0.165        0.8870          0.3700   \n",
       "4173  0.0   0.590     0.440   0.135        0.9660          0.4390   \n",
       "4174  0.0   0.600     0.475   0.205        1.1760          0.5255   \n",
       "4175  1.0   0.625     0.485   0.150        1.0945          0.5310   \n",
       "4176  0.0   0.710     0.555   0.195        1.9485          0.9455   \n",
       "\n",
       "      Viscera weight  Shell weight  Rings  sex  \n",
       "0             0.1010        0.1500     15  0.0  \n",
       "1             0.0485        0.0700      7  0.0  \n",
       "2             0.1415        0.2100      9  1.0  \n",
       "3             0.1140        0.1550     10  0.0  \n",
       "4             0.0395        0.0550      7  2.0  \n",
       "...              ...           ...    ...  ...  \n",
       "4172          0.2390        0.2490     11  1.0  \n",
       "4173          0.2145        0.2605     10  0.0  \n",
       "4174          0.2875        0.3080      9  0.0  \n",
       "4175          0.2610        0.2960     10  1.0  \n",
       "4176          0.3765        0.4950     12  0.0  \n",
       "\n",
       "[4177 rows x 10 columns]"
      ]
     },
     "execution_count": 24,
     "metadata": {},
     "output_type": "execute_result"
    }
   ],
   "source": [
    "df #actual dataframe"
   ]
  },
  {
   "cell_type": "markdown",
   "id": "cc36796e",
   "metadata": {},
   "source": [
    "# Ordinal Encoder:\n",
    "Ordinal Encoder is needeed to convert \"Sex\" feature in to ordered numeric value so that it is used to check correlaion of feautures and label"
   ]
  },
  {
   "cell_type": "code",
   "execution_count": 12,
   "id": "6317da6a",
   "metadata": {},
   "outputs": [
    {
     "data": {
      "text/html": [
       "<div>\n",
       "<style scoped>\n",
       "    .dataframe tbody tr th:only-of-type {\n",
       "        vertical-align: middle;\n",
       "    }\n",
       "\n",
       "    .dataframe tbody tr th {\n",
       "        vertical-align: top;\n",
       "    }\n",
       "\n",
       "    .dataframe thead th {\n",
       "        text-align: right;\n",
       "    }\n",
       "</style>\n",
       "<table border=\"1\" class=\"dataframe\">\n",
       "  <thead>\n",
       "    <tr style=\"text-align: right;\">\n",
       "      <th></th>\n",
       "      <th>Sex</th>\n",
       "      <th>Length</th>\n",
       "      <th>Diameter</th>\n",
       "      <th>Height</th>\n",
       "      <th>Whole weight</th>\n",
       "      <th>Shucked weight</th>\n",
       "      <th>Viscera weight</th>\n",
       "      <th>Shell weight</th>\n",
       "      <th>Rings</th>\n",
       "    </tr>\n",
       "  </thead>\n",
       "  <tbody>\n",
       "    <tr>\n",
       "      <th>0</th>\n",
       "      <td>0.0</td>\n",
       "      <td>0.455</td>\n",
       "      <td>0.365</td>\n",
       "      <td>0.095</td>\n",
       "      <td>0.5140</td>\n",
       "      <td>0.2245</td>\n",
       "      <td>0.1010</td>\n",
       "      <td>0.1500</td>\n",
       "      <td>15</td>\n",
       "    </tr>\n",
       "    <tr>\n",
       "      <th>1</th>\n",
       "      <td>0.0</td>\n",
       "      <td>0.350</td>\n",
       "      <td>0.265</td>\n",
       "      <td>0.090</td>\n",
       "      <td>0.2255</td>\n",
       "      <td>0.0995</td>\n",
       "      <td>0.0485</td>\n",
       "      <td>0.0700</td>\n",
       "      <td>7</td>\n",
       "    </tr>\n",
       "    <tr>\n",
       "      <th>2</th>\n",
       "      <td>1.0</td>\n",
       "      <td>0.530</td>\n",
       "      <td>0.420</td>\n",
       "      <td>0.135</td>\n",
       "      <td>0.6770</td>\n",
       "      <td>0.2565</td>\n",
       "      <td>0.1415</td>\n",
       "      <td>0.2100</td>\n",
       "      <td>9</td>\n",
       "    </tr>\n",
       "    <tr>\n",
       "      <th>3</th>\n",
       "      <td>0.0</td>\n",
       "      <td>0.440</td>\n",
       "      <td>0.365</td>\n",
       "      <td>0.125</td>\n",
       "      <td>0.5160</td>\n",
       "      <td>0.2155</td>\n",
       "      <td>0.1140</td>\n",
       "      <td>0.1550</td>\n",
       "      <td>10</td>\n",
       "    </tr>\n",
       "    <tr>\n",
       "      <th>4</th>\n",
       "      <td>2.0</td>\n",
       "      <td>0.330</td>\n",
       "      <td>0.255</td>\n",
       "      <td>0.080</td>\n",
       "      <td>0.2050</td>\n",
       "      <td>0.0895</td>\n",
       "      <td>0.0395</td>\n",
       "      <td>0.0550</td>\n",
       "      <td>7</td>\n",
       "    </tr>\n",
       "    <tr>\n",
       "      <th>...</th>\n",
       "      <td>...</td>\n",
       "      <td>...</td>\n",
       "      <td>...</td>\n",
       "      <td>...</td>\n",
       "      <td>...</td>\n",
       "      <td>...</td>\n",
       "      <td>...</td>\n",
       "      <td>...</td>\n",
       "      <td>...</td>\n",
       "    </tr>\n",
       "    <tr>\n",
       "      <th>4172</th>\n",
       "      <td>1.0</td>\n",
       "      <td>0.565</td>\n",
       "      <td>0.450</td>\n",
       "      <td>0.165</td>\n",
       "      <td>0.8870</td>\n",
       "      <td>0.3700</td>\n",
       "      <td>0.2390</td>\n",
       "      <td>0.2490</td>\n",
       "      <td>11</td>\n",
       "    </tr>\n",
       "    <tr>\n",
       "      <th>4173</th>\n",
       "      <td>0.0</td>\n",
       "      <td>0.590</td>\n",
       "      <td>0.440</td>\n",
       "      <td>0.135</td>\n",
       "      <td>0.9660</td>\n",
       "      <td>0.4390</td>\n",
       "      <td>0.2145</td>\n",
       "      <td>0.2605</td>\n",
       "      <td>10</td>\n",
       "    </tr>\n",
       "    <tr>\n",
       "      <th>4174</th>\n",
       "      <td>0.0</td>\n",
       "      <td>0.600</td>\n",
       "      <td>0.475</td>\n",
       "      <td>0.205</td>\n",
       "      <td>1.1760</td>\n",
       "      <td>0.5255</td>\n",
       "      <td>0.2875</td>\n",
       "      <td>0.3080</td>\n",
       "      <td>9</td>\n",
       "    </tr>\n",
       "    <tr>\n",
       "      <th>4175</th>\n",
       "      <td>1.0</td>\n",
       "      <td>0.625</td>\n",
       "      <td>0.485</td>\n",
       "      <td>0.150</td>\n",
       "      <td>1.0945</td>\n",
       "      <td>0.5310</td>\n",
       "      <td>0.2610</td>\n",
       "      <td>0.2960</td>\n",
       "      <td>10</td>\n",
       "    </tr>\n",
       "    <tr>\n",
       "      <th>4176</th>\n",
       "      <td>0.0</td>\n",
       "      <td>0.710</td>\n",
       "      <td>0.555</td>\n",
       "      <td>0.195</td>\n",
       "      <td>1.9485</td>\n",
       "      <td>0.9455</td>\n",
       "      <td>0.3765</td>\n",
       "      <td>0.4950</td>\n",
       "      <td>12</td>\n",
       "    </tr>\n",
       "  </tbody>\n",
       "</table>\n",
       "<p>4177 rows × 9 columns</p>\n",
       "</div>"
      ],
      "text/plain": [
       "      Sex  Length  Diameter  Height  Whole weight  Shucked weight  \\\n",
       "0     0.0   0.455     0.365   0.095        0.5140          0.2245   \n",
       "1     0.0   0.350     0.265   0.090        0.2255          0.0995   \n",
       "2     1.0   0.530     0.420   0.135        0.6770          0.2565   \n",
       "3     0.0   0.440     0.365   0.125        0.5160          0.2155   \n",
       "4     2.0   0.330     0.255   0.080        0.2050          0.0895   \n",
       "...   ...     ...       ...     ...           ...             ...   \n",
       "4172  1.0   0.565     0.450   0.165        0.8870          0.3700   \n",
       "4173  0.0   0.590     0.440   0.135        0.9660          0.4390   \n",
       "4174  0.0   0.600     0.475   0.205        1.1760          0.5255   \n",
       "4175  1.0   0.625     0.485   0.150        1.0945          0.5310   \n",
       "4176  0.0   0.710     0.555   0.195        1.9485          0.9455   \n",
       "\n",
       "      Viscera weight  Shell weight  Rings  \n",
       "0             0.1010        0.1500     15  \n",
       "1             0.0485        0.0700      7  \n",
       "2             0.1415        0.2100      9  \n",
       "3             0.1140        0.1550     10  \n",
       "4             0.0395        0.0550      7  \n",
       "...              ...           ...    ...  \n",
       "4172          0.2390        0.2490     11  \n",
       "4173          0.2145        0.2605     10  \n",
       "4174          0.2875        0.3080      9  \n",
       "4175          0.2610        0.2960     10  \n",
       "4176          0.3765        0.4950     12  \n",
       "\n",
       "[4177 rows x 9 columns]"
      ]
     },
     "execution_count": 12,
     "metadata": {},
     "output_type": "execute_result"
    }
   ],
   "source": [
    "from sklearn.preprocessing import OrdinalEncoder\n",
    "\n",
    "ord_enc=OrdinalEncoder(categories=[['M','F','I']])\n",
    "df['Sex']=ord_enc.fit_transform(df[['Sex']])\n",
    "df"
   ]
  },
  {
   "cell_type": "markdown",
   "id": "6eb35100",
   "metadata": {},
   "source": [
    "# Describing Data:"
   ]
  },
  {
   "cell_type": "code",
   "execution_count": 13,
   "id": "7fab0af4",
   "metadata": {},
   "outputs": [
    {
     "data": {
      "text/html": [
       "<div>\n",
       "<style scoped>\n",
       "    .dataframe tbody tr th:only-of-type {\n",
       "        vertical-align: middle;\n",
       "    }\n",
       "\n",
       "    .dataframe tbody tr th {\n",
       "        vertical-align: top;\n",
       "    }\n",
       "\n",
       "    .dataframe thead th {\n",
       "        text-align: right;\n",
       "    }\n",
       "</style>\n",
       "<table border=\"1\" class=\"dataframe\">\n",
       "  <thead>\n",
       "    <tr style=\"text-align: right;\">\n",
       "      <th></th>\n",
       "      <th>Sex</th>\n",
       "      <th>Length</th>\n",
       "      <th>Diameter</th>\n",
       "      <th>Height</th>\n",
       "      <th>Whole weight</th>\n",
       "      <th>Shucked weight</th>\n",
       "      <th>Viscera weight</th>\n",
       "      <th>Shell weight</th>\n",
       "      <th>Rings</th>\n",
       "    </tr>\n",
       "  </thead>\n",
       "  <tbody>\n",
       "    <tr>\n",
       "      <th>count</th>\n",
       "      <td>4177.000000</td>\n",
       "      <td>4177.000000</td>\n",
       "      <td>4177.000000</td>\n",
       "      <td>4177.000000</td>\n",
       "      <td>4177.000000</td>\n",
       "      <td>4177.000000</td>\n",
       "      <td>4177.000000</td>\n",
       "      <td>4177.000000</td>\n",
       "      <td>4177.000000</td>\n",
       "    </tr>\n",
       "    <tr>\n",
       "      <th>mean</th>\n",
       "      <td>0.955470</td>\n",
       "      <td>0.523992</td>\n",
       "      <td>0.407881</td>\n",
       "      <td>0.139516</td>\n",
       "      <td>0.828742</td>\n",
       "      <td>0.359367</td>\n",
       "      <td>0.180594</td>\n",
       "      <td>0.238831</td>\n",
       "      <td>9.933684</td>\n",
       "    </tr>\n",
       "    <tr>\n",
       "      <th>std</th>\n",
       "      <td>0.827815</td>\n",
       "      <td>0.120093</td>\n",
       "      <td>0.099240</td>\n",
       "      <td>0.041827</td>\n",
       "      <td>0.490389</td>\n",
       "      <td>0.221963</td>\n",
       "      <td>0.109614</td>\n",
       "      <td>0.139203</td>\n",
       "      <td>3.224169</td>\n",
       "    </tr>\n",
       "    <tr>\n",
       "      <th>min</th>\n",
       "      <td>0.000000</td>\n",
       "      <td>0.075000</td>\n",
       "      <td>0.055000</td>\n",
       "      <td>0.000000</td>\n",
       "      <td>0.002000</td>\n",
       "      <td>0.001000</td>\n",
       "      <td>0.000500</td>\n",
       "      <td>0.001500</td>\n",
       "      <td>1.000000</td>\n",
       "    </tr>\n",
       "    <tr>\n",
       "      <th>25%</th>\n",
       "      <td>0.000000</td>\n",
       "      <td>0.450000</td>\n",
       "      <td>0.350000</td>\n",
       "      <td>0.115000</td>\n",
       "      <td>0.441500</td>\n",
       "      <td>0.186000</td>\n",
       "      <td>0.093500</td>\n",
       "      <td>0.130000</td>\n",
       "      <td>8.000000</td>\n",
       "    </tr>\n",
       "    <tr>\n",
       "      <th>50%</th>\n",
       "      <td>1.000000</td>\n",
       "      <td>0.545000</td>\n",
       "      <td>0.425000</td>\n",
       "      <td>0.140000</td>\n",
       "      <td>0.799500</td>\n",
       "      <td>0.336000</td>\n",
       "      <td>0.171000</td>\n",
       "      <td>0.234000</td>\n",
       "      <td>9.000000</td>\n",
       "    </tr>\n",
       "    <tr>\n",
       "      <th>75%</th>\n",
       "      <td>2.000000</td>\n",
       "      <td>0.615000</td>\n",
       "      <td>0.480000</td>\n",
       "      <td>0.165000</td>\n",
       "      <td>1.153000</td>\n",
       "      <td>0.502000</td>\n",
       "      <td>0.253000</td>\n",
       "      <td>0.329000</td>\n",
       "      <td>11.000000</td>\n",
       "    </tr>\n",
       "    <tr>\n",
       "      <th>max</th>\n",
       "      <td>2.000000</td>\n",
       "      <td>0.815000</td>\n",
       "      <td>0.650000</td>\n",
       "      <td>1.130000</td>\n",
       "      <td>2.825500</td>\n",
       "      <td>1.488000</td>\n",
       "      <td>0.760000</td>\n",
       "      <td>1.005000</td>\n",
       "      <td>29.000000</td>\n",
       "    </tr>\n",
       "  </tbody>\n",
       "</table>\n",
       "</div>"
      ],
      "text/plain": [
       "               Sex       Length     Diameter       Height  Whole weight  \\\n",
       "count  4177.000000  4177.000000  4177.000000  4177.000000   4177.000000   \n",
       "mean      0.955470     0.523992     0.407881     0.139516      0.828742   \n",
       "std       0.827815     0.120093     0.099240     0.041827      0.490389   \n",
       "min       0.000000     0.075000     0.055000     0.000000      0.002000   \n",
       "25%       0.000000     0.450000     0.350000     0.115000      0.441500   \n",
       "50%       1.000000     0.545000     0.425000     0.140000      0.799500   \n",
       "75%       2.000000     0.615000     0.480000     0.165000      1.153000   \n",
       "max       2.000000     0.815000     0.650000     1.130000      2.825500   \n",
       "\n",
       "       Shucked weight  Viscera weight  Shell weight        Rings  \n",
       "count     4177.000000     4177.000000   4177.000000  4177.000000  \n",
       "mean         0.359367        0.180594      0.238831     9.933684  \n",
       "std          0.221963        0.109614      0.139203     3.224169  \n",
       "min          0.001000        0.000500      0.001500     1.000000  \n",
       "25%          0.186000        0.093500      0.130000     8.000000  \n",
       "50%          0.336000        0.171000      0.234000     9.000000  \n",
       "75%          0.502000        0.253000      0.329000    11.000000  \n",
       "max          1.488000        0.760000      1.005000    29.000000  "
      ]
     },
     "execution_count": 13,
     "metadata": {},
     "output_type": "execute_result"
    }
   ],
   "source": [
    "df.describe()"
   ]
  },
  {
   "cell_type": "markdown",
   "id": "765f8bcc",
   "metadata": {},
   "source": [
    "Since, the data seems to be normal we need to check the outliers and skewness of all the columns.\n",
    "Now let's check the correlation of all the feature variable with the target."
   ]
  },
  {
   "cell_type": "markdown",
   "id": "85270ed3",
   "metadata": {},
   "source": [
    "# Correlation"
   ]
  },
  {
   "cell_type": "markdown",
   "id": "7d94d189",
   "metadata": {},
   "source": [
    "# Correlation Using Heat Map"
   ]
  },
  {
   "cell_type": "code",
   "execution_count": 14,
   "id": "a0cdc052",
   "metadata": {},
   "outputs": [
    {
     "data": {
      "image/png": "[encoded data removed]",
      "text/plain": [
       "<Figure size 1584x1152 with 2 Axes>"
      ]
     },
     "metadata": {
      "needs_background": "light"
     },
     "output_type": "display_data"
    }
   ],
   "source": [
    "df_corr=df.corr().abs()\n",
    "\n",
    "plt.figure(figsize=(22,16))\n",
    "sns.heatmap(df_corr,annot=True,annot_kws={'size':12})\n",
    "plt.show()  "
   ]
  },
  {
   "cell_type": "markdown",
   "id": "138d8b05",
   "metadata": {},
   "source": [
    "# Outcome of Correlation:\n",
    "All the features of the dataset is positively correlated with the target column 'Rings'.\n",
    "\n",
    "Maximun correlated feature:Shell Weight\n",
    "\n",
    "minimun correlated feature:Sex"
   ]
  },
  {
   "cell_type": "code",
   "execution_count": 15,
   "id": "0345086b",
   "metadata": {},
   "outputs": [
    {
     "data": {
      "text/plain": [
       "Rings             1.000000\n",
       "Shell weight      0.627574\n",
       "Diameter          0.574660\n",
       "Height            0.557467\n",
       "Length            0.556720\n",
       "Whole weight      0.540390\n",
       "Viscera weight    0.503819\n",
       "Shucked weight    0.420884\n",
       "Sex              -0.351822\n",
       "Name: Rings, dtype: float64"
      ]
     },
     "execution_count": 15,
     "metadata": {},
     "output_type": "execute_result"
    }
   ],
   "source": [
    "corr=df.corr()\n",
    "corr['Rings'].sort_values(ascending=False)"
   ]
  },
  {
   "cell_type": "markdown",
   "id": "d53cda47",
   "metadata": {},
   "source": [
    "# Correlation of Rings variable with all the 8 feature variables in the data set:"
   ]
  },
  {
   "cell_type": "code",
   "execution_count": 16,
   "id": "49fe2e49",
   "metadata": {},
   "outputs": [
    {
     "data": {
      "image/png": "[encoded data removed]",
      "text/plain": [
       "<Figure size 720x504 with 1 Axes>"
      ]
     },
     "metadata": {
      "needs_background": "light"
     },
     "output_type": "display_data"
    }
   ],
   "source": [
    "df.drop('Rings',axis=1).corrwith(df.Rings).plot(kind='bar',grid=False,figsize=(10,7),title='Correlation with Rings')\n",
    "plt.show()"
   ]
  },
  {
   "cell_type": "markdown",
   "id": "872a3d0c",
   "metadata": {},
   "source": [
    "Here-> Length, Diameter, Height, Whole Weight, Viscera Weight, Shell weight are positively correlated and has good correlation with the Rings column\n",
    "\n",
    "where as,Sex is weakly correlated with the target Rings"
   ]
  },
  {
   "cell_type": "markdown",
   "id": "4358968d",
   "metadata": {},
   "source": [
    "# Checking Skewness:"
   ]
  },
  {
   "cell_type": "code",
   "execution_count": 17,
   "id": "5d00634e",
   "metadata": {},
   "outputs": [
    {
     "data": {
      "text/plain": [
       "Sex               0.083056\n",
       "Length           -0.639873\n",
       "Diameter         -0.609198\n",
       "Height            3.128817\n",
       "Whole weight      0.530959\n",
       "Shucked weight    0.719098\n",
       "Viscera weight    0.591852\n",
       "Shell weight      0.620927\n",
       "Rings             1.114102\n",
       "dtype: float64"
      ]
     },
     "execution_count": 17,
     "metadata": {},
     "output_type": "execute_result"
    }
   ],
   "source": [
    "df.skew()"
   ]
  },
  {
   "cell_type": "markdown",
   "id": "94224e69",
   "metadata": {},
   "source": [
    "Skewness can be allowed with in the range f '+/-0.5'\n",
    "\n",
    "Here,all the features are having less skewness \n",
    "\n",
    "Rings -is the target variable"
   ]
  },
  {
   "cell_type": "markdown",
   "id": "c9ffdf6b",
   "metadata": {},
   "source": [
    "# Checking outliers:"
   ]
  },
  {
   "cell_type": "code",
   "execution_count": 19,
   "id": "00e4429f",
   "metadata": {},
   "outputs": [
    {
     "data": {
      "image/png": "[encoded data removed]",
      "text/plain": [
       "<Figure size 1296x1440 with 7 Axes>"
      ]
     },
     "metadata": {
      "needs_background": "light"
     },
     "output_type": "display_data"
    }
   ],
   "source": [
    "x=df.drop(columns=['Rings','Sex'])\n",
    "plt.figure(figsize=(18,20))\n",
    "graph=1\n",
    "for column in x:\n",
    "    if graph<=8:\n",
    "        ax=plt.subplot(4,2,graph)\n",
    "        sns.boxplot(x[column],orient='v')\n",
    "        plt.xlabel(column,fontsize=15)\n",
    "    graph+=1\n",
    "plt.show()   "
   ]
  },
  {
   "cell_type": "markdown",
   "id": "04f9a2ee",
   "metadata": {},
   "source": [
    "All the feauture values seems to have some outliers ,so we need to use some techniques to remove hese extended outliers."
   ]
  },
  {
   "cell_type": "markdown",
   "id": "1baf9c60",
   "metadata": {},
   "source": [
    "# Removing Outliers:"
   ]
  },
  {
   "cell_type": "markdown",
   "id": "47f95241",
   "metadata": {},
   "source": [
    " Z Score Technique"
   ]
  },
  {
   "cell_type": "code",
   "execution_count": 20,
   "id": "3ee2fbfd",
   "metadata": {},
   "outputs": [
    {
     "data": {
      "text/plain": [
       "(4027, 9)"
      ]
     },
     "execution_count": 20,
     "metadata": {},
     "output_type": "execute_result"
    }
   ],
   "source": [
    "from scipy.stats import zscore\n",
    "import numpy as np\n",
    "zsc=zscore(df)\n",
    "abs_z_score=np.abs(zsc)\n",
    "filtering_entry=(abs_z_score<3).all(axis=1)\n",
    "df=df[filtering_entry]\n",
    "df.shape"
   ]
  },
  {
   "cell_type": "markdown",
   "id": "b1166926",
   "metadata": {},
   "source": [
    "There ae 4027 rows and 9 columns after removing outliers."
   ]
  },
  {
   "cell_type": "code",
   "execution_count": 21,
   "id": "64c86407",
   "metadata": {},
   "outputs": [
    {
     "data": {
      "text/html": [
       "<div>\n",
       "<style scoped>\n",
       "    .dataframe tbody tr th:only-of-type {\n",
       "        vertical-align: middle;\n",
       "    }\n",
       "\n",
       "    .dataframe tbody tr th {\n",
       "        vertical-align: top;\n",
       "    }\n",
       "\n",
       "    .dataframe thead th {\n",
       "        text-align: right;\n",
       "    }\n",
       "</style>\n",
       "<table border=\"1\" class=\"dataframe\">\n",
       "  <thead>\n",
       "    <tr style=\"text-align: right;\">\n",
       "      <th></th>\n",
       "      <th>Sex</th>\n",
       "      <th>Length</th>\n",
       "      <th>Diameter</th>\n",
       "      <th>Height</th>\n",
       "      <th>Whole weight</th>\n",
       "      <th>Shucked weight</th>\n",
       "      <th>Viscera weight</th>\n",
       "      <th>Shell weight</th>\n",
       "      <th>Rings</th>\n",
       "    </tr>\n",
       "  </thead>\n",
       "  <tbody>\n",
       "    <tr>\n",
       "      <th>0</th>\n",
       "      <td>0.0</td>\n",
       "      <td>0.455</td>\n",
       "      <td>0.365</td>\n",
       "      <td>0.095</td>\n",
       "      <td>0.5140</td>\n",
       "      <td>0.2245</td>\n",
       "      <td>0.1010</td>\n",
       "      <td>0.1500</td>\n",
       "      <td>15</td>\n",
       "    </tr>\n",
       "    <tr>\n",
       "      <th>1</th>\n",
       "      <td>0.0</td>\n",
       "      <td>0.350</td>\n",
       "      <td>0.265</td>\n",
       "      <td>0.090</td>\n",
       "      <td>0.2255</td>\n",
       "      <td>0.0995</td>\n",
       "      <td>0.0485</td>\n",
       "      <td>0.0700</td>\n",
       "      <td>7</td>\n",
       "    </tr>\n",
       "    <tr>\n",
       "      <th>2</th>\n",
       "      <td>1.0</td>\n",
       "      <td>0.530</td>\n",
       "      <td>0.420</td>\n",
       "      <td>0.135</td>\n",
       "      <td>0.6770</td>\n",
       "      <td>0.2565</td>\n",
       "      <td>0.1415</td>\n",
       "      <td>0.2100</td>\n",
       "      <td>9</td>\n",
       "    </tr>\n",
       "    <tr>\n",
       "      <th>3</th>\n",
       "      <td>0.0</td>\n",
       "      <td>0.440</td>\n",
       "      <td>0.365</td>\n",
       "      <td>0.125</td>\n",
       "      <td>0.5160</td>\n",
       "      <td>0.2155</td>\n",
       "      <td>0.1140</td>\n",
       "      <td>0.1550</td>\n",
       "      <td>10</td>\n",
       "    </tr>\n",
       "    <tr>\n",
       "      <th>4</th>\n",
       "      <td>2.0</td>\n",
       "      <td>0.330</td>\n",
       "      <td>0.255</td>\n",
       "      <td>0.080</td>\n",
       "      <td>0.2050</td>\n",
       "      <td>0.0895</td>\n",
       "      <td>0.0395</td>\n",
       "      <td>0.0550</td>\n",
       "      <td>7</td>\n",
       "    </tr>\n",
       "    <tr>\n",
       "      <th>...</th>\n",
       "      <td>...</td>\n",
       "      <td>...</td>\n",
       "      <td>...</td>\n",
       "      <td>...</td>\n",
       "      <td>...</td>\n",
       "      <td>...</td>\n",
       "      <td>...</td>\n",
       "      <td>...</td>\n",
       "      <td>...</td>\n",
       "    </tr>\n",
       "    <tr>\n",
       "      <th>4172</th>\n",
       "      <td>1.0</td>\n",
       "      <td>0.565</td>\n",
       "      <td>0.450</td>\n",
       "      <td>0.165</td>\n",
       "      <td>0.8870</td>\n",
       "      <td>0.3700</td>\n",
       "      <td>0.2390</td>\n",
       "      <td>0.2490</td>\n",
       "      <td>11</td>\n",
       "    </tr>\n",
       "    <tr>\n",
       "      <th>4173</th>\n",
       "      <td>0.0</td>\n",
       "      <td>0.590</td>\n",
       "      <td>0.440</td>\n",
       "      <td>0.135</td>\n",
       "      <td>0.9660</td>\n",
       "      <td>0.4390</td>\n",
       "      <td>0.2145</td>\n",
       "      <td>0.2605</td>\n",
       "      <td>10</td>\n",
       "    </tr>\n",
       "    <tr>\n",
       "      <th>4174</th>\n",
       "      <td>0.0</td>\n",
       "      <td>0.600</td>\n",
       "      <td>0.475</td>\n",
       "      <td>0.205</td>\n",
       "      <td>1.1760</td>\n",
       "      <td>0.5255</td>\n",
       "      <td>0.2875</td>\n",
       "      <td>0.3080</td>\n",
       "      <td>9</td>\n",
       "    </tr>\n",
       "    <tr>\n",
       "      <th>4175</th>\n",
       "      <td>1.0</td>\n",
       "      <td>0.625</td>\n",
       "      <td>0.485</td>\n",
       "      <td>0.150</td>\n",
       "      <td>1.0945</td>\n",
       "      <td>0.5310</td>\n",
       "      <td>0.2610</td>\n",
       "      <td>0.2960</td>\n",
       "      <td>10</td>\n",
       "    </tr>\n",
       "    <tr>\n",
       "      <th>4176</th>\n",
       "      <td>0.0</td>\n",
       "      <td>0.710</td>\n",
       "      <td>0.555</td>\n",
       "      <td>0.195</td>\n",
       "      <td>1.9485</td>\n",
       "      <td>0.9455</td>\n",
       "      <td>0.3765</td>\n",
       "      <td>0.4950</td>\n",
       "      <td>12</td>\n",
       "    </tr>\n",
       "  </tbody>\n",
       "</table>\n",
       "<p>4027 rows × 9 columns</p>\n",
       "</div>"
      ],
      "text/plain": [
       "      Sex  Length  Diameter  Height  Whole weight  Shucked weight  \\\n",
       "0     0.0   0.455     0.365   0.095        0.5140          0.2245   \n",
       "1     0.0   0.350     0.265   0.090        0.2255          0.0995   \n",
       "2     1.0   0.530     0.420   0.135        0.6770          0.2565   \n",
       "3     0.0   0.440     0.365   0.125        0.5160          0.2155   \n",
       "4     2.0   0.330     0.255   0.080        0.2050          0.0895   \n",
       "...   ...     ...       ...     ...           ...             ...   \n",
       "4172  1.0   0.565     0.450   0.165        0.8870          0.3700   \n",
       "4173  0.0   0.590     0.440   0.135        0.9660          0.4390   \n",
       "4174  0.0   0.600     0.475   0.205        1.1760          0.5255   \n",
       "4175  1.0   0.625     0.485   0.150        1.0945          0.5310   \n",
       "4176  0.0   0.710     0.555   0.195        1.9485          0.9455   \n",
       "\n",
       "      Viscera weight  Shell weight  Rings  \n",
       "0             0.1010        0.1500     15  \n",
       "1             0.0485        0.0700      7  \n",
       "2             0.1415        0.2100      9  \n",
       "3             0.1140        0.1550     10  \n",
       "4             0.0395        0.0550      7  \n",
       "...              ...           ...    ...  \n",
       "4172          0.2390        0.2490     11  \n",
       "4173          0.2145        0.2605     10  \n",
       "4174          0.2875        0.3080      9  \n",
       "4175          0.2610        0.2960     10  \n",
       "4176          0.3765        0.4950     12  \n",
       "\n",
       "[4027 rows x 9 columns]"
      ]
     },
     "execution_count": 21,
     "metadata": {},
     "output_type": "execute_result"
    }
   ],
   "source": [
    "df"
   ]
  },
  {
   "cell_type": "markdown",
   "id": "48dce1f8",
   "metadata": {},
   "source": [
    "# Loss Percentage:"
   ]
  },
  {
   "cell_type": "code",
   "execution_count": 22,
   "id": "6a1779b0",
   "metadata": {},
   "outputs": [
    {
     "data": {
      "text/plain": [
       "3.5910940866650707"
      ]
     },
     "execution_count": 22,
     "metadata": {},
     "output_type": "execute_result"
    }
   ],
   "source": [
    "loss_percent=(4177-4027)/4177*100\n",
    "loss_percent"
   ]
  },
  {
   "cell_type": "markdown",
   "id": "6623c64c",
   "metadata": {},
   "source": [
    "There is negligible loss of Data after removing outliers."
   ]
  },
  {
   "cell_type": "markdown",
   "id": "0ab966ef",
   "metadata": {},
   "source": [
    "# Model with desired outliers:"
   ]
  },
  {
   "cell_type": "code",
   "execution_count": 23,
   "id": "8813b271",
   "metadata": {},
   "outputs": [],
   "source": [
    "y=df['Rings']\n",
    "x=df.drop(columns=['Rings'])"
   ]
  },
  {
   "cell_type": "markdown",
   "id": "d38754a6",
   "metadata": {},
   "source": [
    "# Scaling:"
   ]
  },
  {
   "cell_type": "code",
   "execution_count": 24,
   "id": "56734c36",
   "metadata": {},
   "outputs": [],
   "source": [
    "from sklearn.preprocessing import StandardScaler\n",
    "\n",
    "scalar=StandardScaler()\n",
    "x_scaled=scalar.fit_transform(x)\n"
   ]
  },
  {
   "cell_type": "markdown",
   "id": "74ddd207",
   "metadata": {},
   "source": [
    "# Imporing Libraries Modeling the Data:"
   ]
  },
  {
   "cell_type": "code",
   "execution_count": 44,
   "id": "5228e1cf",
   "metadata": {},
   "outputs": [],
   "source": [
    "from sklearn.metrics import r2_score\n",
    "from sklearn.linear_model import LinearRegression\n",
    "from sklearn.model_selection import train_test_split"
   ]
  },
  {
   "cell_type": "markdown",
   "id": "94b4f791",
   "metadata": {},
   "source": [
    "# Finding the Best Random State:"
   ]
  },
  {
   "cell_type": "code",
   "execution_count": 47,
   "id": "e73eacae",
   "metadata": {},
   "outputs": [
    {
     "name": "stdout",
     "output_type": "stream",
     "text": [
      "At random state-34,the training accuracy is -0.5224578315720929\n",
      "At random state-34,the testing accuracy is -0.5219744213389272\n",
      "\n",
      "\n"
     ]
    }
   ],
   "source": [
    "lr=LinearRegression()\n",
    "for i in range(0,100):\n",
    "    x_train,x_test,y_train,y_test=train_test_split(x_scaled,y,test_size=0.20,random_state=i)\n",
    "    lr.fit(x_train,y_train)\n",
    "    pred_train=lr.predict(x_train)\n",
    "    pred_test=lr.predict(x_test)\n",
    "    if round(r2_score(y_train,pred_train)*100,1)==round(r2_score(y_test,pred_test)*100,1):\n",
    "        print(f'At random state-{i},the training accuracy is -{r2_score(y_train,pred_train)}')\n",
    "        print(f'At random state-{i},the testing accuracy is -{r2_score(y_test,pred_test)}')\n",
    "        print('\\n')\n"
   ]
  },
  {
   "cell_type": "markdown",
   "id": "54409b2d",
   "metadata": {},
   "source": [
    "We have found that best random state is '34'. We will create our train-test split using this random state."
   ]
  },
  {
   "cell_type": "markdown",
   "id": "686c8de4",
   "metadata": {},
   "source": [
    "# Creating train-test split:"
   ]
  },
  {
   "cell_type": "code",
   "execution_count": 60,
   "id": "f9e39b80",
   "metadata": {},
   "outputs": [],
   "source": [
    "x_train,x_test,y_train,y_test=train_test_split(x_scaled,y,test_size=0.20,random_state=34)\n"
   ]
  },
  {
   "cell_type": "markdown",
   "id": "bb59f8b6",
   "metadata": {},
   "source": [
    "# Linear Regression Model:"
   ]
  },
  {
   "cell_type": "code",
   "execution_count": 61,
   "id": "1018f871",
   "metadata": {},
   "outputs": [
    {
     "data": {
      "text/plain": [
       "LinearRegression()"
      ]
     },
     "execution_count": 61,
     "metadata": {},
     "output_type": "execute_result"
    }
   ],
   "source": [
    "lr.fit(x_train,y_train)\n"
   ]
  },
  {
   "cell_type": "code",
   "execution_count": 62,
   "id": "d1343733",
   "metadata": {},
   "outputs": [
    {
     "data": {
      "text/plain": [
       "array([ 8.07660241, 10.64465641,  9.21644673,  6.60742979, 11.58360758,\n",
       "        6.78626117,  7.87030228, 10.4875825 ,  7.15056591,  7.94535406,\n",
       "        7.1776416 ,  7.61658499,  8.52495189,  6.35172951, 10.87266871,\n",
       "       10.59548592, 10.93853981, 10.415534  , 12.32381748,  5.614587  ,\n",
       "        6.10585583, 13.16050391, 12.04189422, 13.81746608,  8.99182962,\n",
       "       10.36012545,  8.90219625,  8.55138373,  7.71611602,  8.22627325,\n",
       "       12.62977231,  9.88803468,  6.85900522, 11.99034977, 11.79702184,\n",
       "       12.39041034, 15.86402434, 11.01585272,  8.8682809 ,  9.55130229,\n",
       "        9.66764641, 10.12279536, 11.70503457,  9.22183886, 10.72595365,\n",
       "        8.95955057,  8.46804025,  9.26640486,  8.69829393, 13.02113838,\n",
       "        9.93041454,  5.9079766 ,  9.11856398,  9.30897153, 10.33295717,\n",
       "        9.2626437 ,  7.47151504, 10.06488308, 10.09634975,  8.86959957,\n",
       "       11.12058879,  7.05404478,  8.71835697, 11.53250176,  6.38826057,\n",
       "       10.99241392,  8.13707631, 11.74654726, 12.81441431,  8.59533201,\n",
       "       11.39040301,  6.11589243, 10.9760128 ,  9.8785635 ,  9.17218171,\n",
       "       11.92365965,  8.8013677 , 12.35936364, 10.73445199, 13.3044234 ,\n",
       "       11.22084663,  9.90104447, 10.30312337, 10.03717856, 11.95933431,\n",
       "       11.00139686, 12.24944233,  7.34380541,  7.64351812,  9.75674201,\n",
       "        7.12499908, 10.37754491, 10.64796916,  9.6710091 , 13.09537378,\n",
       "        9.17492541,  8.90995054,  9.34367516, 12.50534937,  6.37181313,\n",
       "       10.73501638,  9.65989327,  8.09670165,  9.85925369,  6.99852846,\n",
       "       12.10514513, 14.40359824,  7.44938972, 11.525846  ,  9.43230785,\n",
       "       11.08434623, 10.68431265,  9.18143138,  8.63356373, 10.89863024,\n",
       "        7.27128491, 11.08569559, 12.01872614,  8.26115289,  9.73807641,\n",
       "        8.82722275,  9.93056979, 10.88103914,  9.25732419, 11.86256916,\n",
       "        8.7545368 ,  7.93540707, 12.90032638, 15.39676061,  8.11305368,\n",
       "        8.13730383,  6.00827723,  9.07927214, 11.57742583,  7.08415301,\n",
       "       10.63197719, 10.74150584, 12.35000797,  8.40032012, 10.85047024,\n",
       "        9.42472379, 10.00792587,  6.97208585,  8.53235919,  8.26251456,\n",
       "       11.07481136,  9.34735439,  9.72297524,  9.29257871, 11.26977572,\n",
       "        8.42167796,  9.96222339, 13.42794848,  5.28490459,  8.12150411,\n",
       "        8.31395621,  8.39241007, 11.62642565, 12.79984121,  9.30941469,\n",
       "       11.75703193, 13.39289638, 17.25247165, 10.51184715, 10.09874019,\n",
       "       10.90039713, 10.01490406, 10.00787766,  9.18708972,  7.52529583,\n",
       "        9.75139979, 12.78482269,  9.10362369, 12.07189625,  7.86894313,\n",
       "       10.53990074,  8.66646817, 11.81919037,  8.23732344, 10.90768067,\n",
       "        8.22113482,  7.46277833, 11.61908324,  7.12099246, 10.44138347,\n",
       "        9.07411847,  9.49878121,  9.61100744,  8.90827875,  9.59660444,\n",
       "       13.06758924,  7.38659221, 10.19064174,  9.25332549,  8.05989113,\n",
       "        7.47134291, 10.69693962,  8.37766724, 12.274972  , 11.69344444,\n",
       "       11.5495105 ,  9.7941248 ,  8.20600102,  8.53557538,  8.34743714,\n",
       "       10.44090908,  8.97574264,  7.29531952,  8.66759214,  6.99784973,\n",
       "        7.93516188,  7.82240282, 10.80572769,  9.05959291, 10.62348158,\n",
       "        9.70858353, 10.50440412, 12.55859218,  8.36686096,  9.634032  ,\n",
       "        8.95531123, 10.41080067,  9.75590948, 10.46105635, 14.67752692,\n",
       "        9.72780936,  4.8473155 ,  9.01038235, 11.51055339,  6.93994635,\n",
       "        9.30765082, 11.75264104, 14.4423612 ,  8.02231759, 10.49719646,\n",
       "       11.91897095, 11.68665544, 13.05897994, 10.938181  , 10.09737208,\n",
       "       12.1492763 ,  8.01614534, 11.81128303, 14.61954834,  8.89396376,\n",
       "        7.33037122,  4.35668444, 12.14508738, 10.17024143, 12.59258086,\n",
       "       10.42554449, 11.70488723, 13.03539391,  5.74386479, 10.79270698,\n",
       "       15.27777414,  8.46624942, 10.85448705,  8.10172301, 12.83380588,\n",
       "        6.44316924,  6.44613899,  6.95468498,  9.9429954 , 11.15304725,\n",
       "        7.77097145, 12.66462812,  7.91853622, 12.22092203, 10.57229377,\n",
       "       10.62438025,  7.33164119,  7.37571871,  9.13451505,  9.77512916,\n",
       "        9.51680916,  8.34090959,  7.99989395,  7.65121905, 11.4543718 ,\n",
       "       10.80501933, 12.71156405,  6.2254186 , 10.15334273,  8.63318435,\n",
       "       10.15779331,  7.97197895, 12.68245859, 10.78280237,  6.78034313,\n",
       "       10.58713815, 11.91298167, 10.25216829,  8.12184371,  9.14546924,\n",
       "       12.6091043 ,  8.37035408,  9.75659935, 11.12511291, 11.93796211,\n",
       "        9.78141309,  9.25870997,  9.61386268, 11.28194482, 11.93907527,\n",
       "       10.49912971,  9.51954785, 10.09861537,  8.70164874, 10.07670802,\n",
       "        7.77633143,  9.24125241,  7.14680835, 13.23746406, 11.46344923,\n",
       "       11.63388649,  9.2800972 ,  9.47511943, 11.66300814, 10.87960769,\n",
       "        5.76794608, 10.04339748,  6.87499812, 10.06672095, 10.04945334,\n",
       "       10.76436527, 10.01846958,  6.84048184,  9.31786388,  5.67939248,\n",
       "       11.05959515,  7.68917705,  8.0114674 ,  9.79392936, 12.7787124 ,\n",
       "        7.16499909,  8.42068862,  5.47972981,  8.59157347,  8.65809058,\n",
       "        9.61055833, 10.60053624, 10.19080952, 10.17439   , 11.13373914,\n",
       "        7.03581879,  9.43053243,  9.32557933,  9.31150269,  9.12894193,\n",
       "        6.48443275, 12.17274929,  9.21238624,  6.58019511,  8.77747204,\n",
       "        9.43078428,  8.14922675, 10.85130662,  7.92518052,  9.31733927,\n",
       "        5.76503832,  8.70796517, 11.55227373, 11.59611119,  8.22868406,\n",
       "       10.05620471,  8.46775519, 13.45738026, 10.37963736,  7.5295    ,\n",
       "        8.67673001, 10.55648062,  8.40349346,  6.05533538, 10.95372351,\n",
       "        8.29284194,  7.03660279, 10.0897444 , 10.76377403, 12.22798694,\n",
       "       11.2162346 ,  6.0179979 ,  9.98871837, 12.39241873, 10.49294192,\n",
       "        9.92717916, 13.96061204, 12.35733701,  9.61717144,  6.47547013,\n",
       "        4.5986436 ,  8.29338713, 10.38279481,  9.3167198 ,  9.64653362,\n",
       "       10.03503731,  9.58436514,  9.07586794, 10.47706657, 10.00070017,\n",
       "       10.87932847,  6.64630116,  8.02534858,  8.94739785,  7.49895134,\n",
       "       11.30623165,  7.80973106, 10.56621806, 13.4083867 , 13.88827607,\n",
       "        8.64273533,  7.68276272,  7.25068381, 10.20722913,  8.76392106,\n",
       "       16.43782784, 11.39868796, 15.50609437, 13.07493586,  8.63819625,\n",
       "        7.98471605, 10.54084009,  8.41993241, 10.75129581,  9.88191698,\n",
       "        7.98140651,  8.67607419,  8.20276675,  7.87907367,  8.20160016,\n",
       "        7.48807285,  7.06869494, 10.48194375, 11.31351494,  9.26334696,\n",
       "       12.65878599,  9.72232806,  7.15780359,  9.09625969, 10.83353011,\n",
       "        8.8061178 , 12.49556972, 12.49987605,  6.75878908,  9.97320091,\n",
       "       11.81584425, 11.56853182,  8.94876527,  8.44168105, 10.6193296 ,\n",
       "        7.18160856, 10.33510637,  8.32576679,  8.30216351, 10.48459279,\n",
       "        6.17670512,  7.22275587, 11.27201354,  9.00789204, 10.23566244,\n",
       "        9.56258587,  8.63775939,  5.66593911,  6.50319971, 12.31802047,\n",
       "       12.36852715,  8.46952066,  6.23327189,  8.90402158, 10.45705683,\n",
       "       12.13877474,  7.81507688,  9.82340757, 10.241072  ,  4.96690528,\n",
       "        9.13900943,  7.73781535, 12.55737099,  6.55835961,  9.29151601,\n",
       "       11.58040195, 10.61602746, 10.32338603,  9.82594225,  6.48344837,\n",
       "        9.59505184, 10.08462715, 12.24432518,  8.49214342, 14.22200461,\n",
       "        6.85580295,  9.13319498,  8.84035816, 12.95705338,  7.58309073,\n",
       "       11.2392471 , 10.51047754,  5.7892853 ,  9.55041161,  6.05211244,\n",
       "       12.03850356, 12.62392993, 10.516051  ,  8.458433  , 12.327487  ,\n",
       "       13.17061576,  6.50122645, 11.54516944,  9.37493508, 10.94673002,\n",
       "       10.2072278 ,  8.2170996 , 11.66682216, 10.7532539 ,  9.70372143,\n",
       "        8.79763654, 11.23243337, 12.17292352,  7.55507071,  8.82371412,\n",
       "        6.83612416,  8.42804888,  9.56458482, 10.65838175,  6.99137987,\n",
       "        8.5230345 ,  7.22590746,  8.1103474 ,  9.50842529, 10.66307834,\n",
       "        6.68657666, 10.29962758,  8.12106403,  8.8787528 ,  8.85819109,\n",
       "        9.99086431, 12.73002809,  8.28979693,  4.81687576,  8.69299872,\n",
       "       12.13796664,  9.03408967, 11.96159526, 11.2645836 ,  9.54087605,\n",
       "        6.9042568 ,  7.45642889,  5.6965136 , 12.137344  ,  5.06984518,\n",
       "        9.48682797, 10.20765435,  8.75170563, 12.35901996, 10.6509844 ,\n",
       "       12.97049276,  8.21645801,  9.92997025, 10.18629803,  7.65428759,\n",
       "        5.68609091, 11.27670647,  8.96982444,  7.79210551,  7.39794891,\n",
       "       10.83961843,  9.6168756 ,  8.41183322, 13.07168883, 10.02414878,\n",
       "        9.12961253, 10.38428748, 14.33780023,  9.19727626,  7.16453819,\n",
       "        7.15136094, 16.17777094,  7.35459993,  8.02787528,  5.90903   ,\n",
       "       13.02442518, 10.73124634,  9.73427438,  8.38126475,  9.29116366,\n",
       "        7.71484791,  9.28141312,  8.73135278, 12.32011103, 11.59919869,\n",
       "        9.58331803,  7.0183877 , 10.53200881, 11.44048299,  7.81253712,\n",
       "        7.23913005, 11.536097  ,  7.60314507, 13.63851177, 14.3159837 ,\n",
       "       12.27893038, 10.06410385, 10.26694072, 10.02195007,  9.61925049,\n",
       "        8.61735608,  6.69494167,  7.53804281, 10.62152994,  9.00593836,\n",
       "        8.03952253, 12.18740652,  5.26549287, 11.94689067,  7.999479  ,\n",
       "        9.53501909, 10.51272902,  9.34353981, 11.86356122,  9.78076942,\n",
       "        8.41740047,  6.71044641,  9.18267437,  6.92545488, 10.75624965,\n",
       "        7.00897939,  7.93051003,  8.43115443,  7.92988371,  9.91305627,\n",
       "        7.46954761,  8.80367504, 10.45326661,  9.32704996,  9.61965253,\n",
       "       12.71296622,  9.87927704, 11.32185818,  9.86504943,  5.86767446,\n",
       "        9.98874094, 13.58542664,  8.09810194,  9.54548026,  8.92952407,\n",
       "        7.61855005,  9.75478349,  7.6972487 , 12.6349689 , 11.06236345,\n",
       "        9.76311757,  7.50818745,  8.99978161,  7.58313411,  9.96808474,\n",
       "       11.51655659,  6.69727781, 10.24778854,  8.18072525,  9.36582238,\n",
       "        7.18035004,  8.20729836,  6.34729452,  9.8927162 ,  8.99950154,\n",
       "       10.47756119, 10.85681386,  6.39716838,  6.34493763,  9.36108395,\n",
       "        8.09060444,  9.08236848,  9.82880645, 10.47616143,  9.82483292,\n",
       "       12.10597925,  6.25889223, 12.42808338,  7.66893677,  9.27697068,\n",
       "        9.03942622, 12.4300277 ,  6.74485766, 11.35534035, 11.62074019,\n",
       "        9.48095886, 11.59385553,  6.94967943, 12.50719731, 10.06770944,\n",
       "       10.29363809, 10.22941409,  7.09842028,  9.52466732, 10.69727368,\n",
       "       13.45990686,  9.78272173, 12.33100586, 12.97300047, 10.00557161,\n",
       "       11.46486762,  8.3886925 ,  6.93090886, 10.1383727 , 13.04268678,\n",
       "        7.64774966, 10.80776296, 13.83122093,  5.95726754, 12.32493228,\n",
       "        9.08402349,  7.08293284, 13.12084177,  8.35802541, 11.65699843,\n",
       "        5.94068224, 13.00833129, 10.08958735,  7.3098402 ,  8.25552663,\n",
       "       14.53240053,  9.90886383, 11.67454811, 11.51038771,  9.73145335,\n",
       "       15.14317732,  8.78378757,  8.98888663,  7.06390268,  9.60071891,\n",
       "        9.3952571 ,  7.49141395,  7.64738672, 12.45459335,  8.14562693,\n",
       "        9.26446297, 12.05579191,  8.3536509 , 11.68234683,  8.28631111,\n",
       "        8.23465761,  9.57917301,  5.45116196,  6.19089033, 12.2778253 ,\n",
       "       10.88524786,  9.57725567, 14.91663951,  7.3165062 , 10.79314994,\n",
       "       11.02161508,  7.54827136, 12.51940994, 10.02773535, 10.75659201,\n",
       "        5.8706554 ,  8.17293595,  6.22641125, 10.52433253, 10.13043303,\n",
       "        8.67629265,  4.73172786,  9.58202322, 11.21604525, 11.94858298,\n",
       "       10.0579291 ,  8.63763787,  9.8841865 , 11.0465868 ,  9.00346465,\n",
       "        9.04211285,  9.4417457 ,  9.42736713,  7.95748059, 13.80523564,\n",
       "       10.99725586,  8.22651021, 15.31843581,  7.24646306,  8.78820487,\n",
       "        7.22163075,  8.46801348,  8.34777672, 10.18399781,  8.0643836 ,\n",
       "        9.74268675, 10.5407421 ,  7.65980389,  8.81784262,  9.44093985,\n",
       "       14.06032088,  6.44054647, 11.5092455 , 10.38837691, 10.3152708 ,\n",
       "       11.42018371,  8.55403067,  7.07954023,  9.5318769 , 10.01556619,\n",
       "        7.2933403 ,  8.72232971,  6.16055117, 10.73153855,  6.48096764,\n",
       "       11.09928462])"
      ]
     },
     "execution_count": 62,
     "metadata": {},
     "output_type": "execute_result"
    }
   ],
   "source": [
    "pred_test=lr.predict(x_test)\n",
    "pred_test"
   ]
  },
  {
   "cell_type": "code",
   "execution_count": 63,
   "id": "1da24114",
   "metadata": {},
   "outputs": [
    {
     "data": {
      "text/plain": [
       "0.5219744213389272"
      ]
     },
     "execution_count": 63,
     "metadata": {},
     "output_type": "execute_result"
    }
   ],
   "source": [
    "r2_score(y_test,pred_test)"
   ]
  },
  {
   "cell_type": "markdown",
   "id": "7f01db5d",
   "metadata": {},
   "source": [
    "#  CrossValidation Score:"
   ]
  },
  {
   "cell_type": "code",
   "execution_count": 65,
   "id": "ff83e991",
   "metadata": {},
   "outputs": [
    {
     "name": "stdout",
     "output_type": "stream",
     "text": [
      "at cv:- 2\n",
      "cv score- 51.77244629071187\n",
      "training_accuracy- -50.53381365083345\n",
      "testing_accuracy- 52.19744213389272\n",
      "at cv:- 3\n",
      "cv score- 50.64317992709729\n",
      "training_accuracy- -50.53381365083345\n",
      "testing_accuracy- 52.19744213389272\n",
      "at cv:- 4\n",
      "cv score- 43.753626568442506\n",
      "training_accuracy- -50.53381365083345\n",
      "testing_accuracy- 52.19744213389272\n",
      "at cv:- 5\n",
      "cv score- 43.18814521080143\n",
      "training_accuracy- -50.53381365083345\n",
      "testing_accuracy- 52.19744213389272\n",
      "at cv:- 6\n",
      "cv score- 44.097325235182794\n",
      "training_accuracy- -50.53381365083345\n",
      "testing_accuracy- 52.19744213389272\n",
      "at cv:- 7\n",
      "cv score- 45.02503568532688\n",
      "training_accuracy- -50.53381365083345\n",
      "testing_accuracy- 52.19744213389272\n",
      "at cv:- 8\n",
      "cv score- 41.35238784291987\n",
      "training_accuracy- -50.53381365083345\n",
      "testing_accuracy- 52.19744213389272\n",
      "at cv:- 9\n",
      "cv score- 44.11794462128598\n",
      "training_accuracy- -50.53381365083345\n",
      "testing_accuracy- 52.19744213389272\n"
     ]
    }
   ],
   "source": [
    "training_accuracy=r2_score(y_train,pred_train)\n",
    "testing_accuracy=r2_score(y_test,pred_test)\n",
    "from sklearn.model_selection import cross_val_score\n",
    "for i in range(2,10):\n",
    "    csv=cross_val_score(lr,x_scaled,y,cv=i)\n",
    "    cv_mean=csv.mean()\n",
    "    print('at cv:-',i)\n",
    "    print('cv score-',cv_mean*100)\n",
    "    print('training_accuracy-',training_accuracy*100)\n",
    "    print('testing_accuracy-',testing_accuracy*100)"
   ]
  },
  {
   "cell_type": "markdown",
   "id": "1aa65196",
   "metadata": {},
   "source": [
    "Cros valiation Score at cv=2 is giving the best score."
   ]
  },
  {
   "cell_type": "markdown",
   "id": "3f03781c",
   "metadata": {},
   "source": [
    "# Linear Regression Plot:"
   ]
  },
  {
   "cell_type": "code",
   "execution_count": 66,
   "id": "9ccc9581",
   "metadata": {},
   "outputs": [
    {
     "data": {
      "image/png": "[encoded data removed]",
      "text/plain": [
       "<Figure size 576x432 with 1 Axes>"
      ]
     },
     "metadata": {
      "needs_background": "light"
     },
     "output_type": "display_data"
    }
   ],
   "source": [
    "plt.figure(figsize=(8,6))\n",
    "plt.scatter(y_test,pred_test,color='y')\n",
    "plt.plot(y_test,y_test,color='g')\n",
    "plt.xlabel('Actual rings',fontsize=14)\n",
    "plt.ylabel('predicted rings',fontsize=14)\n",
    "plt.title('Linear Regression',fontsize=18)\n",
    "plt.show()"
   ]
  },
  {
   "cell_type": "markdown",
   "id": "8ae0de5c",
   "metadata": {},
   "source": [
    "Plot to differentiate between actual and predicted target data."
   ]
  },
  {
   "cell_type": "markdown",
   "id": "ca611c70",
   "metadata": {},
   "source": [
    "# Regularisation and HyperParameter Tuning:"
   ]
  },
  {
   "cell_type": "code",
   "execution_count": 67,
   "id": "0e1a61cd",
   "metadata": {},
   "outputs": [
    {
     "name": "stdout",
     "output_type": "stream",
     "text": [
      "{'alpha': 0.001, 'random_state': 0}\n"
     ]
    }
   ],
   "source": [
    "from sklearn.model_selection import GridSearchCV\n",
    "from sklearn.linear_model import Lasso\n",
    "\n",
    "parameters={'alpha':[0.0001,.001,.01,.1,1,10], 'random_state':list(range(0,10))}\n",
    "ls=Lasso()\n",
    "clf=GridSearchCV(ls,parameters)\n",
    "clf.fit(x_train,y_train)\n",
    "\n",
    "print(clf.best_params_)"
   ]
  },
  {
   "cell_type": "markdown",
   "id": "78589601",
   "metadata": {},
   "source": [
    "# Lasso Regression :"
   ]
  },
  {
   "cell_type": "code",
   "execution_count": 69,
   "id": "25300478",
   "metadata": {},
   "outputs": [
    {
     "data": {
      "text/plain": [
       "0.5217021834358796"
      ]
     },
     "execution_count": 69,
     "metadata": {},
     "output_type": "execute_result"
    }
   ],
   "source": [
    "ls=Lasso(alpha=0.001,random_state=0)\n",
    "ls.fit(x_train,y_train)\n",
    "ls.score(x_train,y_train)\n",
    "pred_ls=ls.predict(x_test)\n",
    "\n",
    "lss=r2_score(y_test,pred_ls)\n",
    "lss"
   ]
  },
  {
   "cell_type": "code",
   "execution_count": 70,
   "id": "b3b5e4de",
   "metadata": {},
   "outputs": [
    {
     "data": {
      "text/plain": [
       "0.5178483830720022"
      ]
     },
     "execution_count": 70,
     "metadata": {},
     "output_type": "execute_result"
    }
   ],
   "source": [
    "csv=cross_val_score(ls,x_scaled,y,cv=2)\n",
    "cv_mean=csv.mean()\n",
    "cv_mean"
   ]
  },
  {
   "cell_type": "markdown",
   "id": "d54e27fd",
   "metadata": {},
   "source": [
    "In Lasso Model r2score is 52% and cv score is 52% ."
   ]
  },
  {
   "cell_type": "markdown",
   "id": "4559b945",
   "metadata": {},
   "source": [
    "# Using Ensemble Approach:"
   ]
  },
  {
   "cell_type": "code",
   "execution_count": 73,
   "id": "4ae03ac6",
   "metadata": {},
   "outputs": [
    {
     "name": "stdout",
     "output_type": "stream",
     "text": [
      "{'criterion': 'mse', 'max_features': 'sqrt'}\n"
     ]
    }
   ],
   "source": [
    "from sklearn.model_selection import GridSearchCV\n",
    "from sklearn.ensemble import RandomForestRegressor\n",
    "\n",
    "\n",
    "parameters={'criterion':['mse', 'mae'],'max_features':['auto', 'sqrt', 'log2']}\n",
    "rf=RandomForestRegressor()\n",
    "clf=GridSe archCV(rf,parameters)\n",
    "clf.fit(x_train,y_train)\n",
    "\n",
    "print(clf.best_params_)"
   ]
  },
  {
   "cell_type": "markdown",
   "id": "e8a174fe",
   "metadata": {},
   "source": [
    "# RandomForestRegression:"
   ]
  },
  {
   "cell_type": "code",
   "execution_count": 74,
   "id": "b65bdc1e",
   "metadata": {},
   "outputs": [
    {
     "name": "stdout",
     "output_type": "stream",
     "text": [
      "R2 Score:  55.40675809733566\n",
      "Cross validation Score:  53.757348578895424\n"
     ]
    }
   ],
   "source": [
    "rf=RandomForestRegressor(criterion='mse',max_features='sqrt')\n",
    "rf.fit(x_train,y_train)\n",
    "rf.score(x_train,y_train)\n",
    "pred_rf=rf.predict(x_test)\n",
    "\n",
    "rfs=r2_score(y_test,pred_rf)\n",
    "print('R2 Score: ',rfs*100)\n",
    "\n",
    "rfcsv=cross_val_score(rf,x_scaled,y,cv=2)\n",
    "rf_cv_mean=rfcsv.mean()\n",
    "print('Cross validation Score: ',rf_cv_mean*100)"
   ]
  },
  {
   "cell_type": "markdown",
   "id": "a2984120",
   "metadata": {},
   "source": [
    "Here,R2 Score is 55% and cv score is 54% which is performing better than Linear model.\n",
    "\n",
    "So,RandomForestRegressor is considered."
   ]
  },
  {
   "cell_type": "markdown",
   "id": "46178573",
   "metadata": {},
   "source": [
    "# Saving the model:"
   ]
  },
  {
   "cell_type": "code",
   "execution_count": 75,
   "id": "e4336e83",
   "metadata": {},
   "outputs": [],
   "source": [
    "import pickle\n",
    "filename='abaloneageprediction.pkl'\n",
    "pickle.dump(rf,open(filename,'wb'))"
   ]
  },
  {
   "cell_type": "markdown",
   "id": "501d4c83",
   "metadata": {},
   "source": [
    "# Loading the Pickle File and checking the Score:"
   ]
  },
  {
   "cell_type": "code",
   "execution_count": 77,
   "id": "33a44083",
   "metadata": {},
   "outputs": [
    {
     "name": "stdout",
     "output_type": "stream",
     "text": [
      "0.5540675809733566\n"
     ]
    }
   ],
   "source": [
    "loaded_model=pickle.load(open('abaloneageprediction.pkl','rb'))\n",
    "result=loaded_model.score(x_test,y_test)\n",
    "print(result)"
   ]
  },
  {
   "cell_type": "markdown",
   "id": "f69806e0",
   "metadata": {},
   "source": [
    "# Conclusion:"
   ]
  },
  {
   "cell_type": "markdown",
   "id": "e2c522e4",
   "metadata": {},
   "source": [
    "Here, we are displaying Original and Predicted outcome:Rings.\n",
    " \n",
    "And also calculated the Origial and Predicted Age of Alabone."
   ]
  },
  {
   "cell_type": "code",
   "execution_count": 83,
   "id": "993829ae",
   "metadata": {},
   "outputs": [
    {
     "data": {
      "text/html": [
       "<div>\n",
       "<style scoped>\n",
       "    .dataframe tbody tr th:only-of-type {\n",
       "        vertical-align: middle;\n",
       "    }\n",
       "\n",
       "    .dataframe tbody tr th {\n",
       "        vertical-align: top;\n",
       "    }\n",
       "\n",
       "    .dataframe thead th {\n",
       "        text-align: right;\n",
       "    }\n",
       "</style>\n",
       "<table border=\"1\" class=\"dataframe\">\n",
       "  <thead>\n",
       "    <tr style=\"text-align: right;\">\n",
       "      <th></th>\n",
       "      <th>Original_Rings</th>\n",
       "      <th>Predicted_Rings</th>\n",
       "      <th>Original_Age(Yrs)</th>\n",
       "      <th>Predicted_Age(Yrs)</th>\n",
       "    </tr>\n",
       "  </thead>\n",
       "  <tbody>\n",
       "    <tr>\n",
       "      <th>0</th>\n",
       "      <td>8</td>\n",
       "      <td>7.76</td>\n",
       "      <td>9.5</td>\n",
       "      <td>9.26</td>\n",
       "    </tr>\n",
       "    <tr>\n",
       "      <th>1</th>\n",
       "      <td>9</td>\n",
       "      <td>10.53</td>\n",
       "      <td>10.5</td>\n",
       "      <td>12.03</td>\n",
       "    </tr>\n",
       "    <tr>\n",
       "      <th>2</th>\n",
       "      <td>9</td>\n",
       "      <td>10.19</td>\n",
       "      <td>10.5</td>\n",
       "      <td>11.69</td>\n",
       "    </tr>\n",
       "    <tr>\n",
       "      <th>3</th>\n",
       "      <td>6</td>\n",
       "      <td>6.12</td>\n",
       "      <td>7.5</td>\n",
       "      <td>7.62</td>\n",
       "    </tr>\n",
       "    <tr>\n",
       "      <th>4</th>\n",
       "      <td>13</td>\n",
       "      <td>11.78</td>\n",
       "      <td>14.5</td>\n",
       "      <td>13.28</td>\n",
       "    </tr>\n",
       "    <tr>\n",
       "      <th>...</th>\n",
       "      <td>...</td>\n",
       "      <td>...</td>\n",
       "      <td>...</td>\n",
       "      <td>...</td>\n",
       "    </tr>\n",
       "    <tr>\n",
       "      <th>801</th>\n",
       "      <td>7</td>\n",
       "      <td>8.91</td>\n",
       "      <td>8.5</td>\n",
       "      <td>10.41</td>\n",
       "    </tr>\n",
       "    <tr>\n",
       "      <th>802</th>\n",
       "      <td>6</td>\n",
       "      <td>6.31</td>\n",
       "      <td>7.5</td>\n",
       "      <td>7.81</td>\n",
       "    </tr>\n",
       "    <tr>\n",
       "      <th>803</th>\n",
       "      <td>11</td>\n",
       "      <td>11.30</td>\n",
       "      <td>12.5</td>\n",
       "      <td>12.80</td>\n",
       "    </tr>\n",
       "    <tr>\n",
       "      <th>804</th>\n",
       "      <td>6</td>\n",
       "      <td>6.06</td>\n",
       "      <td>7.5</td>\n",
       "      <td>7.56</td>\n",
       "    </tr>\n",
       "    <tr>\n",
       "      <th>805</th>\n",
       "      <td>9</td>\n",
       "      <td>9.99</td>\n",
       "      <td>10.5</td>\n",
       "      <td>11.49</td>\n",
       "    </tr>\n",
       "  </tbody>\n",
       "</table>\n",
       "<p>806 rows × 4 columns</p>\n",
       "</div>"
      ],
      "text/plain": [
       "     Original_Rings  Predicted_Rings  Original_Age(Yrs)  Predicted_Age(Yrs)\n",
       "0                 8             7.76                9.5                9.26\n",
       "1                 9            10.53               10.5               12.03\n",
       "2                 9            10.19               10.5               11.69\n",
       "3                 6             6.12                7.5                7.62\n",
       "4                13            11.78               14.5               13.28\n",
       "..              ...              ...                ...                 ...\n",
       "801               7             8.91                8.5               10.41\n",
       "802               6             6.31                7.5                7.81\n",
       "803              11            11.30               12.5               12.80\n",
       "804               6             6.06                7.5                7.56\n",
       "805               9             9.99               10.5               11.49\n",
       "\n",
       "[806 rows x 4 columns]"
      ]
     },
     "execution_count": 83,
     "metadata": {},
     "output_type": "execute_result"
    }
   ],
   "source": [
    "import numpy as np\n",
    "a=np.array(y_test)\n",
    "predicted=np.array(rf.predict(x_test))\n",
    "df_conclusion=pd.DataFrame({'Original_Rings':a,'Predicted_Rings':predicted},index=range(len(a)))\n",
    "df_conclusion['Original_Age(Yrs)']=df_conclusion['Original_Rings']+1.5\n",
    "df_conclusion['Predicted_Age(Yrs)']=df_conclusion['Predicted_Rings']+1.5\n",
    "df_conclusion"
   ]
  },
  {
   "cell_type": "code",
   "execution_count": null,
   "id": "d1da65a1",
   "metadata": {},
   "outputs": [],
   "source": []
  }
 ],
 "metadata": {
  "kernelspec": {
   "display_name": "Python 3",
   "language": "python",
   "name": "python3"
  },
  "language_info": {
   "codemirror_mode": {
    "name": "ipython",
    "version": 3
   },
   "file_extension": ".py",
   "mimetype": "text/x-python",
   "name": "python",
   "nbconvert_exporter": "python",
   "pygments_lexer": "ipython3",
   "version": "3.8.8"
  }
 },
 "nbformat": 4,
 "nbformat_minor": 5
}
