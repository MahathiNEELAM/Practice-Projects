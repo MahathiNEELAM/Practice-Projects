{
 "cells": [
  {
   "cell_type": "markdown",
   "id": "4c5c1566",
   "metadata": {},
   "source": [
    "# Evaluation Project - 5:Census Income Project"
   ]
  },
  {
   "cell_type": "markdown",
   "id": "b5d9e362",
   "metadata": {},
   "source": [
    "# Problem Statement:\n",
    "\n",
    "This data was extracted from the 1994 Census bureau database by Ronny Kohavi and Barry Becker (Data Mining and Visualization, Silicon Graphics). A set of reasonably clean records was extracted using the following conditions: ((AAGE>16) && (AGI>100) && (AFNLWGT>1) && (HRSWK>0)). The prediction task is to determine whether a person makes over $50K a year."
   ]
  },
  {
   "cell_type": "markdown",
   "id": "7d28879b",
   "metadata": {},
   "source": [
    "# Imorting all the necessary libraries:"
   ]
  },
  {
   "cell_type": "code",
   "execution_count": 1,
   "id": "edae3bf0",
   "metadata": {},
   "outputs": [],
   "source": [
    "import pandas as pd \n",
    "import numpy as np\n",
    "import matplotlib.pyplot as plt\n",
    "import seaborn as sns\n",
    "\n",
    "import warnings\n",
    "warnings.filterwarnings('ignore')"
   ]
  },
  {
   "cell_type": "markdown",
   "id": "b4eb6307",
   "metadata": {},
   "source": [
    "# Load the Data Set:"
   ]
  },
  {
   "cell_type": "code",
   "execution_count": 2,
   "id": "f8b364f0",
   "metadata": {},
   "outputs": [
    {
     "data": {
      "text/html": [
       "<div>\n",
       "<style scoped>\n",
       "    .dataframe tbody tr th:only-of-type {\n",
       "        vertical-align: middle;\n",
       "    }\n",
       "\n",
       "    .dataframe tbody tr th {\n",
       "        vertical-align: top;\n",
       "    }\n",
       "\n",
       "    .dataframe thead th {\n",
       "        text-align: right;\n",
       "    }\n",
       "</style>\n",
       "<table border=\"1\" class=\"dataframe\">\n",
       "  <thead>\n",
       "    <tr style=\"text-align: right;\">\n",
       "      <th></th>\n",
       "      <th>Age</th>\n",
       "      <th>Workclass</th>\n",
       "      <th>Fnlwgt</th>\n",
       "      <th>Education</th>\n",
       "      <th>Education_num</th>\n",
       "      <th>Marital_status</th>\n",
       "      <th>Occupation</th>\n",
       "      <th>Relationship</th>\n",
       "      <th>Race</th>\n",
       "      <th>Sex</th>\n",
       "      <th>Capital_gain</th>\n",
       "      <th>Capital_loss</th>\n",
       "      <th>Hours_per_week</th>\n",
       "      <th>Native_country</th>\n",
       "      <th>Income</th>\n",
       "    </tr>\n",
       "  </thead>\n",
       "  <tbody>\n",
       "    <tr>\n",
       "      <th>0</th>\n",
       "      <td>50</td>\n",
       "      <td>Self-emp-not-inc</td>\n",
       "      <td>83311</td>\n",
       "      <td>Bachelors</td>\n",
       "      <td>13</td>\n",
       "      <td>Married-civ-spouse</td>\n",
       "      <td>Exec-managerial</td>\n",
       "      <td>Husband</td>\n",
       "      <td>White</td>\n",
       "      <td>Male</td>\n",
       "      <td>0</td>\n",
       "      <td>0</td>\n",
       "      <td>13</td>\n",
       "      <td>United-States</td>\n",
       "      <td>&lt;=50K</td>\n",
       "    </tr>\n",
       "    <tr>\n",
       "      <th>1</th>\n",
       "      <td>38</td>\n",
       "      <td>Private</td>\n",
       "      <td>215646</td>\n",
       "      <td>HS-grad</td>\n",
       "      <td>9</td>\n",
       "      <td>Divorced</td>\n",
       "      <td>Handlers-cleaners</td>\n",
       "      <td>Not-in-family</td>\n",
       "      <td>White</td>\n",
       "      <td>Male</td>\n",
       "      <td>0</td>\n",
       "      <td>0</td>\n",
       "      <td>40</td>\n",
       "      <td>United-States</td>\n",
       "      <td>&lt;=50K</td>\n",
       "    </tr>\n",
       "    <tr>\n",
       "      <th>2</th>\n",
       "      <td>53</td>\n",
       "      <td>Private</td>\n",
       "      <td>234721</td>\n",
       "      <td>11th</td>\n",
       "      <td>7</td>\n",
       "      <td>Married-civ-spouse</td>\n",
       "      <td>Handlers-cleaners</td>\n",
       "      <td>Husband</td>\n",
       "      <td>Black</td>\n",
       "      <td>Male</td>\n",
       "      <td>0</td>\n",
       "      <td>0</td>\n",
       "      <td>40</td>\n",
       "      <td>United-States</td>\n",
       "      <td>&lt;=50K</td>\n",
       "    </tr>\n",
       "    <tr>\n",
       "      <th>3</th>\n",
       "      <td>28</td>\n",
       "      <td>Private</td>\n",
       "      <td>338409</td>\n",
       "      <td>Bachelors</td>\n",
       "      <td>13</td>\n",
       "      <td>Married-civ-spouse</td>\n",
       "      <td>Prof-specialty</td>\n",
       "      <td>Wife</td>\n",
       "      <td>Black</td>\n",
       "      <td>Female</td>\n",
       "      <td>0</td>\n",
       "      <td>0</td>\n",
       "      <td>40</td>\n",
       "      <td>Cuba</td>\n",
       "      <td>&lt;=50K</td>\n",
       "    </tr>\n",
       "    <tr>\n",
       "      <th>4</th>\n",
       "      <td>37</td>\n",
       "      <td>Private</td>\n",
       "      <td>284582</td>\n",
       "      <td>Masters</td>\n",
       "      <td>14</td>\n",
       "      <td>Married-civ-spouse</td>\n",
       "      <td>Exec-managerial</td>\n",
       "      <td>Wife</td>\n",
       "      <td>White</td>\n",
       "      <td>Female</td>\n",
       "      <td>0</td>\n",
       "      <td>0</td>\n",
       "      <td>40</td>\n",
       "      <td>United-States</td>\n",
       "      <td>&lt;=50K</td>\n",
       "    </tr>\n",
       "    <tr>\n",
       "      <th>...</th>\n",
       "      <td>...</td>\n",
       "      <td>...</td>\n",
       "      <td>...</td>\n",
       "      <td>...</td>\n",
       "      <td>...</td>\n",
       "      <td>...</td>\n",
       "      <td>...</td>\n",
       "      <td>...</td>\n",
       "      <td>...</td>\n",
       "      <td>...</td>\n",
       "      <td>...</td>\n",
       "      <td>...</td>\n",
       "      <td>...</td>\n",
       "      <td>...</td>\n",
       "      <td>...</td>\n",
       "    </tr>\n",
       "    <tr>\n",
       "      <th>32555</th>\n",
       "      <td>27</td>\n",
       "      <td>Private</td>\n",
       "      <td>257302</td>\n",
       "      <td>Assoc-acdm</td>\n",
       "      <td>12</td>\n",
       "      <td>Married-civ-spouse</td>\n",
       "      <td>Tech-support</td>\n",
       "      <td>Wife</td>\n",
       "      <td>White</td>\n",
       "      <td>Female</td>\n",
       "      <td>0</td>\n",
       "      <td>0</td>\n",
       "      <td>38</td>\n",
       "      <td>United-States</td>\n",
       "      <td>&lt;=50K</td>\n",
       "    </tr>\n",
       "    <tr>\n",
       "      <th>32556</th>\n",
       "      <td>40</td>\n",
       "      <td>Private</td>\n",
       "      <td>154374</td>\n",
       "      <td>HS-grad</td>\n",
       "      <td>9</td>\n",
       "      <td>Married-civ-spouse</td>\n",
       "      <td>Machine-op-inspct</td>\n",
       "      <td>Husband</td>\n",
       "      <td>White</td>\n",
       "      <td>Male</td>\n",
       "      <td>0</td>\n",
       "      <td>0</td>\n",
       "      <td>40</td>\n",
       "      <td>United-States</td>\n",
       "      <td>&gt;50K</td>\n",
       "    </tr>\n",
       "    <tr>\n",
       "      <th>32557</th>\n",
       "      <td>58</td>\n",
       "      <td>Private</td>\n",
       "      <td>151910</td>\n",
       "      <td>HS-grad</td>\n",
       "      <td>9</td>\n",
       "      <td>Widowed</td>\n",
       "      <td>Adm-clerical</td>\n",
       "      <td>Unmarried</td>\n",
       "      <td>White</td>\n",
       "      <td>Female</td>\n",
       "      <td>0</td>\n",
       "      <td>0</td>\n",
       "      <td>40</td>\n",
       "      <td>United-States</td>\n",
       "      <td>&lt;=50K</td>\n",
       "    </tr>\n",
       "    <tr>\n",
       "      <th>32558</th>\n",
       "      <td>22</td>\n",
       "      <td>Private</td>\n",
       "      <td>201490</td>\n",
       "      <td>HS-grad</td>\n",
       "      <td>9</td>\n",
       "      <td>Never-married</td>\n",
       "      <td>Adm-clerical</td>\n",
       "      <td>Own-child</td>\n",
       "      <td>White</td>\n",
       "      <td>Male</td>\n",
       "      <td>0</td>\n",
       "      <td>0</td>\n",
       "      <td>20</td>\n",
       "      <td>United-States</td>\n",
       "      <td>&lt;=50K</td>\n",
       "    </tr>\n",
       "    <tr>\n",
       "      <th>32559</th>\n",
       "      <td>52</td>\n",
       "      <td>Self-emp-inc</td>\n",
       "      <td>287927</td>\n",
       "      <td>HS-grad</td>\n",
       "      <td>9</td>\n",
       "      <td>Married-civ-spouse</td>\n",
       "      <td>Exec-managerial</td>\n",
       "      <td>Wife</td>\n",
       "      <td>White</td>\n",
       "      <td>Female</td>\n",
       "      <td>15024</td>\n",
       "      <td>0</td>\n",
       "      <td>40</td>\n",
       "      <td>United-States</td>\n",
       "      <td>&gt;50K</td>\n",
       "    </tr>\n",
       "  </tbody>\n",
       "</table>\n",
       "<p>32560 rows × 15 columns</p>\n",
       "</div>"
      ],
      "text/plain": [
       "       Age          Workclass  Fnlwgt    Education  Education_num  \\\n",
       "0       50   Self-emp-not-inc   83311    Bachelors             13   \n",
       "1       38            Private  215646      HS-grad              9   \n",
       "2       53            Private  234721         11th              7   \n",
       "3       28            Private  338409    Bachelors             13   \n",
       "4       37            Private  284582      Masters             14   \n",
       "...    ...                ...     ...          ...            ...   \n",
       "32555   27            Private  257302   Assoc-acdm             12   \n",
       "32556   40            Private  154374      HS-grad              9   \n",
       "32557   58            Private  151910      HS-grad              9   \n",
       "32558   22            Private  201490      HS-grad              9   \n",
       "32559   52       Self-emp-inc  287927      HS-grad              9   \n",
       "\n",
       "            Marital_status          Occupation    Relationship    Race  \\\n",
       "0       Married-civ-spouse     Exec-managerial         Husband   White   \n",
       "1                 Divorced   Handlers-cleaners   Not-in-family   White   \n",
       "2       Married-civ-spouse   Handlers-cleaners         Husband   Black   \n",
       "3       Married-civ-spouse      Prof-specialty            Wife   Black   \n",
       "4       Married-civ-spouse     Exec-managerial            Wife   White   \n",
       "...                    ...                 ...             ...     ...   \n",
       "32555   Married-civ-spouse        Tech-support            Wife   White   \n",
       "32556   Married-civ-spouse   Machine-op-inspct         Husband   White   \n",
       "32557              Widowed        Adm-clerical       Unmarried   White   \n",
       "32558        Never-married        Adm-clerical       Own-child   White   \n",
       "32559   Married-civ-spouse     Exec-managerial            Wife   White   \n",
       "\n",
       "           Sex  Capital_gain  Capital_loss  Hours_per_week  Native_country  \\\n",
       "0         Male             0             0              13   United-States   \n",
       "1         Male             0             0              40   United-States   \n",
       "2         Male             0             0              40   United-States   \n",
       "3       Female             0             0              40            Cuba   \n",
       "4       Female             0             0              40   United-States   \n",
       "...        ...           ...           ...             ...             ...   \n",
       "32555   Female             0             0              38   United-States   \n",
       "32556     Male             0             0              40   United-States   \n",
       "32557   Female             0             0              40   United-States   \n",
       "32558     Male             0             0              20   United-States   \n",
       "32559   Female         15024             0              40   United-States   \n",
       "\n",
       "       Income  \n",
       "0       <=50K  \n",
       "1       <=50K  \n",
       "2       <=50K  \n",
       "3       <=50K  \n",
       "4       <=50K  \n",
       "...       ...  \n",
       "32555   <=50K  \n",
       "32556    >50K  \n",
       "32557   <=50K  \n",
       "32558   <=50K  \n",
       "32559    >50K  \n",
       "\n",
       "[32560 rows x 15 columns]"
      ]
     },
     "execution_count": 2,
     "metadata": {},
     "output_type": "execute_result"
    }
   ],
   "source": [
    "df=pd.read_csv('census_income.csv')\n",
    "df"
   ]
  },
  {
   "cell_type": "markdown",
   "id": "af8bd7dd",
   "metadata": {},
   "source": [
    "# Description of finalweight:\n",
    "    The weights on the Current Population Survey (CPS) files are controlled to independent estimates of the civilian non-institutional population of the US. These are prepared monthly for us by Population Division here at the Census Bureau. We use 3 sets of controls. These are:\n",
    "\n",
    "    > single cell estimate of the population 16+ for each state.\n",
    "\n",
    "    >Controls for Hispanic Origin by age and sex.\n",
    "\n",
    "    >Controls by Race, age and sex.\n",
    "We use all three sets of controls in our weighting program and \"rake\" through them 6 times so that by the end we come back to all the controls we used. The term estimate refers to population totals derived from CPS by creating \"weighted tallies\" of any specified socio-economic characteristics of the population. People with similar demographic characteristics should have similar weights. There is one important caveat to remember about this statement. That is that since the CPS sample is actually a collection of 51 state samples, each with its own probability of selection, the statement only applies within state.\n",
    "\n",
    "# Overall view:\n",
    "\n",
    "Here,the above dataset conatains all the details of the us population such as their age,workclass,finalwgt,education,marital status,occupation,relationship,race,SEX,capitalgain,capital loss,hrsper week,native country and income. The prediction task is to determine whether a person makes over $50K a year."
   ]
  },
  {
   "cell_type": "code",
   "execution_count": 3,
   "id": "b856f33a",
   "metadata": {},
   "outputs": [
    {
     "data": {
      "text/plain": [
       "(32560, 15)"
      ]
     },
     "execution_count": 3,
     "metadata": {},
     "output_type": "execute_result"
    }
   ],
   "source": [
    "#To get the data dimension \n",
    "df.shape"
   ]
  },
  {
   "cell_type": "code",
   "execution_count": 4,
   "id": "67ab4033",
   "metadata": {},
   "outputs": [
    {
     "name": "stdout",
     "output_type": "stream",
     "text": [
      "<class 'pandas.core.frame.DataFrame'>\n",
      "RangeIndex: 32560 entries, 0 to 32559\n",
      "Data columns (total 15 columns):\n",
      " #   Column          Non-Null Count  Dtype \n",
      "---  ------          --------------  ----- \n",
      " 0   Age             32560 non-null  int64 \n",
      " 1   Workclass       32560 non-null  object\n",
      " 2   Fnlwgt          32560 non-null  int64 \n",
      " 3   Education       32560 non-null  object\n",
      " 4   Education_num   32560 non-null  int64 \n",
      " 5   Marital_status  32560 non-null  object\n",
      " 6   Occupation      32560 non-null  object\n",
      " 7   Relationship    32560 non-null  object\n",
      " 8   Race            32560 non-null  object\n",
      " 9   Sex             32560 non-null  object\n",
      " 10  Capital_gain    32560 non-null  int64 \n",
      " 11  Capital_loss    32560 non-null  int64 \n",
      " 12  Hours_per_week  32560 non-null  int64 \n",
      " 13  Native_country  32560 non-null  object\n",
      " 14  Income          32560 non-null  object\n",
      "dtypes: int64(6), object(9)\n",
      "memory usage: 3.7+ MB\n"
     ]
    }
   ],
   "source": [
    "#To get all the information regarding data set:\n",
    "df.info()"
   ]
  },
  {
   "cell_type": "code",
   "execution_count": 6,
   "id": "35209fbf",
   "metadata": {},
   "outputs": [
    {
     "data": {
      "text/plain": [
       " <=50K    24719\n",
       " >50K      7841\n",
       "Name: Income, dtype: int64"
      ]
     },
     "execution_count": 6,
     "metadata": {},
     "output_type": "execute_result"
    }
   ],
   "source": [
    "df['Income'].value_counts() #To check the count of values in target variable('Income')"
   ]
  },
  {
   "cell_type": "code",
   "execution_count": 3,
   "id": "1abbb752",
   "metadata": {},
   "outputs": [
    {
     "data": {
      "image/png": "[encoded data removed]",
      "text/plain": [
       "<Figure size 432x288 with 1 Axes>"
      ]
     },
     "metadata": {
      "needs_background": "light"
     },
     "output_type": "display_data"
    }
   ],
   "source": [
    "sns.countplot(x='Income',data=df)\n",
    "plt.show()"
   ]
  },
  {
   "cell_type": "markdown",
   "id": "9e3b3dab",
   "metadata": {},
   "source": [
    "# Since there is huge imbalance,we will try to resolve using imbalance overrfitting techniques."
   ]
  },
  {
   "cell_type": "code",
   "execution_count": 8,
   "id": "3d8404bb",
   "metadata": {},
   "outputs": [
    {
     "data": {
      "text/plain": [
       "Age               0\n",
       "Workclass         0\n",
       "Fnlwgt            0\n",
       "Education         0\n",
       "Education_num     0\n",
       "Marital_status    0\n",
       "Occupation        0\n",
       "Relationship      0\n",
       "Race              0\n",
       "Sex               0\n",
       "Capital_gain      0\n",
       "Capital_loss      0\n",
       "Hours_per_week    0\n",
       "Native_country    0\n",
       "Income            0\n",
       "dtype: int64"
      ]
     },
     "execution_count": 8,
     "metadata": {},
     "output_type": "execute_result"
    }
   ],
   "source": [
    "df.isnull().sum() #checking the null value count of all the coulumns"
   ]
  },
  {
   "cell_type": "markdown",
   "id": "7fd4d15b",
   "metadata": {},
   "source": [
    "There are no null values in the dataset"
   ]
  },
  {
   "cell_type": "markdown",
   "id": "59270743",
   "metadata": {},
   "source": [
    "# Describing Data Set:"
   ]
  },
  {
   "cell_type": "code",
   "execution_count": 9,
   "id": "99b2db4a",
   "metadata": {},
   "outputs": [
    {
     "data": {
      "text/html": [
       "<div>\n",
       "<style scoped>\n",
       "    .dataframe tbody tr th:only-of-type {\n",
       "        vertical-align: middle;\n",
       "    }\n",
       "\n",
       "    .dataframe tbody tr th {\n",
       "        vertical-align: top;\n",
       "    }\n",
       "\n",
       "    .dataframe thead th {\n",
       "        text-align: right;\n",
       "    }\n",
       "</style>\n",
       "<table border=\"1\" class=\"dataframe\">\n",
       "  <thead>\n",
       "    <tr style=\"text-align: right;\">\n",
       "      <th></th>\n",
       "      <th>Age</th>\n",
       "      <th>Fnlwgt</th>\n",
       "      <th>Education_num</th>\n",
       "      <th>Capital_gain</th>\n",
       "      <th>Capital_loss</th>\n",
       "      <th>Hours_per_week</th>\n",
       "    </tr>\n",
       "  </thead>\n",
       "  <tbody>\n",
       "    <tr>\n",
       "      <th>count</th>\n",
       "      <td>32560.000000</td>\n",
       "      <td>3.256000e+04</td>\n",
       "      <td>32560.000000</td>\n",
       "      <td>32560.000000</td>\n",
       "      <td>32560.000000</td>\n",
       "      <td>32560.000000</td>\n",
       "    </tr>\n",
       "    <tr>\n",
       "      <th>mean</th>\n",
       "      <td>38.581634</td>\n",
       "      <td>1.897818e+05</td>\n",
       "      <td>10.080590</td>\n",
       "      <td>1077.615172</td>\n",
       "      <td>87.306511</td>\n",
       "      <td>40.437469</td>\n",
       "    </tr>\n",
       "    <tr>\n",
       "      <th>std</th>\n",
       "      <td>13.640642</td>\n",
       "      <td>1.055498e+05</td>\n",
       "      <td>2.572709</td>\n",
       "      <td>7385.402999</td>\n",
       "      <td>402.966116</td>\n",
       "      <td>12.347618</td>\n",
       "    </tr>\n",
       "    <tr>\n",
       "      <th>min</th>\n",
       "      <td>17.000000</td>\n",
       "      <td>1.228500e+04</td>\n",
       "      <td>1.000000</td>\n",
       "      <td>0.000000</td>\n",
       "      <td>0.000000</td>\n",
       "      <td>1.000000</td>\n",
       "    </tr>\n",
       "    <tr>\n",
       "      <th>25%</th>\n",
       "      <td>28.000000</td>\n",
       "      <td>1.178315e+05</td>\n",
       "      <td>9.000000</td>\n",
       "      <td>0.000000</td>\n",
       "      <td>0.000000</td>\n",
       "      <td>40.000000</td>\n",
       "    </tr>\n",
       "    <tr>\n",
       "      <th>50%</th>\n",
       "      <td>37.000000</td>\n",
       "      <td>1.783630e+05</td>\n",
       "      <td>10.000000</td>\n",
       "      <td>0.000000</td>\n",
       "      <td>0.000000</td>\n",
       "      <td>40.000000</td>\n",
       "    </tr>\n",
       "    <tr>\n",
       "      <th>75%</th>\n",
       "      <td>48.000000</td>\n",
       "      <td>2.370545e+05</td>\n",
       "      <td>12.000000</td>\n",
       "      <td>0.000000</td>\n",
       "      <td>0.000000</td>\n",
       "      <td>45.000000</td>\n",
       "    </tr>\n",
       "    <tr>\n",
       "      <th>max</th>\n",
       "      <td>90.000000</td>\n",
       "      <td>1.484705e+06</td>\n",
       "      <td>16.000000</td>\n",
       "      <td>99999.000000</td>\n",
       "      <td>4356.000000</td>\n",
       "      <td>99.000000</td>\n",
       "    </tr>\n",
       "  </tbody>\n",
       "</table>\n",
       "</div>"
      ],
      "text/plain": [
       "                Age        Fnlwgt  Education_num  Capital_gain  Capital_loss  \\\n",
       "count  32560.000000  3.256000e+04   32560.000000  32560.000000  32560.000000   \n",
       "mean      38.581634  1.897818e+05      10.080590   1077.615172     87.306511   \n",
       "std       13.640642  1.055498e+05       2.572709   7385.402999    402.966116   \n",
       "min       17.000000  1.228500e+04       1.000000      0.000000      0.000000   \n",
       "25%       28.000000  1.178315e+05       9.000000      0.000000      0.000000   \n",
       "50%       37.000000  1.783630e+05      10.000000      0.000000      0.000000   \n",
       "75%       48.000000  2.370545e+05      12.000000      0.000000      0.000000   \n",
       "max       90.000000  1.484705e+06      16.000000  99999.000000   4356.000000   \n",
       "\n",
       "       Hours_per_week  \n",
       "count    32560.000000  \n",
       "mean        40.437469  \n",
       "std         12.347618  \n",
       "min          1.000000  \n",
       "25%         40.000000  \n",
       "50%         40.000000  \n",
       "75%         45.000000  \n",
       "max         99.000000  "
      ]
     },
     "execution_count": 9,
     "metadata": {},
     "output_type": "execute_result"
    }
   ],
   "source": [
    "df.describe()"
   ]
  },
  {
   "cell_type": "markdown",
   "id": "3ed03e34",
   "metadata": {},
   "source": [
    "# Label Encoding:"
   ]
  },
  {
   "cell_type": "code",
   "execution_count": 5,
   "id": "1f1ff422",
   "metadata": {},
   "outputs": [
    {
     "data": {
      "text/plain": [
       "0    24719\n",
       "1     7841\n",
       "Name: Income, dtype: int64"
      ]
     },
     "execution_count": 5,
     "metadata": {},
     "output_type": "execute_result"
    }
   ],
   "source": [
    "from sklearn.preprocessing import LabelEncoder\n",
    "LE=LabelEncoder()\n",
    "df['Income']=LE.fit_transform(df['Income'])\n",
    "df['Income'].value_counts()"
   ]
  },
  {
   "cell_type": "markdown",
   "id": "26eec2e5",
   "metadata": {},
   "source": [
    "label Encoder is needeed to convert 'Income' target variable in to numeric values so that it is used to check correlaion of feautures and label\n"
   ]
  },
  {
   "cell_type": "markdown",
   "id": "50285173",
   "metadata": {},
   "source": [
    "# OrdinalEncoder:\n",
    "\n",
    "ordinal encoding is used to convert AlL the feature object data to numerical."
   ]
  },
  {
   "cell_type": "code",
   "execution_count": 6,
   "id": "8bb2df9e",
   "metadata": {},
   "outputs": [],
   "source": [
    "from sklearn.preprocessing import OrdinalEncoder\n",
    "ord_enc=OrdinalEncoder()\n",
    "\n",
    "for i in df.columns:\n",
    "    if df[i].dtypes==\"object\":\n",
    "        df[i]=ord_enc.fit_transform(df[i].values.reshape(-1,1))\n"
   ]
  },
  {
   "cell_type": "code",
   "execution_count": 5,
   "id": "f26b2ed4",
   "metadata": {},
   "outputs": [
    {
     "data": {
      "text/html": [
       "<div>\n",
       "<style scoped>\n",
       "    .dataframe tbody tr th:only-of-type {\n",
       "        vertical-align: middle;\n",
       "    }\n",
       "\n",
       "    .dataframe tbody tr th {\n",
       "        vertical-align: top;\n",
       "    }\n",
       "\n",
       "    .dataframe thead th {\n",
       "        text-align: right;\n",
       "    }\n",
       "</style>\n",
       "<table border=\"1\" class=\"dataframe\">\n",
       "  <thead>\n",
       "    <tr style=\"text-align: right;\">\n",
       "      <th></th>\n",
       "      <th>Age</th>\n",
       "      <th>Workclass</th>\n",
       "      <th>Fnlwgt</th>\n",
       "      <th>Education</th>\n",
       "      <th>Education_num</th>\n",
       "      <th>Marital_status</th>\n",
       "      <th>Occupation</th>\n",
       "      <th>Relationship</th>\n",
       "      <th>Race</th>\n",
       "      <th>Sex</th>\n",
       "      <th>Capital_gain</th>\n",
       "      <th>Capital_loss</th>\n",
       "      <th>Hours_per_week</th>\n",
       "      <th>Native_country</th>\n",
       "      <th>Income</th>\n",
       "    </tr>\n",
       "  </thead>\n",
       "  <tbody>\n",
       "    <tr>\n",
       "      <th>0</th>\n",
       "      <td>50</td>\n",
       "      <td>6.0</td>\n",
       "      <td>83311</td>\n",
       "      <td>9.0</td>\n",
       "      <td>13</td>\n",
       "      <td>2.0</td>\n",
       "      <td>4.0</td>\n",
       "      <td>0.0</td>\n",
       "      <td>4.0</td>\n",
       "      <td>1.0</td>\n",
       "      <td>0</td>\n",
       "      <td>0</td>\n",
       "      <td>13</td>\n",
       "      <td>39.0</td>\n",
       "      <td>0</td>\n",
       "    </tr>\n",
       "    <tr>\n",
       "      <th>1</th>\n",
       "      <td>38</td>\n",
       "      <td>4.0</td>\n",
       "      <td>215646</td>\n",
       "      <td>11.0</td>\n",
       "      <td>9</td>\n",
       "      <td>0.0</td>\n",
       "      <td>6.0</td>\n",
       "      <td>1.0</td>\n",
       "      <td>4.0</td>\n",
       "      <td>1.0</td>\n",
       "      <td>0</td>\n",
       "      <td>0</td>\n",
       "      <td>40</td>\n",
       "      <td>39.0</td>\n",
       "      <td>0</td>\n",
       "    </tr>\n",
       "    <tr>\n",
       "      <th>2</th>\n",
       "      <td>53</td>\n",
       "      <td>4.0</td>\n",
       "      <td>234721</td>\n",
       "      <td>1.0</td>\n",
       "      <td>7</td>\n",
       "      <td>2.0</td>\n",
       "      <td>6.0</td>\n",
       "      <td>0.0</td>\n",
       "      <td>2.0</td>\n",
       "      <td>1.0</td>\n",
       "      <td>0</td>\n",
       "      <td>0</td>\n",
       "      <td>40</td>\n",
       "      <td>39.0</td>\n",
       "      <td>0</td>\n",
       "    </tr>\n",
       "    <tr>\n",
       "      <th>3</th>\n",
       "      <td>28</td>\n",
       "      <td>4.0</td>\n",
       "      <td>338409</td>\n",
       "      <td>9.0</td>\n",
       "      <td>13</td>\n",
       "      <td>2.0</td>\n",
       "      <td>10.0</td>\n",
       "      <td>5.0</td>\n",
       "      <td>2.0</td>\n",
       "      <td>0.0</td>\n",
       "      <td>0</td>\n",
       "      <td>0</td>\n",
       "      <td>40</td>\n",
       "      <td>5.0</td>\n",
       "      <td>0</td>\n",
       "    </tr>\n",
       "    <tr>\n",
       "      <th>4</th>\n",
       "      <td>37</td>\n",
       "      <td>4.0</td>\n",
       "      <td>284582</td>\n",
       "      <td>12.0</td>\n",
       "      <td>14</td>\n",
       "      <td>2.0</td>\n",
       "      <td>4.0</td>\n",
       "      <td>5.0</td>\n",
       "      <td>4.0</td>\n",
       "      <td>0.0</td>\n",
       "      <td>0</td>\n",
       "      <td>0</td>\n",
       "      <td>40</td>\n",
       "      <td>39.0</td>\n",
       "      <td>0</td>\n",
       "    </tr>\n",
       "    <tr>\n",
       "      <th>...</th>\n",
       "      <td>...</td>\n",
       "      <td>...</td>\n",
       "      <td>...</td>\n",
       "      <td>...</td>\n",
       "      <td>...</td>\n",
       "      <td>...</td>\n",
       "      <td>...</td>\n",
       "      <td>...</td>\n",
       "      <td>...</td>\n",
       "      <td>...</td>\n",
       "      <td>...</td>\n",
       "      <td>...</td>\n",
       "      <td>...</td>\n",
       "      <td>...</td>\n",
       "      <td>...</td>\n",
       "    </tr>\n",
       "    <tr>\n",
       "      <th>32555</th>\n",
       "      <td>27</td>\n",
       "      <td>4.0</td>\n",
       "      <td>257302</td>\n",
       "      <td>7.0</td>\n",
       "      <td>12</td>\n",
       "      <td>2.0</td>\n",
       "      <td>13.0</td>\n",
       "      <td>5.0</td>\n",
       "      <td>4.0</td>\n",
       "      <td>0.0</td>\n",
       "      <td>0</td>\n",
       "      <td>0</td>\n",
       "      <td>38</td>\n",
       "      <td>39.0</td>\n",
       "      <td>0</td>\n",
       "    </tr>\n",
       "    <tr>\n",
       "      <th>32556</th>\n",
       "      <td>40</td>\n",
       "      <td>4.0</td>\n",
       "      <td>154374</td>\n",
       "      <td>11.0</td>\n",
       "      <td>9</td>\n",
       "      <td>2.0</td>\n",
       "      <td>7.0</td>\n",
       "      <td>0.0</td>\n",
       "      <td>4.0</td>\n",
       "      <td>1.0</td>\n",
       "      <td>0</td>\n",
       "      <td>0</td>\n",
       "      <td>40</td>\n",
       "      <td>39.0</td>\n",
       "      <td>1</td>\n",
       "    </tr>\n",
       "    <tr>\n",
       "      <th>32557</th>\n",
       "      <td>58</td>\n",
       "      <td>4.0</td>\n",
       "      <td>151910</td>\n",
       "      <td>11.0</td>\n",
       "      <td>9</td>\n",
       "      <td>6.0</td>\n",
       "      <td>1.0</td>\n",
       "      <td>4.0</td>\n",
       "      <td>4.0</td>\n",
       "      <td>0.0</td>\n",
       "      <td>0</td>\n",
       "      <td>0</td>\n",
       "      <td>40</td>\n",
       "      <td>39.0</td>\n",
       "      <td>0</td>\n",
       "    </tr>\n",
       "    <tr>\n",
       "      <th>32558</th>\n",
       "      <td>22</td>\n",
       "      <td>4.0</td>\n",
       "      <td>201490</td>\n",
       "      <td>11.0</td>\n",
       "      <td>9</td>\n",
       "      <td>4.0</td>\n",
       "      <td>1.0</td>\n",
       "      <td>3.0</td>\n",
       "      <td>4.0</td>\n",
       "      <td>1.0</td>\n",
       "      <td>0</td>\n",
       "      <td>0</td>\n",
       "      <td>20</td>\n",
       "      <td>39.0</td>\n",
       "      <td>0</td>\n",
       "    </tr>\n",
       "    <tr>\n",
       "      <th>32559</th>\n",
       "      <td>52</td>\n",
       "      <td>5.0</td>\n",
       "      <td>287927</td>\n",
       "      <td>11.0</td>\n",
       "      <td>9</td>\n",
       "      <td>2.0</td>\n",
       "      <td>4.0</td>\n",
       "      <td>5.0</td>\n",
       "      <td>4.0</td>\n",
       "      <td>0.0</td>\n",
       "      <td>15024</td>\n",
       "      <td>0</td>\n",
       "      <td>40</td>\n",
       "      <td>39.0</td>\n",
       "      <td>1</td>\n",
       "    </tr>\n",
       "  </tbody>\n",
       "</table>\n",
       "<p>32560 rows × 15 columns</p>\n",
       "</div>"
      ],
      "text/plain": [
       "       Age  Workclass  Fnlwgt  Education  Education_num  Marital_status  \\\n",
       "0       50        6.0   83311        9.0             13             2.0   \n",
       "1       38        4.0  215646       11.0              9             0.0   \n",
       "2       53        4.0  234721        1.0              7             2.0   \n",
       "3       28        4.0  338409        9.0             13             2.0   \n",
       "4       37        4.0  284582       12.0             14             2.0   \n",
       "...    ...        ...     ...        ...            ...             ...   \n",
       "32555   27        4.0  257302        7.0             12             2.0   \n",
       "32556   40        4.0  154374       11.0              9             2.0   \n",
       "32557   58        4.0  151910       11.0              9             6.0   \n",
       "32558   22        4.0  201490       11.0              9             4.0   \n",
       "32559   52        5.0  287927       11.0              9             2.0   \n",
       "\n",
       "       Occupation  Relationship  Race  Sex  Capital_gain  Capital_loss  \\\n",
       "0             4.0           0.0   4.0  1.0             0             0   \n",
       "1             6.0           1.0   4.0  1.0             0             0   \n",
       "2             6.0           0.0   2.0  1.0             0             0   \n",
       "3            10.0           5.0   2.0  0.0             0             0   \n",
       "4             4.0           5.0   4.0  0.0             0             0   \n",
       "...           ...           ...   ...  ...           ...           ...   \n",
       "32555        13.0           5.0   4.0  0.0             0             0   \n",
       "32556         7.0           0.0   4.0  1.0             0             0   \n",
       "32557         1.0           4.0   4.0  0.0             0             0   \n",
       "32558         1.0           3.0   4.0  1.0             0             0   \n",
       "32559         4.0           5.0   4.0  0.0         15024             0   \n",
       "\n",
       "       Hours_per_week  Native_country  Income  \n",
       "0                  13            39.0       0  \n",
       "1                  40            39.0       0  \n",
       "2                  40            39.0       0  \n",
       "3                  40             5.0       0  \n",
       "4                  40            39.0       0  \n",
       "...               ...             ...     ...  \n",
       "32555              38            39.0       0  \n",
       "32556              40            39.0       1  \n",
       "32557              40            39.0       0  \n",
       "32558              20            39.0       0  \n",
       "32559              40            39.0       1  \n",
       "\n",
       "[32560 rows x 15 columns]"
      ]
     },
     "execution_count": 5,
     "metadata": {},
     "output_type": "execute_result"
    }
   ],
   "source": [
    "df"
   ]
  },
  {
   "cell_type": "markdown",
   "id": "ca7071dc",
   "metadata": {},
   "source": [
    "# Correlation:"
   ]
  },
  {
   "cell_type": "markdown",
   "id": "aa53315d",
   "metadata": {},
   "source": [
    "# Correlation Using Heatmap:"
   ]
  },
  {
   "cell_type": "code",
   "execution_count": 16,
   "id": "690af7e7",
   "metadata": {},
   "outputs": [
    {
     "data": {
      "image/png": "[encoded data removed]",
      "text/plain": [
       "<Figure size 1584x1152 with 2 Axes>"
      ]
     },
     "metadata": {
      "needs_background": "light"
     },
     "output_type": "display_data"
    }
   ],
   "source": [
    "df_corr=df.corr().abs()\n",
    "\n",
    "plt.figure(figsize=(22,16))\n",
    "sns.heatmap(df_corr,annot=True,annot_kws={'size':12})\n",
    "plt.title('correlation matrix')\n",
    "plt.show()"
   ]
  },
  {
   "cell_type": "code",
   "execution_count": 17,
   "id": "1e0e554b",
   "metadata": {},
   "outputs": [
    {
     "data": {
      "text/plain": [
       "Income            1.000000\n",
       "Education_num     0.335182\n",
       "Age               0.234039\n",
       "Hours_per_week    0.229690\n",
       "Capital_gain      0.223333\n",
       "Sex               0.215995\n",
       "Capital_loss      0.150523\n",
       "Education         0.079311\n",
       "Occupation        0.075448\n",
       "Race              0.071853\n",
       "Workclass         0.051645\n",
       "Native_country    0.015845\n",
       "Fnlwgt           -0.009481\n",
       "Marital_status   -0.199295\n",
       "Relationship     -0.250924\n",
       "Name: Income, dtype: float64"
      ]
     },
     "execution_count": 17,
     "metadata": {},
     "output_type": "execute_result"
    }
   ],
   "source": [
    "corr=df.corr()\n",
    "corr['Income'].sort_values(ascending=False)"
   ]
  },
  {
   "cell_type": "markdown",
   "id": "215de7f6",
   "metadata": {},
   "source": [
    "Here, in the above series, how income is correlated with other features is shown.There, education num is decently correlated where as \n",
    "relationship column is weakly correlated.Now, let's find out skewness and outliers existance"
   ]
  },
  {
   "cell_type": "markdown",
   "id": "82a7d318",
   "metadata": {},
   "source": [
    "# Checking outliers:"
   ]
  },
  {
   "cell_type": "code",
   "execution_count": 18,
   "id": "f23348a4",
   "metadata": {},
   "outputs": [
    {
     "data": {
      "image/png": "[encoded data removed]",
      "text/plain": [
       "<Figure size 1296x1440 with 14 Axes>"
      ]
     },
     "metadata": {
      "needs_background": "light"
     },
     "output_type": "display_data"
    }
   ],
   "source": [
    "x=df.drop(columns=['Income'])\n",
    "plt.figure(figsize=(18,20))\n",
    "graph=1\n",
    "for column in x:\n",
    "    if graph<=15:\n",
    "        ax=plt.subplot(3,5,graph)\n",
    "        sns.boxplot(x[column],orient='v')\n",
    "        plt.xlabel(column,fontsize=15)\n",
    "    graph+=1\n",
    "plt.show()    "
   ]
  },
  {
   "cell_type": "markdown",
   "id": "55ce1012",
   "metadata": {},
   "source": [
    "In the above graphs, We can find some outliers but cannot clearly state."
   ]
  },
  {
   "cell_type": "markdown",
   "id": "3f277a1a",
   "metadata": {},
   "source": [
    "# Skewness:"
   ]
  },
  {
   "cell_type": "code",
   "execution_count": 6,
   "id": "727d23a9",
   "metadata": {},
   "outputs": [
    {
     "data": {
      "text/plain": [
       "Age                0.558738\n",
       "Workclass         -0.752280\n",
       "Fnlwgt             1.446972\n",
       "Education         -0.934063\n",
       "Education_num     -0.311630\n",
       "Marital_status    -0.013448\n",
       "Occupation         0.114540\n",
       "Relationship       0.786784\n",
       "Race              -2.435332\n",
       "Sex               -0.719244\n",
       "Capital_gain      11.953690\n",
       "Capital_loss       4.594549\n",
       "Hours_per_week     0.227636\n",
       "Native_country    -3.658235\n",
       "Income             1.212383\n",
       "dtype: float64"
      ]
     },
     "execution_count": 6,
     "metadata": {},
     "output_type": "execute_result"
    }
   ],
   "source": [
    "df.skew()"
   ]
  },
  {
   "cell_type": "markdown",
   "id": "6ac25880",
   "metadata": {},
   "source": [
    "Skewness threshold is taken as +/-0.5.Columns which are having skewness which effects the model are:Fnlwgt,Capital_gain,Capital_loss.\n",
    "    \n",
    "Since all the other data are less effected or data in categorical form."
   ]
  },
  {
   "cell_type": "code",
   "execution_count": 6,
   "id": "26ae0a83",
   "metadata": {},
   "outputs": [],
   "source": [
    "df=df.drop(columns=['Fnlwgt','Capital_gain','Capital_loss'],axis=1)"
   ]
  },
  {
   "cell_type": "markdown",
   "id": "fa7fd4bd",
   "metadata": {},
   "source": [
    "To remove skewness columns which effect the model drop columns are used."
   ]
  },
  {
   "cell_type": "code",
   "execution_count": 22,
   "id": "4c4b6e99",
   "metadata": {},
   "outputs": [
    {
     "data": {
      "text/plain": [
       "(32560, 12)"
      ]
     },
     "execution_count": 22,
     "metadata": {},
     "output_type": "execute_result"
    }
   ],
   "source": [
    "df.shape # DIMENSION"
   ]
  },
  {
   "cell_type": "markdown",
   "id": "28f837b6",
   "metadata": {},
   "source": [
    "# Removing Outliers using Z score Technique:"
   ]
  },
  {
   "cell_type": "code",
   "execution_count": 7,
   "id": "4c3186cb",
   "metadata": {},
   "outputs": [],
   "source": [
    "from scipy.stats import zscore\n",
    "import numpy as np\n",
    "zsc=zscore(df)\n",
    "abs_z_score=np.abs(zsc)\n",
    "filtering_entry=(abs_z_score<3).all(axis=1)\n",
    "df1=df[filtering_entry]"
   ]
  },
  {
   "cell_type": "code",
   "execution_count": 8,
   "id": "a52b623c",
   "metadata": {},
   "outputs": [
    {
     "data": {
      "text/html": [
       "<div>\n",
       "<style scoped>\n",
       "    .dataframe tbody tr th:only-of-type {\n",
       "        vertical-align: middle;\n",
       "    }\n",
       "\n",
       "    .dataframe tbody tr th {\n",
       "        vertical-align: top;\n",
       "    }\n",
       "\n",
       "    .dataframe thead th {\n",
       "        text-align: right;\n",
       "    }\n",
       "</style>\n",
       "<table border=\"1\" class=\"dataframe\">\n",
       "  <thead>\n",
       "    <tr style=\"text-align: right;\">\n",
       "      <th></th>\n",
       "      <th>Age</th>\n",
       "      <th>Workclass</th>\n",
       "      <th>Fnlwgt</th>\n",
       "      <th>Education</th>\n",
       "      <th>Education_num</th>\n",
       "      <th>Marital_status</th>\n",
       "      <th>Occupation</th>\n",
       "      <th>Relationship</th>\n",
       "      <th>Race</th>\n",
       "      <th>Sex</th>\n",
       "      <th>Capital_gain</th>\n",
       "      <th>Capital_loss</th>\n",
       "      <th>Hours_per_week</th>\n",
       "      <th>Native_country</th>\n",
       "      <th>Income</th>\n",
       "    </tr>\n",
       "  </thead>\n",
       "  <tbody>\n",
       "    <tr>\n",
       "      <th>0</th>\n",
       "      <td>50</td>\n",
       "      <td>6.0</td>\n",
       "      <td>83311</td>\n",
       "      <td>9.0</td>\n",
       "      <td>13</td>\n",
       "      <td>2.0</td>\n",
       "      <td>4.0</td>\n",
       "      <td>0.0</td>\n",
       "      <td>4.0</td>\n",
       "      <td>1.0</td>\n",
       "      <td>0</td>\n",
       "      <td>0</td>\n",
       "      <td>13</td>\n",
       "      <td>39.0</td>\n",
       "      <td>0</td>\n",
       "    </tr>\n",
       "    <tr>\n",
       "      <th>1</th>\n",
       "      <td>38</td>\n",
       "      <td>4.0</td>\n",
       "      <td>215646</td>\n",
       "      <td>11.0</td>\n",
       "      <td>9</td>\n",
       "      <td>0.0</td>\n",
       "      <td>6.0</td>\n",
       "      <td>1.0</td>\n",
       "      <td>4.0</td>\n",
       "      <td>1.0</td>\n",
       "      <td>0</td>\n",
       "      <td>0</td>\n",
       "      <td>40</td>\n",
       "      <td>39.0</td>\n",
       "      <td>0</td>\n",
       "    </tr>\n",
       "    <tr>\n",
       "      <th>2</th>\n",
       "      <td>53</td>\n",
       "      <td>4.0</td>\n",
       "      <td>234721</td>\n",
       "      <td>1.0</td>\n",
       "      <td>7</td>\n",
       "      <td>2.0</td>\n",
       "      <td>6.0</td>\n",
       "      <td>0.0</td>\n",
       "      <td>2.0</td>\n",
       "      <td>1.0</td>\n",
       "      <td>0</td>\n",
       "      <td>0</td>\n",
       "      <td>40</td>\n",
       "      <td>39.0</td>\n",
       "      <td>0</td>\n",
       "    </tr>\n",
       "    <tr>\n",
       "      <th>4</th>\n",
       "      <td>37</td>\n",
       "      <td>4.0</td>\n",
       "      <td>284582</td>\n",
       "      <td>12.0</td>\n",
       "      <td>14</td>\n",
       "      <td>2.0</td>\n",
       "      <td>4.0</td>\n",
       "      <td>5.0</td>\n",
       "      <td>4.0</td>\n",
       "      <td>0.0</td>\n",
       "      <td>0</td>\n",
       "      <td>0</td>\n",
       "      <td>40</td>\n",
       "      <td>39.0</td>\n",
       "      <td>0</td>\n",
       "    </tr>\n",
       "    <tr>\n",
       "      <th>5</th>\n",
       "      <td>49</td>\n",
       "      <td>4.0</td>\n",
       "      <td>160187</td>\n",
       "      <td>6.0</td>\n",
       "      <td>5</td>\n",
       "      <td>3.0</td>\n",
       "      <td>8.0</td>\n",
       "      <td>1.0</td>\n",
       "      <td>2.0</td>\n",
       "      <td>0.0</td>\n",
       "      <td>0</td>\n",
       "      <td>0</td>\n",
       "      <td>16</td>\n",
       "      <td>23.0</td>\n",
       "      <td>0</td>\n",
       "    </tr>\n",
       "    <tr>\n",
       "      <th>...</th>\n",
       "      <td>...</td>\n",
       "      <td>...</td>\n",
       "      <td>...</td>\n",
       "      <td>...</td>\n",
       "      <td>...</td>\n",
       "      <td>...</td>\n",
       "      <td>...</td>\n",
       "      <td>...</td>\n",
       "      <td>...</td>\n",
       "      <td>...</td>\n",
       "      <td>...</td>\n",
       "      <td>...</td>\n",
       "      <td>...</td>\n",
       "      <td>...</td>\n",
       "      <td>...</td>\n",
       "    </tr>\n",
       "    <tr>\n",
       "      <th>32555</th>\n",
       "      <td>27</td>\n",
       "      <td>4.0</td>\n",
       "      <td>257302</td>\n",
       "      <td>7.0</td>\n",
       "      <td>12</td>\n",
       "      <td>2.0</td>\n",
       "      <td>13.0</td>\n",
       "      <td>5.0</td>\n",
       "      <td>4.0</td>\n",
       "      <td>0.0</td>\n",
       "      <td>0</td>\n",
       "      <td>0</td>\n",
       "      <td>38</td>\n",
       "      <td>39.0</td>\n",
       "      <td>0</td>\n",
       "    </tr>\n",
       "    <tr>\n",
       "      <th>32556</th>\n",
       "      <td>40</td>\n",
       "      <td>4.0</td>\n",
       "      <td>154374</td>\n",
       "      <td>11.0</td>\n",
       "      <td>9</td>\n",
       "      <td>2.0</td>\n",
       "      <td>7.0</td>\n",
       "      <td>0.0</td>\n",
       "      <td>4.0</td>\n",
       "      <td>1.0</td>\n",
       "      <td>0</td>\n",
       "      <td>0</td>\n",
       "      <td>40</td>\n",
       "      <td>39.0</td>\n",
       "      <td>1</td>\n",
       "    </tr>\n",
       "    <tr>\n",
       "      <th>32557</th>\n",
       "      <td>58</td>\n",
       "      <td>4.0</td>\n",
       "      <td>151910</td>\n",
       "      <td>11.0</td>\n",
       "      <td>9</td>\n",
       "      <td>6.0</td>\n",
       "      <td>1.0</td>\n",
       "      <td>4.0</td>\n",
       "      <td>4.0</td>\n",
       "      <td>0.0</td>\n",
       "      <td>0</td>\n",
       "      <td>0</td>\n",
       "      <td>40</td>\n",
       "      <td>39.0</td>\n",
       "      <td>0</td>\n",
       "    </tr>\n",
       "    <tr>\n",
       "      <th>32558</th>\n",
       "      <td>22</td>\n",
       "      <td>4.0</td>\n",
       "      <td>201490</td>\n",
       "      <td>11.0</td>\n",
       "      <td>9</td>\n",
       "      <td>4.0</td>\n",
       "      <td>1.0</td>\n",
       "      <td>3.0</td>\n",
       "      <td>4.0</td>\n",
       "      <td>1.0</td>\n",
       "      <td>0</td>\n",
       "      <td>0</td>\n",
       "      <td>20</td>\n",
       "      <td>39.0</td>\n",
       "      <td>0</td>\n",
       "    </tr>\n",
       "    <tr>\n",
       "      <th>32559</th>\n",
       "      <td>52</td>\n",
       "      <td>5.0</td>\n",
       "      <td>287927</td>\n",
       "      <td>11.0</td>\n",
       "      <td>9</td>\n",
       "      <td>2.0</td>\n",
       "      <td>4.0</td>\n",
       "      <td>5.0</td>\n",
       "      <td>4.0</td>\n",
       "      <td>0.0</td>\n",
       "      <td>15024</td>\n",
       "      <td>0</td>\n",
       "      <td>40</td>\n",
       "      <td>39.0</td>\n",
       "      <td>1</td>\n",
       "    </tr>\n",
       "  </tbody>\n",
       "</table>\n",
       "<p>27417 rows × 15 columns</p>\n",
       "</div>"
      ],
      "text/plain": [
       "       Age  Workclass  Fnlwgt  Education  Education_num  Marital_status  \\\n",
       "0       50        6.0   83311        9.0             13             2.0   \n",
       "1       38        4.0  215646       11.0              9             0.0   \n",
       "2       53        4.0  234721        1.0              7             2.0   \n",
       "4       37        4.0  284582       12.0             14             2.0   \n",
       "5       49        4.0  160187        6.0              5             3.0   \n",
       "...    ...        ...     ...        ...            ...             ...   \n",
       "32555   27        4.0  257302        7.0             12             2.0   \n",
       "32556   40        4.0  154374       11.0              9             2.0   \n",
       "32557   58        4.0  151910       11.0              9             6.0   \n",
       "32558   22        4.0  201490       11.0              9             4.0   \n",
       "32559   52        5.0  287927       11.0              9             2.0   \n",
       "\n",
       "       Occupation  Relationship  Race  Sex  Capital_gain  Capital_loss  \\\n",
       "0             4.0           0.0   4.0  1.0             0             0   \n",
       "1             6.0           1.0   4.0  1.0             0             0   \n",
       "2             6.0           0.0   2.0  1.0             0             0   \n",
       "4             4.0           5.0   4.0  0.0             0             0   \n",
       "5             8.0           1.0   2.0  0.0             0             0   \n",
       "...           ...           ...   ...  ...           ...           ...   \n",
       "32555        13.0           5.0   4.0  0.0             0             0   \n",
       "32556         7.0           0.0   4.0  1.0             0             0   \n",
       "32557         1.0           4.0   4.0  0.0             0             0   \n",
       "32558         1.0           3.0   4.0  1.0             0             0   \n",
       "32559         4.0           5.0   4.0  0.0         15024             0   \n",
       "\n",
       "       Hours_per_week  Native_country  Income  \n",
       "0                  13            39.0       0  \n",
       "1                  40            39.0       0  \n",
       "2                  40            39.0       0  \n",
       "4                  40            39.0       0  \n",
       "5                  16            23.0       0  \n",
       "...               ...             ...     ...  \n",
       "32555              38            39.0       0  \n",
       "32556              40            39.0       1  \n",
       "32557              40            39.0       0  \n",
       "32558              20            39.0       0  \n",
       "32559              40            39.0       1  \n",
       "\n",
       "[27417 rows x 15 columns]"
      ]
     },
     "execution_count": 8,
     "metadata": {},
     "output_type": "execute_result"
    }
   ],
   "source": [
    "df1"
   ]
  },
  {
   "cell_type": "markdown",
   "id": "09733368",
   "metadata": {},
   "source": [
    "There are only 29227 rows and 12 columns afer removing the outliers"
   ]
  },
  {
   "cell_type": "markdown",
   "id": "6cbca726",
   "metadata": {},
   "source": [
    "# Percentage data loss:"
   ]
  },
  {
   "cell_type": "code",
   "execution_count": 9,
   "id": "9c38082b",
   "metadata": {},
   "outputs": [
    {
     "data": {
      "text/plain": [
       "15.795454545454547"
      ]
     },
     "execution_count": 9,
     "metadata": {},
     "output_type": "execute_result"
    }
   ],
   "source": [
    "loss_percent=(32560-27417)/32560*100\n",
    "loss_percent"
   ]
  },
  {
   "cell_type": "markdown",
   "id": "e962a224",
   "metadata": {},
   "source": [
    "Since,there huge loss of data according to the loss percentile we cannot use zscore technique to remove outliers.We are considering the original data."
   ]
  },
  {
   "cell_type": "code",
   "execution_count": 10,
   "id": "fb73b049",
   "metadata": {},
   "outputs": [
    {
     "data": {
      "text/html": [
       "<div>\n",
       "<style scoped>\n",
       "    .dataframe tbody tr th:only-of-type {\n",
       "        vertical-align: middle;\n",
       "    }\n",
       "\n",
       "    .dataframe tbody tr th {\n",
       "        vertical-align: top;\n",
       "    }\n",
       "\n",
       "    .dataframe thead th {\n",
       "        text-align: right;\n",
       "    }\n",
       "</style>\n",
       "<table border=\"1\" class=\"dataframe\">\n",
       "  <thead>\n",
       "    <tr style=\"text-align: right;\">\n",
       "      <th></th>\n",
       "      <th>Age</th>\n",
       "      <th>Workclass</th>\n",
       "      <th>Fnlwgt</th>\n",
       "      <th>Education</th>\n",
       "      <th>Education_num</th>\n",
       "      <th>Marital_status</th>\n",
       "      <th>Occupation</th>\n",
       "      <th>Relationship</th>\n",
       "      <th>Race</th>\n",
       "      <th>Sex</th>\n",
       "      <th>Capital_gain</th>\n",
       "      <th>Capital_loss</th>\n",
       "      <th>Hours_per_week</th>\n",
       "      <th>Native_country</th>\n",
       "      <th>Income</th>\n",
       "    </tr>\n",
       "  </thead>\n",
       "  <tbody>\n",
       "    <tr>\n",
       "      <th>0</th>\n",
       "      <td>50</td>\n",
       "      <td>6.0</td>\n",
       "      <td>83311</td>\n",
       "      <td>9.0</td>\n",
       "      <td>13</td>\n",
       "      <td>2.0</td>\n",
       "      <td>4.0</td>\n",
       "      <td>0.0</td>\n",
       "      <td>4.0</td>\n",
       "      <td>1.0</td>\n",
       "      <td>0</td>\n",
       "      <td>0</td>\n",
       "      <td>13</td>\n",
       "      <td>39.0</td>\n",
       "      <td>0</td>\n",
       "    </tr>\n",
       "    <tr>\n",
       "      <th>1</th>\n",
       "      <td>38</td>\n",
       "      <td>4.0</td>\n",
       "      <td>215646</td>\n",
       "      <td>11.0</td>\n",
       "      <td>9</td>\n",
       "      <td>0.0</td>\n",
       "      <td>6.0</td>\n",
       "      <td>1.0</td>\n",
       "      <td>4.0</td>\n",
       "      <td>1.0</td>\n",
       "      <td>0</td>\n",
       "      <td>0</td>\n",
       "      <td>40</td>\n",
       "      <td>39.0</td>\n",
       "      <td>0</td>\n",
       "    </tr>\n",
       "    <tr>\n",
       "      <th>2</th>\n",
       "      <td>53</td>\n",
       "      <td>4.0</td>\n",
       "      <td>234721</td>\n",
       "      <td>1.0</td>\n",
       "      <td>7</td>\n",
       "      <td>2.0</td>\n",
       "      <td>6.0</td>\n",
       "      <td>0.0</td>\n",
       "      <td>2.0</td>\n",
       "      <td>1.0</td>\n",
       "      <td>0</td>\n",
       "      <td>0</td>\n",
       "      <td>40</td>\n",
       "      <td>39.0</td>\n",
       "      <td>0</td>\n",
       "    </tr>\n",
       "    <tr>\n",
       "      <th>3</th>\n",
       "      <td>28</td>\n",
       "      <td>4.0</td>\n",
       "      <td>338409</td>\n",
       "      <td>9.0</td>\n",
       "      <td>13</td>\n",
       "      <td>2.0</td>\n",
       "      <td>10.0</td>\n",
       "      <td>5.0</td>\n",
       "      <td>2.0</td>\n",
       "      <td>0.0</td>\n",
       "      <td>0</td>\n",
       "      <td>0</td>\n",
       "      <td>40</td>\n",
       "      <td>5.0</td>\n",
       "      <td>0</td>\n",
       "    </tr>\n",
       "    <tr>\n",
       "      <th>4</th>\n",
       "      <td>37</td>\n",
       "      <td>4.0</td>\n",
       "      <td>284582</td>\n",
       "      <td>12.0</td>\n",
       "      <td>14</td>\n",
       "      <td>2.0</td>\n",
       "      <td>4.0</td>\n",
       "      <td>5.0</td>\n",
       "      <td>4.0</td>\n",
       "      <td>0.0</td>\n",
       "      <td>0</td>\n",
       "      <td>0</td>\n",
       "      <td>40</td>\n",
       "      <td>39.0</td>\n",
       "      <td>0</td>\n",
       "    </tr>\n",
       "    <tr>\n",
       "      <th>...</th>\n",
       "      <td>...</td>\n",
       "      <td>...</td>\n",
       "      <td>...</td>\n",
       "      <td>...</td>\n",
       "      <td>...</td>\n",
       "      <td>...</td>\n",
       "      <td>...</td>\n",
       "      <td>...</td>\n",
       "      <td>...</td>\n",
       "      <td>...</td>\n",
       "      <td>...</td>\n",
       "      <td>...</td>\n",
       "      <td>...</td>\n",
       "      <td>...</td>\n",
       "      <td>...</td>\n",
       "    </tr>\n",
       "    <tr>\n",
       "      <th>32555</th>\n",
       "      <td>27</td>\n",
       "      <td>4.0</td>\n",
       "      <td>257302</td>\n",
       "      <td>7.0</td>\n",
       "      <td>12</td>\n",
       "      <td>2.0</td>\n",
       "      <td>13.0</td>\n",
       "      <td>5.0</td>\n",
       "      <td>4.0</td>\n",
       "      <td>0.0</td>\n",
       "      <td>0</td>\n",
       "      <td>0</td>\n",
       "      <td>38</td>\n",
       "      <td>39.0</td>\n",
       "      <td>0</td>\n",
       "    </tr>\n",
       "    <tr>\n",
       "      <th>32556</th>\n",
       "      <td>40</td>\n",
       "      <td>4.0</td>\n",
       "      <td>154374</td>\n",
       "      <td>11.0</td>\n",
       "      <td>9</td>\n",
       "      <td>2.0</td>\n",
       "      <td>7.0</td>\n",
       "      <td>0.0</td>\n",
       "      <td>4.0</td>\n",
       "      <td>1.0</td>\n",
       "      <td>0</td>\n",
       "      <td>0</td>\n",
       "      <td>40</td>\n",
       "      <td>39.0</td>\n",
       "      <td>1</td>\n",
       "    </tr>\n",
       "    <tr>\n",
       "      <th>32557</th>\n",
       "      <td>58</td>\n",
       "      <td>4.0</td>\n",
       "      <td>151910</td>\n",
       "      <td>11.0</td>\n",
       "      <td>9</td>\n",
       "      <td>6.0</td>\n",
       "      <td>1.0</td>\n",
       "      <td>4.0</td>\n",
       "      <td>4.0</td>\n",
       "      <td>0.0</td>\n",
       "      <td>0</td>\n",
       "      <td>0</td>\n",
       "      <td>40</td>\n",
       "      <td>39.0</td>\n",
       "      <td>0</td>\n",
       "    </tr>\n",
       "    <tr>\n",
       "      <th>32558</th>\n",
       "      <td>22</td>\n",
       "      <td>4.0</td>\n",
       "      <td>201490</td>\n",
       "      <td>11.0</td>\n",
       "      <td>9</td>\n",
       "      <td>4.0</td>\n",
       "      <td>1.0</td>\n",
       "      <td>3.0</td>\n",
       "      <td>4.0</td>\n",
       "      <td>1.0</td>\n",
       "      <td>0</td>\n",
       "      <td>0</td>\n",
       "      <td>20</td>\n",
       "      <td>39.0</td>\n",
       "      <td>0</td>\n",
       "    </tr>\n",
       "    <tr>\n",
       "      <th>32559</th>\n",
       "      <td>52</td>\n",
       "      <td>5.0</td>\n",
       "      <td>287927</td>\n",
       "      <td>11.0</td>\n",
       "      <td>9</td>\n",
       "      <td>2.0</td>\n",
       "      <td>4.0</td>\n",
       "      <td>5.0</td>\n",
       "      <td>4.0</td>\n",
       "      <td>0.0</td>\n",
       "      <td>15024</td>\n",
       "      <td>0</td>\n",
       "      <td>40</td>\n",
       "      <td>39.0</td>\n",
       "      <td>1</td>\n",
       "    </tr>\n",
       "  </tbody>\n",
       "</table>\n",
       "<p>32560 rows × 15 columns</p>\n",
       "</div>"
      ],
      "text/plain": [
       "       Age  Workclass  Fnlwgt  Education  Education_num  Marital_status  \\\n",
       "0       50        6.0   83311        9.0             13             2.0   \n",
       "1       38        4.0  215646       11.0              9             0.0   \n",
       "2       53        4.0  234721        1.0              7             2.0   \n",
       "3       28        4.0  338409        9.0             13             2.0   \n",
       "4       37        4.0  284582       12.0             14             2.0   \n",
       "...    ...        ...     ...        ...            ...             ...   \n",
       "32555   27        4.0  257302        7.0             12             2.0   \n",
       "32556   40        4.0  154374       11.0              9             2.0   \n",
       "32557   58        4.0  151910       11.0              9             6.0   \n",
       "32558   22        4.0  201490       11.0              9             4.0   \n",
       "32559   52        5.0  287927       11.0              9             2.0   \n",
       "\n",
       "       Occupation  Relationship  Race  Sex  Capital_gain  Capital_loss  \\\n",
       "0             4.0           0.0   4.0  1.0             0             0   \n",
       "1             6.0           1.0   4.0  1.0             0             0   \n",
       "2             6.0           0.0   2.0  1.0             0             0   \n",
       "3            10.0           5.0   2.0  0.0             0             0   \n",
       "4             4.0           5.0   4.0  0.0             0             0   \n",
       "...           ...           ...   ...  ...           ...           ...   \n",
       "32555        13.0           5.0   4.0  0.0             0             0   \n",
       "32556         7.0           0.0   4.0  1.0             0             0   \n",
       "32557         1.0           4.0   4.0  0.0             0             0   \n",
       "32558         1.0           3.0   4.0  1.0             0             0   \n",
       "32559         4.0           5.0   4.0  0.0         15024             0   \n",
       "\n",
       "       Hours_per_week  Native_country  Income  \n",
       "0                  13            39.0       0  \n",
       "1                  40            39.0       0  \n",
       "2                  40            39.0       0  \n",
       "3                  40             5.0       0  \n",
       "4                  40            39.0       0  \n",
       "...               ...             ...     ...  \n",
       "32555              38            39.0       0  \n",
       "32556              40            39.0       1  \n",
       "32557              40            39.0       0  \n",
       "32558              20            39.0       0  \n",
       "32559              40            39.0       1  \n",
       "\n",
       "[32560 rows x 15 columns]"
      ]
     },
     "execution_count": 10,
     "metadata": {},
     "output_type": "execute_result"
    }
   ],
   "source": [
    "df"
   ]
  },
  {
   "cell_type": "markdown",
   "id": "b419045d",
   "metadata": {},
   "source": [
    "# Dividing the features and label columns as 'x' and 'y' and scaling the features:"
   ]
  },
  {
   "cell_type": "code",
   "execution_count": 11,
   "id": "324c7050",
   "metadata": {},
   "outputs": [],
   "source": [
    "x=df.drop(columns='Income')\n",
    "y=df.Income"
   ]
  },
  {
   "cell_type": "code",
   "execution_count": 12,
   "id": "b2292874",
   "metadata": {},
   "outputs": [],
   "source": [
    "from sklearn.preprocessing import StandardScaler\n",
    "\n",
    "scalar=StandardScaler()\n",
    "x_scaled=scalar.fit_transform(x)\n"
   ]
  },
  {
   "cell_type": "markdown",
   "id": "bb103bd0",
   "metadata": {},
   "source": [
    "# Finding the best Random State:"
   ]
  },
  {
   "cell_type": "code",
   "execution_count": 13,
   "id": "7f5af481",
   "metadata": {},
   "outputs": [],
   "source": [
    "from sklearn.neighbors import KNeighborsClassifier\n",
    "from sklearn.tree import DecisionTreeClassifier\n",
    "from sklearn.model_selection import train_test_split\n",
    "from statsmodels.stats.outliers_influence import variance_inflation_factor\n",
    "from sklearn.metrics import accuracy_score,confusion_matrix,roc_curve,roc_auc_score"
   ]
  },
  {
   "cell_type": "code",
   "execution_count": 14,
   "id": "6038358b",
   "metadata": {},
   "outputs": [
    {
     "name": "stdout",
     "output_type": "stream",
     "text": [
      "Best accuracy is:  0.839527027027027 Best state is:  92\n"
     ]
    }
   ],
   "source": [
    "knn=KNeighborsClassifier()\n",
    "maxacc=0\n",
    "maxrs=0\n",
    "for i in range(1,150):\n",
    "    x_train,x_test,y_train,y_test=train_test_split(x_scaled,y,test_size=0.20,random_state=i)\n",
    "    knn.fit(x_train,y_train)\n",
    "    pred_test=knn.predict(x_test)\n",
    "    acc=accuracy_score(y_test,pred_test)\n",
    "    if acc>maxacc:\n",
    "        maxacc=acc\n",
    "        maxrs=i\n",
    "        \n",
    "print('Best accuracy is: ',maxacc,'Best state is: ',maxrs)"
   ]
  },
  {
   "cell_type": "markdown",
   "id": "3176f9e3",
   "metadata": {},
   "source": [
    "We have found that best random state is '122'. We will create our train-test split using this random state."
   ]
  },
  {
   "cell_type": "markdown",
   "id": "0c88d832",
   "metadata": {},
   "source": [
    "# Creating train-test split:"
   ]
  },
  {
   "cell_type": "code",
   "execution_count": 16,
   "id": "061b9bdc",
   "metadata": {},
   "outputs": [],
   "source": [
    "x_train,x_test,y_train,y_test=train_test_split(x_scaled,y,test_size=0.20,random_state=92)"
   ]
  },
  {
   "cell_type": "markdown",
   "id": "2cef0632",
   "metadata": {},
   "source": [
    "# Balancing the data set:"
   ]
  },
  {
   "cell_type": "code",
   "execution_count": 17,
   "id": "7642e171",
   "metadata": {},
   "outputs": [],
   "source": [
    "import six\n",
    "import sys\n",
    "sys.modules['sklearn.external.six']=six\n",
    "from imblearn.over_sampling import SMOTE\n",
    "\n",
    "sm=SMOTE()\n",
    "over_samp=SMOTE(0.80)\n",
    "x_train_ns,y_train_ns=over_samp.fit_sample(x_train,y_train)"
   ]
  },
  {
   "cell_type": "code",
   "execution_count": 18,
   "id": "c999a915",
   "metadata": {},
   "outputs": [
    {
     "name": "stdout",
     "output_type": "stream",
     "text": [
      "Counter({0: 19788, 1: 6260})\n",
      "Counter({0: 19788, 1: 15830})\n"
     ]
    }
   ],
   "source": [
    "from collections import Counter # to get the count \n",
    "print(Counter(y_train))\n",
    "print(Counter(y_train_ns))"
   ]
  },
  {
   "cell_type": "markdown",
   "id": "b64f7221",
   "metadata": {},
   "source": [
    "# KNeighborsClassifier:"
   ]
  },
  {
   "cell_type": "code",
   "execution_count": 19,
   "id": "b30de5b9",
   "metadata": {},
   "outputs": [
    {
     "name": "stdout",
     "output_type": "stream",
     "text": [
      "Accuracy:  0.8034398034398035\n",
      "confusion_matrix: \n",
      " [[4007  924]\n",
      " [ 356 1225]]\n",
      "classification report:                precision    recall  f1-score   support\n",
      "\n",
      "           0       0.92      0.81      0.86      4931\n",
      "           1       0.57      0.77      0.66      1581\n",
      "\n",
      "    accuracy                           0.80      6512\n",
      "   macro avg       0.74      0.79      0.76      6512\n",
      "weighted avg       0.83      0.80      0.81      6512\n",
      "\n"
     ]
    }
   ],
   "source": [
    "from sklearn.metrics import classification_report\n",
    "knn.fit(x_train_ns,y_train_ns)\n",
    "pred_test=knn.predict(x_test)\n",
    "print('Accuracy: ',accuracy_score(y_test,pred_test))\n",
    "print('confusion_matrix: \\n',confusion_matrix(y_test,pred_test))\n",
    "print('classification report: ',classification_report(y_test,pred_test))"
   ]
  },
  {
   "cell_type": "markdown",
   "id": "b61ceaae",
   "metadata": {},
   "source": [
    "# DecisionTreeClassifier:"
   ]
  },
  {
   "cell_type": "code",
   "execution_count": 20,
   "id": "bb9301b0",
   "metadata": {},
   "outputs": [
    {
     "name": "stdout",
     "output_type": "stream",
     "text": [
      "Accuracy:  0.8114250614250614\n",
      "confusion_matrix: \n",
      " [[4253  678]\n",
      " [ 550 1031]]\n",
      "classification report:                precision    recall  f1-score   support\n",
      "\n",
      "           0       0.89      0.86      0.87      4931\n",
      "           1       0.60      0.65      0.63      1581\n",
      "\n",
      "    accuracy                           0.81      6512\n",
      "   macro avg       0.74      0.76      0.75      6512\n",
      "weighted avg       0.82      0.81      0.81      6512\n",
      "\n"
     ]
    }
   ],
   "source": [
    "clf1=DecisionTreeClassifier()\n",
    "clf1.fit(x_train_ns,y_train_ns)\n",
    "pred_test=clf1.predict(x_test)\n",
    "print('Accuracy: ',accuracy_score(y_test,pred_test))\n",
    "print('confusion_matrix: \\n',confusion_matrix(y_test,pred_test))\n",
    "print('classification report: ',classification_report(y_test,pred_test))"
   ]
  },
  {
   "cell_type": "markdown",
   "id": "04043fbc",
   "metadata": {},
   "source": [
    "# LogisticRegression:"
   ]
  },
  {
   "cell_type": "code",
   "execution_count": 21,
   "id": "7c35cf95",
   "metadata": {},
   "outputs": [
    {
     "name": "stdout",
     "output_type": "stream",
     "text": [
      "Accuracy:  0.7972972972972973\n",
      "confusion_matrix: \n",
      " [[4056  875]\n",
      " [ 445 1136]]\n",
      "classification report:                precision    recall  f1-score   support\n",
      "\n",
      "           0       0.90      0.82      0.86      4931\n",
      "           1       0.56      0.72      0.63      1581\n",
      "\n",
      "    accuracy                           0.80      6512\n",
      "   macro avg       0.73      0.77      0.75      6512\n",
      "weighted avg       0.82      0.80      0.80      6512\n",
      "\n"
     ]
    }
   ],
   "source": [
    "from sklearn.linear_model import LogisticRegression\n",
    "\n",
    "lr=LogisticRegression()\n",
    "lr.fit(x_train_ns,y_train_ns)\n",
    "pred_test=lr.predict(x_test)\n",
    "print('Accuracy: ',accuracy_score(y_test,pred_test))\n",
    "print('confusion_matrix: \\n',confusion_matrix(y_test,pred_test))\n",
    "print('classification report: ',classification_report(y_test,pred_test))"
   ]
  },
  {
   "cell_type": "markdown",
   "id": "fab5498a",
   "metadata": {},
   "source": [
    "# RandomForestClassifier:"
   ]
  },
  {
   "cell_type": "code",
   "execution_count": 22,
   "id": "27796ead",
   "metadata": {},
   "outputs": [
    {
     "name": "stdout",
     "output_type": "stream",
     "text": [
      "Accuracy:  0.8548832923832924\n",
      "confusion_matrix: \n",
      " [[4474  457]\n",
      " [ 488 1093]]\n",
      "classification report:                precision    recall  f1-score   support\n",
      "\n",
      "           0       0.90      0.91      0.90      4931\n",
      "           1       0.71      0.69      0.70      1581\n",
      "\n",
      "    accuracy                           0.85      6512\n",
      "   macro avg       0.80      0.80      0.80      6512\n",
      "weighted avg       0.85      0.85      0.85      6512\n",
      "\n"
     ]
    }
   ],
   "source": [
    "from sklearn.ensemble import RandomForestClassifier\n",
    "\n",
    "clf=RandomForestClassifier()\n",
    "clf.fit(x_train_ns,y_train_ns)\n",
    "pred_test=clf.predict(x_test)\n",
    "print('Accuracy: ',accuracy_score(y_test,pred_test))\n",
    "print('confusion_matrix: \\n',confusion_matrix(y_test,pred_test))\n",
    "print('classification report: ',classification_report(y_test,pred_test))"
   ]
  },
  {
   "cell_type": "markdown",
   "id": "fbf7b8d4",
   "metadata": {},
   "source": [
    "Knn Model, Decision Tree Classifier,Logistic regression\n",
    "\n",
    "and Random Forest Classifier are producing good accuracy.\n",
    "\n",
    "Now we will check cross validation score as well as overfiting if exists"
   ]
  },
  {
   "cell_type": "markdown",
   "id": "1e94d210",
   "metadata": {},
   "source": [
    "# CrossValidation Score:"
   ]
  },
  {
   "cell_type": "code",
   "execution_count": 23,
   "id": "30a51624",
   "metadata": {},
   "outputs": [
    {
     "name": "stdout",
     "output_type": "stream",
     "text": [
      "cross validation score of knn model is: 0.8286857542616586\n"
     ]
    }
   ],
   "source": [
    "from sklearn.model_selection import cross_val_score\n",
    "csv=cross_val_score(knn,x_scaled,y,cv=3)\n",
    "print('cross validation score of knn model is:',csv.mean())"
   ]
  },
  {
   "cell_type": "code",
   "execution_count": 24,
   "id": "fc1b4d07",
   "metadata": {},
   "outputs": [
    {
     "name": "stdout",
     "output_type": "stream",
     "text": [
      "cross validation score of decision tree model is: 0.8128378987947511\n"
     ]
    }
   ],
   "source": [
    "csv=cross_val_score(clf1,x_scaled,y,cv=3)\n",
    "print('cross validation score of decision tree model is:',csv.mean())"
   ]
  },
  {
   "cell_type": "code",
   "execution_count": 25,
   "id": "794b1b1e",
   "metadata": {},
   "outputs": [
    {
     "name": "stdout",
     "output_type": "stream",
     "text": [
      "cross validation score of logistic  regression classifier model is: 0.8049754645070549\n"
     ]
    }
   ],
   "source": [
    "csv=cross_val_score(lr,x_scaled,y,cv=3)\n",
    "print('cross validation score of logistic  regression classifier model is:',csv.mean())"
   ]
  },
  {
   "cell_type": "code",
   "execution_count": 26,
   "id": "deb7131f",
   "metadata": {},
   "outputs": [
    {
     "name": "stdout",
     "output_type": "stream",
     "text": [
      "cross validation score of Ranom forest classifier model is: 0.8194104067900875\n"
     ]
    }
   ],
   "source": [
    "csv=cross_val_score(clf,x_scaled,y,cv=3)\n",
    "print('cross validation score of Ranom forest classifier model is:',csv.mean())"
   ]
  },
  {
   "cell_type": "markdown",
   "id": "b30bd257",
   "metadata": {},
   "source": [
    "Random Forest Classifier is performing better among all so we will continue with Random Forest Classifier"
   ]
  },
  {
   "cell_type": "markdown",
   "id": "1c7a51f7",
   "metadata": {},
   "source": [
    "# HyperParameterTuning:"
   ]
  },
  {
   "cell_type": "code",
   "execution_count": 25,
   "id": "99f6a17c",
   "metadata": {},
   "outputs": [
    {
     "data": {
      "text/plain": [
       "GridSearchCV(cv=5, estimator=RandomForestClassifier(),\n",
       "             param_grid={'criterion': ['gini', 'entropy'],\n",
       "                         'max_depth': [10, 12, 15],\n",
       "                         'min_samples_leaf': [5, 6, 7, 8, 9],\n",
       "                         'min_samples_split': [10, 11]},\n",
       "             scoring='accuracy')"
      ]
     },
     "execution_count": 25,
     "metadata": {},
     "output_type": "execute_result"
    }
   ],
   "source": [
    "from sklearn.model_selection import GridSearchCV\n",
    "params={    'criterion':['gini','entropy'],\n",
    "            'max_depth':[10,12,15],\n",
    "            'min_samples_split':[10,11],\n",
    "            'min_samples_leaf':[5,6,7,8,9]\n",
    "           }\n",
    "gri=GridSearchCV(clf,param_grid=params,cv=5,scoring='accuracy')\n",
    "gri.fit(x_train_ns,y_train_ns)\n"
   ]
  },
  {
   "cell_type": "code",
   "execution_count": 26,
   "id": "abc87f38",
   "metadata": {},
   "outputs": [
    {
     "name": "stdout",
     "output_type": "stream",
     "text": [
      "{'criterion': 'gini', 'max_depth': 15, 'min_samples_leaf': 5, 'min_samples_split': 10}\n"
     ]
    }
   ],
   "source": [
    "print(gri.best_params_)\n",
    "gri_pred=gri.best_estimator_.predict(x_test)"
   ]
  },
  {
   "cell_type": "code",
   "execution_count": 27,
   "id": "b890cdcc",
   "metadata": {},
   "outputs": [
    {
     "data": {
      "text/plain": [
       "0.8449017199017199"
      ]
     },
     "execution_count": 27,
     "metadata": {},
     "output_type": "execute_result"
    }
   ],
   "source": [
    "accuracy_score(y_test,gri_pred)"
   ]
  },
  {
   "cell_type": "markdown",
   "id": "3a3792a2",
   "metadata": {},
   "source": [
    "# ROC AUC Plot:"
   ]
  },
  {
   "cell_type": "code",
   "execution_count": 28,
   "id": "8ae0c278",
   "metadata": {},
   "outputs": [
    {
     "data": {
      "text/plain": [
       "<function matplotlib.pyplot.show(close=None, block=None)>"
      ]
     },
     "execution_count": 28,
     "metadata": {},
     "output_type": "execute_result"
    },
    {
     "data": {
      "image/png": "[encoded data removed]",
      "text/plain": [
       "<Figure size 432x288 with 1 Axes>"
      ]
     },
     "metadata": {
      "needs_background": "light"
     },
     "output_type": "display_data"
    }
   ],
   "source": [
    "from sklearn.metrics import plot_roc_curve\n",
    "plot_roc_curve(gri.best_estimator_,x_test,y_test)\n",
    "plt.title('AUC ROC plot')\n",
    "plt.show"
   ]
  },
  {
   "cell_type": "markdown",
   "id": "dfaf04c7",
   "metadata": {},
   "source": [
    "Final accuracy is 84% and AUC score is 92% which is decently good."
   ]
  },
  {
   "cell_type": "markdown",
   "id": "61ee5651",
   "metadata": {},
   "source": [
    "# Saving the model:"
   ]
  },
  {
   "cell_type": "code",
   "execution_count": 29,
   "id": "582c19d9",
   "metadata": {},
   "outputs": [],
   "source": [
    "import pickle\n",
    "filename='census_income.pkl'\n",
    "pickle.dump(gri.best_estimator_,open(filename,'wb'))\n"
   ]
  },
  {
   "cell_type": "markdown",
   "id": "321a9656",
   "metadata": {},
   "source": [
    "# Conclusion:"
   ]
  },
  {
   "cell_type": "code",
   "execution_count": 30,
   "id": "fbaefa0f",
   "metadata": {},
   "outputs": [
    {
     "data": {
      "text/html": [
       "<div>\n",
       "<style scoped>\n",
       "    .dataframe tbody tr th:only-of-type {\n",
       "        vertical-align: middle;\n",
       "    }\n",
       "\n",
       "    .dataframe tbody tr th {\n",
       "        vertical-align: top;\n",
       "    }\n",
       "\n",
       "    .dataframe thead th {\n",
       "        text-align: right;\n",
       "    }\n",
       "</style>\n",
       "<table border=\"1\" class=\"dataframe\">\n",
       "  <thead>\n",
       "    <tr style=\"text-align: right;\">\n",
       "      <th></th>\n",
       "      <th>Original</th>\n",
       "      <th>Predicted</th>\n",
       "    </tr>\n",
       "  </thead>\n",
       "  <tbody>\n",
       "    <tr>\n",
       "      <th>0</th>\n",
       "      <td>0</td>\n",
       "      <td>1</td>\n",
       "    </tr>\n",
       "    <tr>\n",
       "      <th>1</th>\n",
       "      <td>0</td>\n",
       "      <td>0</td>\n",
       "    </tr>\n",
       "    <tr>\n",
       "      <th>2</th>\n",
       "      <td>0</td>\n",
       "      <td>0</td>\n",
       "    </tr>\n",
       "    <tr>\n",
       "      <th>3</th>\n",
       "      <td>1</td>\n",
       "      <td>1</td>\n",
       "    </tr>\n",
       "    <tr>\n",
       "      <th>4</th>\n",
       "      <td>1</td>\n",
       "      <td>0</td>\n",
       "    </tr>\n",
       "    <tr>\n",
       "      <th>...</th>\n",
       "      <td>...</td>\n",
       "      <td>...</td>\n",
       "    </tr>\n",
       "    <tr>\n",
       "      <th>6507</th>\n",
       "      <td>0</td>\n",
       "      <td>0</td>\n",
       "    </tr>\n",
       "    <tr>\n",
       "      <th>6508</th>\n",
       "      <td>0</td>\n",
       "      <td>0</td>\n",
       "    </tr>\n",
       "    <tr>\n",
       "      <th>6509</th>\n",
       "      <td>0</td>\n",
       "      <td>0</td>\n",
       "    </tr>\n",
       "    <tr>\n",
       "      <th>6510</th>\n",
       "      <td>0</td>\n",
       "      <td>0</td>\n",
       "    </tr>\n",
       "    <tr>\n",
       "      <th>6511</th>\n",
       "      <td>0</td>\n",
       "      <td>0</td>\n",
       "    </tr>\n",
       "  </tbody>\n",
       "</table>\n",
       "<p>6512 rows × 2 columns</p>\n",
       "</div>"
      ],
      "text/plain": [
       "      Original  Predicted\n",
       "0            0          1\n",
       "1            0          0\n",
       "2            0          0\n",
       "3            1          1\n",
       "4            1          0\n",
       "...        ...        ...\n",
       "6507         0          0\n",
       "6508         0          0\n",
       "6509         0          0\n",
       "6510         0          0\n",
       "6511         0          0\n",
       "\n",
       "[6512 rows x 2 columns]"
      ]
     },
     "execution_count": 30,
     "metadata": {},
     "output_type": "execute_result"
    }
   ],
   "source": [
    "import numpy as np\n",
    "a=np.array(y_test)\n",
    "predicted=np.array(gri.best_estimator_.predict(x_test))\n",
    "df_conclusion=pd.DataFrame({'Original':a,'Predicted':predicted},index=range(len(a)))\n",
    "df_conclusion"
   ]
  },
  {
   "cell_type": "code",
   "execution_count": null,
   "id": "a6e98c6c",
   "metadata": {},
   "outputs": [],
   "source": []
  }
 ],
 "metadata": {
  "kernelspec": {
   "display_name": "Python 3",
   "language": "python",
   "name": "python3"
  },
  "language_info": {
   "codemirror_mode": {
    "name": "ipython",
    "version": 3
   },
   "file_extension": ".py",
   "mimetype": "text/x-python",
   "name": "python",
   "nbconvert_exporter": "python",
   "pygments_lexer": "ipython3",
   "version": "3.8.8"
  }
 },
 "nbformat": 4,
 "nbformat_minor": 5
}
