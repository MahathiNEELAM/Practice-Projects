{
 "cells": [
  {
   "cell_type": "markdown",
   "id": "1a6ca8d0",
   "metadata": {},
   "source": [
    "# Project 6 - Advertising Sales Channel Prediction"
   ]
  },
  {
   "cell_type": "markdown",
   "id": "eba17c0b",
   "metadata": {},
   "source": [
    "# Description:\n",
    "When a company enters a market, the distribution strategy and channel it uses are keys to its success in the market, as well as market know-how and customer knowledge and understanding. Because an effective distribution strategy under efficient supply-chain management opens doors for attaining competitive advantage and strong brand equity in the market, it is a component of the marketing mix that cannot be ignored . \n",
    "\n",
    "The distribution strategy and the channel design have to be right the first time. The case study of Sales channel includes the detailed study of TV, radio and newspaper channel. The predict the total sales generated from all the sales channel. "
   ]
  },
  {
   "cell_type": "markdown",
   "id": "08a97ce0",
   "metadata": {},
   "source": [
    "# Importing all the necessary Libraries:"
   ]
  },
  {
   "cell_type": "code",
   "execution_count": 1,
   "id": "66470733",
   "metadata": {},
   "outputs": [],
   "source": [
    "import pandas as pd \n",
    "import numpy as np\n",
    "import matplotlib.pyplot as plt\n",
    "import seaborn as sns\n",
    "\n",
    "import warnings\n",
    "warnings.filterwarnings('ignore')"
   ]
  },
  {
   "cell_type": "markdown",
   "id": "0afa9dec",
   "metadata": {},
   "source": [
    "# Loading the Data Set:"
   ]
  },
  {
   "cell_type": "code",
   "execution_count": 8,
   "id": "3a3871a3",
   "metadata": {},
   "outputs": [
    {
     "data": {
      "text/html": [
       "<div>\n",
       "<style scoped>\n",
       "    .dataframe tbody tr th:only-of-type {\n",
       "        vertical-align: middle;\n",
       "    }\n",
       "\n",
       "    .dataframe tbody tr th {\n",
       "        vertical-align: top;\n",
       "    }\n",
       "\n",
       "    .dataframe thead th {\n",
       "        text-align: right;\n",
       "    }\n",
       "</style>\n",
       "<table border=\"1\" class=\"dataframe\">\n",
       "  <thead>\n",
       "    <tr style=\"text-align: right;\">\n",
       "      <th></th>\n",
       "      <th>Unnamed: 0</th>\n",
       "      <th>TV</th>\n",
       "      <th>radio</th>\n",
       "      <th>newspaper</th>\n",
       "      <th>sales</th>\n",
       "    </tr>\n",
       "  </thead>\n",
       "  <tbody>\n",
       "    <tr>\n",
       "      <th>0</th>\n",
       "      <td>1</td>\n",
       "      <td>230.1</td>\n",
       "      <td>37.8</td>\n",
       "      <td>69.2</td>\n",
       "      <td>22.1</td>\n",
       "    </tr>\n",
       "    <tr>\n",
       "      <th>1</th>\n",
       "      <td>2</td>\n",
       "      <td>44.5</td>\n",
       "      <td>39.3</td>\n",
       "      <td>45.1</td>\n",
       "      <td>10.4</td>\n",
       "    </tr>\n",
       "    <tr>\n",
       "      <th>2</th>\n",
       "      <td>3</td>\n",
       "      <td>17.2</td>\n",
       "      <td>45.9</td>\n",
       "      <td>69.3</td>\n",
       "      <td>9.3</td>\n",
       "    </tr>\n",
       "    <tr>\n",
       "      <th>3</th>\n",
       "      <td>4</td>\n",
       "      <td>151.5</td>\n",
       "      <td>41.3</td>\n",
       "      <td>58.5</td>\n",
       "      <td>18.5</td>\n",
       "    </tr>\n",
       "    <tr>\n",
       "      <th>4</th>\n",
       "      <td>5</td>\n",
       "      <td>180.8</td>\n",
       "      <td>10.8</td>\n",
       "      <td>58.4</td>\n",
       "      <td>12.9</td>\n",
       "    </tr>\n",
       "    <tr>\n",
       "      <th>...</th>\n",
       "      <td>...</td>\n",
       "      <td>...</td>\n",
       "      <td>...</td>\n",
       "      <td>...</td>\n",
       "      <td>...</td>\n",
       "    </tr>\n",
       "    <tr>\n",
       "      <th>195</th>\n",
       "      <td>196</td>\n",
       "      <td>38.2</td>\n",
       "      <td>3.7</td>\n",
       "      <td>13.8</td>\n",
       "      <td>7.6</td>\n",
       "    </tr>\n",
       "    <tr>\n",
       "      <th>196</th>\n",
       "      <td>197</td>\n",
       "      <td>94.2</td>\n",
       "      <td>4.9</td>\n",
       "      <td>8.1</td>\n",
       "      <td>9.7</td>\n",
       "    </tr>\n",
       "    <tr>\n",
       "      <th>197</th>\n",
       "      <td>198</td>\n",
       "      <td>177.0</td>\n",
       "      <td>9.3</td>\n",
       "      <td>6.4</td>\n",
       "      <td>12.8</td>\n",
       "    </tr>\n",
       "    <tr>\n",
       "      <th>198</th>\n",
       "      <td>199</td>\n",
       "      <td>283.6</td>\n",
       "      <td>42.0</td>\n",
       "      <td>66.2</td>\n",
       "      <td>25.5</td>\n",
       "    </tr>\n",
       "    <tr>\n",
       "      <th>199</th>\n",
       "      <td>200</td>\n",
       "      <td>232.1</td>\n",
       "      <td>8.6</td>\n",
       "      <td>8.7</td>\n",
       "      <td>13.4</td>\n",
       "    </tr>\n",
       "  </tbody>\n",
       "</table>\n",
       "<p>200 rows × 5 columns</p>\n",
       "</div>"
      ],
      "text/plain": [
       "     Unnamed: 0     TV  radio  newspaper  sales\n",
       "0             1  230.1   37.8       69.2   22.1\n",
       "1             2   44.5   39.3       45.1   10.4\n",
       "2             3   17.2   45.9       69.3    9.3\n",
       "3             4  151.5   41.3       58.5   18.5\n",
       "4             5  180.8   10.8       58.4   12.9\n",
       "..          ...    ...    ...        ...    ...\n",
       "195         196   38.2    3.7       13.8    7.6\n",
       "196         197   94.2    4.9        8.1    9.7\n",
       "197         198  177.0    9.3        6.4   12.8\n",
       "198         199  283.6   42.0       66.2   25.5\n",
       "199         200  232.1    8.6        8.7   13.4\n",
       "\n",
       "[200 rows x 5 columns]"
      ]
     },
     "execution_count": 8,
     "metadata": {},
     "output_type": "execute_result"
    }
   ],
   "source": [
    "df=pd.read_csv('Advertising.csv')\n",
    "df"
   ]
  },
  {
   "cell_type": "markdown",
   "id": "b63b360f",
   "metadata": {},
   "source": [
    "There are around 200 rows and 5 columns in which the Tv,radio and newspaper channels are the features of the column and sales is the label.\n",
    "\n",
    "Since, the label is in contunous form Regression model is used.\n",
    "\n",
    "further,the unamed column is eleminated due to it is unnecessary for further prediction."
   ]
  },
  {
   "cell_type": "code",
   "execution_count": 12,
   "id": "af93190d",
   "metadata": {},
   "outputs": [],
   "source": [
    "df=df.drop(columns=['Unnamed: 0'])#dropping the unrequired column."
   ]
  },
  {
   "cell_type": "code",
   "execution_count": 13,
   "id": "ce94e682",
   "metadata": {},
   "outputs": [
    {
     "data": {
      "text/plain": [
       "TV           float64\n",
       "radio        float64\n",
       "newspaper    float64\n",
       "sales        float64\n",
       "dtype: object"
      ]
     },
     "execution_count": 13,
     "metadata": {},
     "output_type": "execute_result"
    }
   ],
   "source": [
    "df.dtypes #checking the data type fo each column."
   ]
  },
  {
   "cell_type": "code",
   "execution_count": 15,
   "id": "c54b23a6",
   "metadata": {},
   "outputs": [
    {
     "name": "stdout",
     "output_type": "stream",
     "text": [
      "<class 'pandas.core.frame.DataFrame'>\n",
      "RangeIndex: 200 entries, 0 to 199\n",
      "Data columns (total 4 columns):\n",
      " #   Column     Non-Null Count  Dtype  \n",
      "---  ------     --------------  -----  \n",
      " 0   TV         200 non-null    float64\n",
      " 1   radio      200 non-null    float64\n",
      " 2   newspaper  200 non-null    float64\n",
      " 3   sales      200 non-null    float64\n",
      "dtypes: float64(4)\n",
      "memory usage: 6.4 KB\n"
     ]
    }
   ],
   "source": [
    "df.info() #getting the information regarding features."
   ]
  },
  {
   "cell_type": "code",
   "execution_count": 16,
   "id": "70d2d0f3",
   "metadata": {},
   "outputs": [
    {
     "data": {
      "text/plain": [
       "(200, 4)"
      ]
     },
     "execution_count": 16,
     "metadata": {},
     "output_type": "execute_result"
    }
   ],
   "source": [
    "df.shape # typing the shape of the data"
   ]
  },
  {
   "cell_type": "code",
   "execution_count": 17,
   "id": "68115404",
   "metadata": {},
   "outputs": [
    {
     "data": {
      "text/plain": [
       "TV           0\n",
       "radio        0\n",
       "newspaper    0\n",
       "sales        0\n",
       "dtype: int64"
      ]
     },
     "execution_count": 17,
     "metadata": {},
     "output_type": "execute_result"
    }
   ],
   "source": [
    "#Checking the null count of all the columns of the data set:\n",
    "df.isnull().sum()"
   ]
  },
  {
   "cell_type": "markdown",
   "id": "84427822",
   "metadata": {},
   "source": [
    "# Graphical analysis of the data:"
   ]
  },
  {
   "cell_type": "code",
   "execution_count": 35,
   "id": "09ff431f",
   "metadata": {},
   "outputs": [
    {
     "name": "stdout",
     "output_type": "stream",
     "text": [
      "NormalDistributionCurve of  Tv,radio,newspaper and sales\n"
     ]
    },
    {
     "data": {
      "image/png": "[encoded data removed]",
      "text/plain": [
       "<Figure size 1296x1440 with 4 Axes>"
      ]
     },
     "metadata": {
      "needs_background": "light"
     },
     "output_type": "display_data"
    }
   ],
   "source": [
    "print('NormalDistributionCurve of  Tv,radio,newspaper and sales')\n",
    "plt.figure(figsize=(18,20))\n",
    "plotnumber=1\n",
    "for column in df:\n",
    "    if plotnumber<=4:\n",
    "        ax=plt.subplot(2,2,plotnumber)\n",
    "        sns.distplot(df[column])\n",
    "        plt.xlabel(column,fontsize=15)\n",
    "        plt.title('NormalDistributionCurve',fontsize=25)\n",
    "    plotnumber+=1\n",
    "\n",
    "plt.show() \n"
   ]
  },
  {
   "cell_type": "markdown",
   "id": "b409840f",
   "metadata": {},
   "source": [
    "# Describing Data:"
   ]
  },
  {
   "cell_type": "code",
   "execution_count": 36,
   "id": "7e32627f",
   "metadata": {},
   "outputs": [
    {
     "data": {
      "text/html": [
       "<div>\n",
       "<style scoped>\n",
       "    .dataframe tbody tr th:only-of-type {\n",
       "        vertical-align: middle;\n",
       "    }\n",
       "\n",
       "    .dataframe tbody tr th {\n",
       "        vertical-align: top;\n",
       "    }\n",
       "\n",
       "    .dataframe thead th {\n",
       "        text-align: right;\n",
       "    }\n",
       "</style>\n",
       "<table border=\"1\" class=\"dataframe\">\n",
       "  <thead>\n",
       "    <tr style=\"text-align: right;\">\n",
       "      <th></th>\n",
       "      <th>TV</th>\n",
       "      <th>radio</th>\n",
       "      <th>newspaper</th>\n",
       "      <th>sales</th>\n",
       "    </tr>\n",
       "  </thead>\n",
       "  <tbody>\n",
       "    <tr>\n",
       "      <th>count</th>\n",
       "      <td>200.000000</td>\n",
       "      <td>200.000000</td>\n",
       "      <td>200.000000</td>\n",
       "      <td>200.000000</td>\n",
       "    </tr>\n",
       "    <tr>\n",
       "      <th>mean</th>\n",
       "      <td>147.042500</td>\n",
       "      <td>23.264000</td>\n",
       "      <td>30.554000</td>\n",
       "      <td>14.022500</td>\n",
       "    </tr>\n",
       "    <tr>\n",
       "      <th>std</th>\n",
       "      <td>85.854236</td>\n",
       "      <td>14.846809</td>\n",
       "      <td>21.778621</td>\n",
       "      <td>5.217457</td>\n",
       "    </tr>\n",
       "    <tr>\n",
       "      <th>min</th>\n",
       "      <td>0.700000</td>\n",
       "      <td>0.000000</td>\n",
       "      <td>0.300000</td>\n",
       "      <td>1.600000</td>\n",
       "    </tr>\n",
       "    <tr>\n",
       "      <th>25%</th>\n",
       "      <td>74.375000</td>\n",
       "      <td>9.975000</td>\n",
       "      <td>12.750000</td>\n",
       "      <td>10.375000</td>\n",
       "    </tr>\n",
       "    <tr>\n",
       "      <th>50%</th>\n",
       "      <td>149.750000</td>\n",
       "      <td>22.900000</td>\n",
       "      <td>25.750000</td>\n",
       "      <td>12.900000</td>\n",
       "    </tr>\n",
       "    <tr>\n",
       "      <th>75%</th>\n",
       "      <td>218.825000</td>\n",
       "      <td>36.525000</td>\n",
       "      <td>45.100000</td>\n",
       "      <td>17.400000</td>\n",
       "    </tr>\n",
       "    <tr>\n",
       "      <th>max</th>\n",
       "      <td>296.400000</td>\n",
       "      <td>49.600000</td>\n",
       "      <td>114.000000</td>\n",
       "      <td>27.000000</td>\n",
       "    </tr>\n",
       "  </tbody>\n",
       "</table>\n",
       "</div>"
      ],
      "text/plain": [
       "               TV       radio   newspaper       sales\n",
       "count  200.000000  200.000000  200.000000  200.000000\n",
       "mean   147.042500   23.264000   30.554000   14.022500\n",
       "std     85.854236   14.846809   21.778621    5.217457\n",
       "min      0.700000    0.000000    0.300000    1.600000\n",
       "25%     74.375000    9.975000   12.750000   10.375000\n",
       "50%    149.750000   22.900000   25.750000   12.900000\n",
       "75%    218.825000   36.525000   45.100000   17.400000\n",
       "max    296.400000   49.600000  114.000000   27.000000"
      ]
     },
     "execution_count": 36,
     "metadata": {},
     "output_type": "execute_result"
    }
   ],
   "source": [
    "df.describe()"
   ]
  },
  {
   "cell_type": "markdown",
   "id": "6ad1e757",
   "metadata": {},
   "source": [
    "Based on the above data ,we need to check the outliers and skewness of all the columns. Now let's check the correlation of all the feature variable with the target."
   ]
  },
  {
   "cell_type": "markdown",
   "id": "91a71bb9",
   "metadata": {},
   "source": [
    "# Correlation:"
   ]
  },
  {
   "cell_type": "markdown",
   "id": "cc40d28a",
   "metadata": {},
   "source": [
    "# Correlation Using Heat Map:"
   ]
  },
  {
   "cell_type": "code",
   "execution_count": 37,
   "id": "1afdb38c",
   "metadata": {},
   "outputs": [
    {
     "data": {
      "image/png": "[encoded data removed]",
      "text/plain": [
       "<Figure size 1584x1152 with 2 Axes>"
      ]
     },
     "metadata": {
      "needs_background": "light"
     },
     "output_type": "display_data"
    }
   ],
   "source": [
    "df_corr=df.corr().abs()\n",
    "\n",
    "plt.figure(figsize=(22,16))\n",
    "sns.heatmap(df_corr,annot=True,annot_kws={'size':12})\n",
    "plt.show()  "
   ]
  },
  {
   "cell_type": "markdown",
   "id": "05da5599",
   "metadata": {},
   "source": [
    "Outcome of Correlation:\n",
    "All the features of the dataset is positively correlated with the target column 'sales'.\n",
    "\n",
    "Maximun correlated feature:Tv\n",
    "\n",
    "minimun correlated feature:newspaper"
   ]
  },
  {
   "cell_type": "code",
   "execution_count": 38,
   "id": "37fb290c",
   "metadata": {},
   "outputs": [
    {
     "data": {
      "text/plain": [
       "sales        1.000000\n",
       "TV           0.782224\n",
       "radio        0.576223\n",
       "newspaper    0.228299\n",
       "Name: sales, dtype: float64"
      ]
     },
     "execution_count": 38,
     "metadata": {},
     "output_type": "execute_result"
    }
   ],
   "source": [
    "corr=df.corr()\n",
    "corr['sales'].sort_values(ascending=False)"
   ]
  },
  {
   "cell_type": "markdown",
   "id": "af8718ed",
   "metadata": {},
   "source": [
    "# Correlation of sales variable with all the other feature variables in the data set:"
   ]
  },
  {
   "cell_type": "code",
   "execution_count": 39,
   "id": "a1b95086",
   "metadata": {},
   "outputs": [
    {
     "data": {
      "image/png": "[encoded data removed]",
      "text/plain": [
       "<Figure size 720x504 with 1 Axes>"
      ]
     },
     "metadata": {
      "needs_background": "light"
     },
     "output_type": "display_data"
    }
   ],
   "source": [
    "df.drop('sales',axis=1).corrwith(df.sales).plot(kind='bar',grid=False,figsize=(10,7),title='Correlation with sales')\n",
    "plt.show()"
   ]
  },
  {
   "cell_type": "markdown",
   "id": "bd8f8945",
   "metadata": {},
   "source": [
    "Here, Tv,radio and newspaper are positively correlated and has good correlation with the sales column\n"
   ]
  },
  {
   "cell_type": "markdown",
   "id": "b8956322",
   "metadata": {},
   "source": [
    "# Checking Skewness:"
   ]
  },
  {
   "cell_type": "code",
   "execution_count": 40,
   "id": "be4355ee",
   "metadata": {},
   "outputs": [
    {
     "data": {
      "text/plain": [
       "TV          -0.069853\n",
       "radio        0.094175\n",
       "newspaper    0.894720\n",
       "sales        0.407571\n",
       "dtype: float64"
      ]
     },
     "execution_count": 40,
     "metadata": {},
     "output_type": "execute_result"
    }
   ],
   "source": [
    "df.skew()"
   ]
  },
  {
   "cell_type": "markdown",
   "id": "31fde807",
   "metadata": {},
   "source": [
    "Skewness can be allowed with in the range f '+/-0.5'\n",
    "\n",
    "Here,all the features are having less skewness value"
   ]
  },
  {
   "cell_type": "markdown",
   "id": "1232c0fa",
   "metadata": {},
   "source": [
    "# Checking outliers:"
   ]
  },
  {
   "cell_type": "code",
   "execution_count": 41,
   "id": "9c362b4f",
   "metadata": {},
   "outputs": [
    {
     "data": {
      "image/png": "[encoded data removed]",
      "text/plain": [
       "<Figure size 1296x1440 with 3 Axes>"
      ]
     },
     "metadata": {
      "needs_background": "light"
     },
     "output_type": "display_data"
    }
   ],
   "source": [
    "x=df.drop(columns=['sales'])\n",
    "plt.figure(figsize=(18,20))\n",
    "graph=1\n",
    "for column in x:\n",
    "    if graph<=4:\n",
    "        ax=plt.subplot(2,2,graph)\n",
    "        sns.boxplot(x[column],orient='v')\n",
    "        plt.xlabel(column,fontsize=15)\n",
    "    graph+=1\n",
    "plt.show()  "
   ]
  },
  {
   "cell_type": "markdown",
   "id": "9076934a",
   "metadata": {},
   "source": [
    "There seems to be no much outliers in the above plots. "
   ]
  },
  {
   "cell_type": "markdown",
   "id": "15570c18",
   "metadata": {},
   "source": [
    "# Splitting the target and feature variables:"
   ]
  },
  {
   "cell_type": "code",
   "execution_count": 42,
   "id": "272bde66",
   "metadata": {},
   "outputs": [],
   "source": [
    "y=df['sales']\n",
    "x=df.drop(columns=['sales'])"
   ]
  },
  {
   "cell_type": "markdown",
   "id": "6c182946",
   "metadata": {},
   "source": [
    "# Imporing Libraries Modeling the Data:"
   ]
  },
  {
   "cell_type": "code",
   "execution_count": 43,
   "id": "9352eb56",
   "metadata": {},
   "outputs": [],
   "source": [
    "from sklearn.metrics import r2_score\n",
    "from sklearn.linear_model import LinearRegression\n",
    "from sklearn.model_selection import train_test_split"
   ]
  },
  {
   "cell_type": "markdown",
   "id": "af3adc25",
   "metadata": {},
   "source": [
    "# Finding the Best Random State:"
   ]
  },
  {
   "cell_type": "code",
   "execution_count": 45,
   "id": "a6a1bc15",
   "metadata": {},
   "outputs": [
    {
     "name": "stdout",
     "output_type": "stream",
     "text": [
      "At random state-45,the training accuracy is -0.895947647524022\n",
      "At random state-45,the testing accuracy is -0.8955882331233611\n",
      "\n",
      "\n"
     ]
    }
   ],
   "source": [
    "lr=LinearRegression()\n",
    "for i in range(0,100):\n",
    "    x_train,x_test,y_train,y_test=train_test_split(x,y,test_size=0.20,random_state=i)\n",
    "    lr.fit(x_train,y_train)\n",
    "    pred_train=lr.predict(x_train)\n",
    "    pred_test=lr.predict(x_test)\n",
    "    if round(r2_score(y_train,pred_train)*100,1)==round(r2_score(y_test,pred_test)*100,1):\n",
    "        print(f'At random state-{i},the training accuracy is -{r2_score(y_train,pred_train)}')\n",
    "        print(f'At random state-{i},the testing accuracy is -{r2_score(y_test,pred_test)}')\n",
    "        print('\\n')\n"
   ]
  },
  {
   "cell_type": "markdown",
   "id": "6dc86250",
   "metadata": {},
   "source": [
    "# Creating train-test split:"
   ]
  },
  {
   "cell_type": "code",
   "execution_count": 47,
   "id": "abe0091d",
   "metadata": {},
   "outputs": [],
   "source": [
    "x_train,x_test,y_train,y_test=train_test_split(x,y,test_size=0.20,random_state=45)\n"
   ]
  },
  {
   "cell_type": "markdown",
   "id": "dcb0441b",
   "metadata": {},
   "source": [
    "# Linear Regression Model:"
   ]
  },
  {
   "cell_type": "code",
   "execution_count": 48,
   "id": "03342e25",
   "metadata": {},
   "outputs": [
    {
     "data": {
      "text/plain": [
       "0.8955882331233611"
      ]
     },
     "execution_count": 48,
     "metadata": {},
     "output_type": "execute_result"
    }
   ],
   "source": [
    "lr.fit(x_train,y_train)\n",
    "pred_test=lr.predict(x_test)\n",
    "r2_score(y_test,pred_test)"
   ]
  },
  {
   "cell_type": "markdown",
   "id": "c83d959d",
   "metadata": {},
   "source": [
    "# CrossValidation Score:"
   ]
  },
  {
   "cell_type": "code",
   "execution_count": 49,
   "id": "82b8f85f",
   "metadata": {},
   "outputs": [
    {
     "name": "stdout",
     "output_type": "stream",
     "text": [
      "at cv:- 2\n",
      "cv score- 89.08473589845056\n",
      "training_accuracy- -77.07889820642204\n",
      "testing_accuracy- 89.55882331233612\n",
      "at cv:- 3\n",
      "cv score- 89.16464591145558\n",
      "training_accuracy- -77.07889820642204\n",
      "testing_accuracy- 89.55882331233612\n",
      "at cv:- 4\n",
      "cv score- 89.00070660549507\n",
      "training_accuracy- -77.07889820642204\n",
      "testing_accuracy- 89.55882331233612\n",
      "at cv:- 5\n",
      "cv score- 88.71063495438436\n",
      "training_accuracy- -77.07889820642204\n",
      "testing_accuracy- 89.55882331233612\n",
      "at cv:- 6\n",
      "cv score- 88.99208882186672\n",
      "training_accuracy- -77.07889820642204\n",
      "testing_accuracy- 89.55882331233612\n",
      "at cv:- 7\n",
      "cv score- 88.59930219823539\n",
      "training_accuracy- -77.07889820642204\n",
      "testing_accuracy- 89.55882331233612\n",
      "at cv:- 8\n",
      "cv score- 88.26686689919153\n",
      "training_accuracy- -77.07889820642204\n",
      "testing_accuracy- 89.55882331233612\n",
      "at cv:- 9\n",
      "cv score- 88.22728227103586\n",
      "training_accuracy- -77.07889820642204\n",
      "testing_accuracy- 89.55882331233612\n"
     ]
    }
   ],
   "source": [
    "training_accuracy=r2_score(y_train,pred_train)\n",
    "testing_accuracy=r2_score(y_test,pred_test)\n",
    "from sklearn.model_selection import cross_val_score\n",
    "for i in range(2,10):\n",
    "    csv=cross_val_score(lr,x,y,cv=i)\n",
    "    cv_mean=csv.mean()\n",
    "    print('at cv:-',i)\n",
    "    print('cv score-',cv_mean*100)\n",
    "    print('training_accuracy-',training_accuracy*100)\n",
    "    print('testing_accuracy-',testing_accuracy*100)"
   ]
  },
  {
   "cell_type": "markdown",
   "id": "4ae4597e",
   "metadata": {},
   "source": [
    "# Linear Regression Plot:"
   ]
  },
  {
   "cell_type": "code",
   "execution_count": 50,
   "id": "22a66655",
   "metadata": {},
   "outputs": [
    {
     "data": {
      "image/png": "[encoded data removed]",
      "text/plain": [
       "<Figure size 576x432 with 1 Axes>"
      ]
     },
     "metadata": {
      "needs_background": "light"
     },
     "output_type": "display_data"
    }
   ],
   "source": [
    "plt.figure(figsize=(8,6))\n",
    "plt.scatter(y_test,pred_test,color='y')\n",
    "plt.plot(y_test,y_test,color='g')\n",
    "plt.xlabel('Actual rings',fontsize=14)\n",
    "plt.ylabel('predicted rings',fontsize=14)\n",
    "plt.title('Linear Regression',fontsize=18)\n",
    "plt.show()"
   ]
  },
  {
   "cell_type": "markdown",
   "id": "a2376ec4",
   "metadata": {},
   "source": [
    "# Regularisation and HyperParameter Tuning:"
   ]
  },
  {
   "cell_type": "code",
   "execution_count": 54,
   "id": "2f227c75",
   "metadata": {},
   "outputs": [
    {
     "name": "stdout",
     "output_type": "stream",
     "text": [
      "{'alpha': 0.0001, 'random_state': 0}\n"
     ]
    }
   ],
   "source": [
    "from sklearn.model_selection import GridSearchCV\n",
    "from sklearn.linear_model import Lasso\n",
    "\n",
    "parameters={'alpha':[0.0001,.001,.01,.1,1,10], 'random_state':list(range(0,10))}\n",
    "ls=Lasso()\n",
    "clf=GridSearchCV(ls,parameters)\n",
    "clf.fit(x_train,y_train)\n",
    "\n",
    "print(clf.best_params_)"
   ]
  },
  {
   "cell_type": "markdown",
   "id": "321e4b91",
   "metadata": {},
   "source": [
    "# Lasso Regression :"
   ]
  },
  {
   "cell_type": "code",
   "execution_count": 55,
   "id": "c62c3292",
   "metadata": {},
   "outputs": [
    {
     "data": {
      "text/plain": [
       "0.8955882301811618"
      ]
     },
     "execution_count": 55,
     "metadata": {},
     "output_type": "execute_result"
    }
   ],
   "source": [
    "ls=Lasso(alpha=0.0001,random_state=0)\n",
    "ls.fit(x_train,y_train)\n",
    "ls.score(x_train,y_train)\n",
    "pred_ls=ls.predict(x_test)\n",
    "\n",
    "lss=r2_score(y_test,pred_ls)\n",
    "lss"
   ]
  },
  {
   "cell_type": "code",
   "execution_count": 56,
   "id": "1058eb73",
   "metadata": {},
   "outputs": [
    {
     "data": {
      "text/plain": [
       "0.8916465903375413"
      ]
     },
     "execution_count": 56,
     "metadata": {},
     "output_type": "execute_result"
    }
   ],
   "source": [
    "csv=cross_val_score(ls,x,y,cv=3)\n",
    "cv_mean=csv.mean()\n",
    "cv_mean"
   ]
  },
  {
   "cell_type": "markdown",
   "id": "7be8e1e0",
   "metadata": {},
   "source": [
    "In Lasso Model r2score is 90% and cv score is 89% "
   ]
  },
  {
   "cell_type": "markdown",
   "id": "26017efc",
   "metadata": {},
   "source": [
    "# Using Ensemble Approach:"
   ]
  },
  {
   "cell_type": "code",
   "execution_count": 58,
   "id": "a116a36d",
   "metadata": {},
   "outputs": [
    {
     "name": "stdout",
     "output_type": "stream",
     "text": [
      "{'criterion': 'mae', 'max_features': 'auto'}\n"
     ]
    }
   ],
   "source": [
    "from sklearn.model_selection import GridSearchCV\n",
    "from sklearn.ensemble import RandomForestRegressor\n",
    "\n",
    "\n",
    "parameters={'criterion':['mse', 'mae'],'max_features':['auto', 'sqrt', 'log2']}\n",
    "rf=RandomForestRegressor()\n",
    "clf=GridSearchCV(rf,parameters)\n",
    "clf.fit(x_train,y_train)\n",
    "\n",
    "print(clf.best_params_)"
   ]
  },
  {
   "cell_type": "markdown",
   "id": "fa5c82f7",
   "metadata": {},
   "source": [
    "# RandomForestRegression:"
   ]
  },
  {
   "cell_type": "code",
   "execution_count": 59,
   "id": "560f65a2",
   "metadata": {},
   "outputs": [
    {
     "name": "stdout",
     "output_type": "stream",
     "text": [
      "R2 Score:  97.62320350947516\n",
      "Cross validation Score:  97.44637266677705\n"
     ]
    }
   ],
   "source": [
    "rf=RandomForestRegressor(criterion='mae',max_features='auto')\n",
    "rf.fit(x_train,y_train)\n",
    "rf.score(x_train,y_train)\n",
    "pred_rf=rf.predict(x_test)\n",
    "\n",
    "rfs=r2_score(y_test,pred_rf)\n",
    "print('R2 Score: ',rfs*100)\n",
    "\n",
    "rfcsv=cross_val_score(rf,x,y,cv=3)\n",
    "rf_cv_mean=rfcsv.mean()\n",
    "print('Cross validation Score: ',rf_cv_mean*100)"
   ]
  },
  {
   "cell_type": "code",
   "execution_count": null,
   "id": "9e0c5c9e",
   "metadata": {},
   "outputs": [],
   "source": [
    "Since "
   ]
  },
  {
   "cell_type": "markdown",
   "id": "f1af4ffb",
   "metadata": {},
   "source": [
    "# Saving the model:"
   ]
  },
  {
   "cell_type": "code",
   "execution_count": 60,
   "id": "e8ccbbd1",
   "metadata": {},
   "outputs": [],
   "source": [
    "import pickle\n",
    "filename='totalsalesprediction.pkl'\n",
    "pickle.dump(rf,open(filename,'wb'))"
   ]
  },
  {
   "cell_type": "markdown",
   "id": "1787e241",
   "metadata": {},
   "source": [
    "# Loading the Pickle File and checking the Score:"
   ]
  },
  {
   "cell_type": "code",
   "execution_count": 61,
   "id": "afa7cfc4",
   "metadata": {},
   "outputs": [
    {
     "name": "stdout",
     "output_type": "stream",
     "text": [
      "0.9762320350947515\n"
     ]
    }
   ],
   "source": [
    "loaded_model=pickle.load(open('totalsalesprediction.pkl','rb'))\n",
    "result=loaded_model.score(x_test,y_test)\n",
    "print(result)"
   ]
  },
  {
   "cell_type": "code",
   "execution_count": null,
   "id": "14bc400e",
   "metadata": {},
   "outputs": [],
   "source": [
    "#Conclusion:\n",
    "\n",
    "Here, we are displaying Original and Predicted outcome:Rings"
   ]
  },
  {
   "cell_type": "code",
   "execution_count": 62,
   "id": "ab232dc6",
   "metadata": {},
   "outputs": [
    {
     "data": {
      "text/html": [
       "<div>\n",
       "<style scoped>\n",
       "    .dataframe tbody tr th:only-of-type {\n",
       "        vertical-align: middle;\n",
       "    }\n",
       "\n",
       "    .dataframe tbody tr th {\n",
       "        vertical-align: top;\n",
       "    }\n",
       "\n",
       "    .dataframe thead th {\n",
       "        text-align: right;\n",
       "    }\n",
       "</style>\n",
       "<table border=\"1\" class=\"dataframe\">\n",
       "  <thead>\n",
       "    <tr style=\"text-align: right;\">\n",
       "      <th></th>\n",
       "      <th>Original_sales</th>\n",
       "      <th>Predicted_sales</th>\n",
       "    </tr>\n",
       "  </thead>\n",
       "  <tbody>\n",
       "    <tr>\n",
       "      <th>0</th>\n",
       "      <td>14.9</td>\n",
       "      <td>16.044</td>\n",
       "    </tr>\n",
       "    <tr>\n",
       "      <th>1</th>\n",
       "      <td>8.8</td>\n",
       "      <td>8.335</td>\n",
       "    </tr>\n",
       "    <tr>\n",
       "      <th>2</th>\n",
       "      <td>16.6</td>\n",
       "      <td>16.631</td>\n",
       "    </tr>\n",
       "    <tr>\n",
       "      <th>3</th>\n",
       "      <td>23.8</td>\n",
       "      <td>22.846</td>\n",
       "    </tr>\n",
       "    <tr>\n",
       "      <th>4</th>\n",
       "      <td>12.0</td>\n",
       "      <td>12.113</td>\n",
       "    </tr>\n",
       "    <tr>\n",
       "      <th>5</th>\n",
       "      <td>9.7</td>\n",
       "      <td>10.051</td>\n",
       "    </tr>\n",
       "    <tr>\n",
       "      <th>6</th>\n",
       "      <td>19.0</td>\n",
       "      <td>19.235</td>\n",
       "    </tr>\n",
       "    <tr>\n",
       "      <th>7</th>\n",
       "      <td>11.8</td>\n",
       "      <td>11.809</td>\n",
       "    </tr>\n",
       "    <tr>\n",
       "      <th>8</th>\n",
       "      <td>18.5</td>\n",
       "      <td>18.186</td>\n",
       "    </tr>\n",
       "    <tr>\n",
       "      <th>9</th>\n",
       "      <td>8.5</td>\n",
       "      <td>7.742</td>\n",
       "    </tr>\n",
       "    <tr>\n",
       "      <th>10</th>\n",
       "      <td>10.8</td>\n",
       "      <td>10.314</td>\n",
       "    </tr>\n",
       "    <tr>\n",
       "      <th>11</th>\n",
       "      <td>10.1</td>\n",
       "      <td>9.954</td>\n",
       "    </tr>\n",
       "    <tr>\n",
       "      <th>12</th>\n",
       "      <td>11.7</td>\n",
       "      <td>12.558</td>\n",
       "    </tr>\n",
       "    <tr>\n",
       "      <th>13</th>\n",
       "      <td>17.4</td>\n",
       "      <td>16.120</td>\n",
       "    </tr>\n",
       "    <tr>\n",
       "      <th>14</th>\n",
       "      <td>15.7</td>\n",
       "      <td>15.303</td>\n",
       "    </tr>\n",
       "    <tr>\n",
       "      <th>15</th>\n",
       "      <td>8.7</td>\n",
       "      <td>8.933</td>\n",
       "    </tr>\n",
       "    <tr>\n",
       "      <th>16</th>\n",
       "      <td>14.1</td>\n",
       "      <td>14.649</td>\n",
       "    </tr>\n",
       "    <tr>\n",
       "      <th>17</th>\n",
       "      <td>9.7</td>\n",
       "      <td>9.817</td>\n",
       "    </tr>\n",
       "    <tr>\n",
       "      <th>18</th>\n",
       "      <td>22.3</td>\n",
       "      <td>22.065</td>\n",
       "    </tr>\n",
       "    <tr>\n",
       "      <th>19</th>\n",
       "      <td>10.8</td>\n",
       "      <td>10.512</td>\n",
       "    </tr>\n",
       "    <tr>\n",
       "      <th>20</th>\n",
       "      <td>19.6</td>\n",
       "      <td>19.574</td>\n",
       "    </tr>\n",
       "    <tr>\n",
       "      <th>21</th>\n",
       "      <td>7.6</td>\n",
       "      <td>7.015</td>\n",
       "    </tr>\n",
       "    <tr>\n",
       "      <th>22</th>\n",
       "      <td>12.8</td>\n",
       "      <td>12.477</td>\n",
       "    </tr>\n",
       "    <tr>\n",
       "      <th>23</th>\n",
       "      <td>10.1</td>\n",
       "      <td>10.477</td>\n",
       "    </tr>\n",
       "    <tr>\n",
       "      <th>24</th>\n",
       "      <td>17.3</td>\n",
       "      <td>18.149</td>\n",
       "    </tr>\n",
       "    <tr>\n",
       "      <th>25</th>\n",
       "      <td>8.6</td>\n",
       "      <td>9.457</td>\n",
       "    </tr>\n",
       "    <tr>\n",
       "      <th>26</th>\n",
       "      <td>20.7</td>\n",
       "      <td>19.635</td>\n",
       "    </tr>\n",
       "    <tr>\n",
       "      <th>27</th>\n",
       "      <td>11.7</td>\n",
       "      <td>12.500</td>\n",
       "    </tr>\n",
       "    <tr>\n",
       "      <th>28</th>\n",
       "      <td>15.0</td>\n",
       "      <td>16.026</td>\n",
       "    </tr>\n",
       "    <tr>\n",
       "      <th>29</th>\n",
       "      <td>14.5</td>\n",
       "      <td>15.220</td>\n",
       "    </tr>\n",
       "    <tr>\n",
       "      <th>30</th>\n",
       "      <td>25.4</td>\n",
       "      <td>23.740</td>\n",
       "    </tr>\n",
       "    <tr>\n",
       "      <th>31</th>\n",
       "      <td>22.1</td>\n",
       "      <td>21.601</td>\n",
       "    </tr>\n",
       "    <tr>\n",
       "      <th>32</th>\n",
       "      <td>19.8</td>\n",
       "      <td>18.583</td>\n",
       "    </tr>\n",
       "    <tr>\n",
       "      <th>33</th>\n",
       "      <td>17.3</td>\n",
       "      <td>16.582</td>\n",
       "    </tr>\n",
       "    <tr>\n",
       "      <th>34</th>\n",
       "      <td>11.6</td>\n",
       "      <td>11.616</td>\n",
       "    </tr>\n",
       "    <tr>\n",
       "      <th>35</th>\n",
       "      <td>11.3</td>\n",
       "      <td>11.447</td>\n",
       "    </tr>\n",
       "    <tr>\n",
       "      <th>36</th>\n",
       "      <td>18.0</td>\n",
       "      <td>16.510</td>\n",
       "    </tr>\n",
       "    <tr>\n",
       "      <th>37</th>\n",
       "      <td>15.0</td>\n",
       "      <td>14.905</td>\n",
       "    </tr>\n",
       "    <tr>\n",
       "      <th>38</th>\n",
       "      <td>12.9</td>\n",
       "      <td>13.922</td>\n",
       "    </tr>\n",
       "    <tr>\n",
       "      <th>39</th>\n",
       "      <td>18.9</td>\n",
       "      <td>18.388</td>\n",
       "    </tr>\n",
       "  </tbody>\n",
       "</table>\n",
       "</div>"
      ],
      "text/plain": [
       "    Original_sales  Predicted_sales\n",
       "0             14.9           16.044\n",
       "1              8.8            8.335\n",
       "2             16.6           16.631\n",
       "3             23.8           22.846\n",
       "4             12.0           12.113\n",
       "5              9.7           10.051\n",
       "6             19.0           19.235\n",
       "7             11.8           11.809\n",
       "8             18.5           18.186\n",
       "9              8.5            7.742\n",
       "10            10.8           10.314\n",
       "11            10.1            9.954\n",
       "12            11.7           12.558\n",
       "13            17.4           16.120\n",
       "14            15.7           15.303\n",
       "15             8.7            8.933\n",
       "16            14.1           14.649\n",
       "17             9.7            9.817\n",
       "18            22.3           22.065\n",
       "19            10.8           10.512\n",
       "20            19.6           19.574\n",
       "21             7.6            7.015\n",
       "22            12.8           12.477\n",
       "23            10.1           10.477\n",
       "24            17.3           18.149\n",
       "25             8.6            9.457\n",
       "26            20.7           19.635\n",
       "27            11.7           12.500\n",
       "28            15.0           16.026\n",
       "29            14.5           15.220\n",
       "30            25.4           23.740\n",
       "31            22.1           21.601\n",
       "32            19.8           18.583\n",
       "33            17.3           16.582\n",
       "34            11.6           11.616\n",
       "35            11.3           11.447\n",
       "36            18.0           16.510\n",
       "37            15.0           14.905\n",
       "38            12.9           13.922\n",
       "39            18.9           18.388"
      ]
     },
     "execution_count": 62,
     "metadata": {},
     "output_type": "execute_result"
    }
   ],
   "source": [
    "import numpy as np\n",
    "a=np.array(y_test)\n",
    "predicted=np.array(rf.predict(x_test))\n",
    "df_conclusion=pd.DataFrame({'Original_sales':a,'Predicted_sales':predicted},index=range(len(a)))\n",
    "df_conclusion"
   ]
  },
  {
   "cell_type": "code",
   "execution_count": null,
   "id": "4dde5c3b",
   "metadata": {},
   "outputs": [],
   "source": []
  }
 ],
 "metadata": {
  "kernelspec": {
   "display_name": "Python 3",
   "language": "python",
   "name": "python3"
  },
  "language_info": {
   "codemirror_mode": {
    "name": "ipython",
    "version": 3
   },
   "file_extension": ".py",
   "mimetype": "text/x-python",
   "name": "python",
   "nbconvert_exporter": "python",
   "pygments_lexer": "ipython3",
   "version": "3.8.8"
  }
 },
 "nbformat": 4,
 "nbformat_minor": 5
}
